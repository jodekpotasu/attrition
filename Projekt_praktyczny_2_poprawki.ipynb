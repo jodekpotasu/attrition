{
  "nbformat": 4,
  "nbformat_minor": 0,
  "metadata": {
    "colab": {
      "name": "Projekt praktyczny 2 poprawki",
      "provenance": [],
      "collapsed_sections": [],
      "include_colab_link": true
    },
    "kernelspec": {
      "display_name": "Python 3",
      "name": "python3"
    }
  },
  "cells": [
    {
      "cell_type": "markdown",
      "metadata": {
        "id": "view-in-github",
        "colab_type": "text"
      },
      "source": [
        "<a href=\"https://colab.research.google.com/github/jodekpotasu/classification42/blob/main/Projekt_praktyczny_2_poprawki.ipynb\" target=\"_parent\"><img src=\"https://colab.research.google.com/assets/colab-badge.svg\" alt=\"Open In Colab\"/></a>"
      ]
    },
    {
      "cell_type": "code",
      "metadata": {
        "id": "lqbFbGV6KM79"
      },
      "source": [
        "import sklearn\r\n",
        "from sklearn.preprocessing import StandardScaler\r\n",
        "from sklearn.model_selection import train_test_split\r\n",
        "import pandas as pd\r\n",
        "from sklearn.metrics import confusion_matrix, classification_report\r\n",
        "import seaborn as sns\r\n",
        "import numpy as np\r\n",
        "%matplotlib inline\r\n",
        "from sklearn.ensemble import BaggingClassifier\r\n",
        "from sklearn.naive_bayes import GaussianNB\r\n",
        "from sklearn.tree import DecisionTreeClassifier\r\n",
        "from google.colab import files\r\n",
        "from bs4 import BeautifulSoup\r\n",
        "import requests\r\n",
        "import re\r\n",
        "from sklearn.utils import resample\r\n",
        "from sklearn.preprocessing import StandardScaler\r\n",
        "from sklearn.preprocessing import LabelEncoder\r\n",
        "from sklearn.ensemble import AdaBoostClassifier\r\n",
        "from sklearn.ensemble import RandomForestClassifier\r\n",
        "import pandas as pd\r\n",
        "import plotly \r\n",
        "import plotly.graph_objects as go \r\n",
        "from plotly.offline import iplot \r\n",
        "import plotly.express as px\r\n",
        "import plotly.figure_factory as ff\r\n",
        "import pandas_profiling\r\n",
        "import numpy as np\r\n",
        "import matplotlib.pyplot as plt\r\n",
        "from sklearn.decomposition import PCA\r\n",
        "from sklearn import preprocessing\r\n",
        "from sklearn.preprocessing import StandardScaler\r\n",
        "scaler = StandardScaler()\r\n",
        "import xlwt\r\n",
        "from sklearn.linear_model import LinearRegression\r\n",
        "from sklearn import linear_model\r\n",
        "import statsmodels.api as sm\r\n",
        "from sklearn.tree import DecisionTreeRegressor\r\n",
        "from sklearn.tree import export_graphviz\r\n",
        "import seaborn as sns\r\n",
        "sns.set()\r\n",
        "%matplotlib inline\r\n",
        "from sklearn.model_selection import train_test_split\r\n",
        "import pandas as pd\r\n",
        "import seaborn as sns\r\n",
        "from sklearn.datasets import load_breast_cancer\r\n",
        "from sklearn.model_selection import train_test_split\r\n",
        "from sklearn.metrics import classification_report, confusion_matrix\r\n",
        "from sklearn.svm import SVC\r\n",
        "from sklearn.neighbors import KNeighborsClassifier\r\n"
      ],
      "execution_count": 445,
      "outputs": []
    },
    {
      "cell_type": "code",
      "metadata": {
        "id": "J_MP1C5bGiL-"
      },
      "source": [
        "url = 'https://raw.githubusercontent.com/jodekpotasu/classification42/main/df1.csv'\r\n",
        "trainingx = pd.read_csv(url)"
      ],
      "execution_count": 446,
      "outputs": []
    },
    {
      "cell_type": "code",
      "metadata": {
        "colab": {
          "base_uri": "https://localhost:8080/",
          "height": 588
        },
        "id": "Hb0c3tz0KfAf",
        "outputId": "98b1de95-5753-4341-8c2b-5f770a1ac9d8"
      },
      "source": [
        "trainingx"
      ],
      "execution_count": 447,
      "outputs": [
        {
          "output_type": "execute_result",
          "data": {
            "text/html": [
              "<div>\n",
              "<style scoped>\n",
              "    .dataframe tbody tr th:only-of-type {\n",
              "        vertical-align: middle;\n",
              "    }\n",
              "\n",
              "    .dataframe tbody tr th {\n",
              "        vertical-align: top;\n",
              "    }\n",
              "\n",
              "    .dataframe thead th {\n",
              "        text-align: right;\n",
              "    }\n",
              "</style>\n",
              "<table border=\"1\" class=\"dataframe\">\n",
              "  <thead>\n",
              "    <tr style=\"text-align: right;\">\n",
              "      <th></th>\n",
              "      <th>EmployeeNumber</th>\n",
              "      <th>Age</th>\n",
              "      <th>BusinessTravel</th>\n",
              "      <th>DailyRate</th>\n",
              "      <th>Department</th>\n",
              "      <th>DistanceFromHome</th>\n",
              "      <th>Education</th>\n",
              "      <th>EducationField</th>\n",
              "      <th>EmployeeCount</th>\n",
              "      <th>EnvironmentSatisfaction</th>\n",
              "      <th>Gender</th>\n",
              "      <th>HourlyRate</th>\n",
              "      <th>JobInvolvement</th>\n",
              "      <th>JobLevel</th>\n",
              "      <th>JobRole</th>\n",
              "      <th>JobSatisfaction</th>\n",
              "      <th>MaritalStatus</th>\n",
              "      <th>MonthlyIncome</th>\n",
              "      <th>MonthlyRate</th>\n",
              "      <th>NumCompaniesWorked</th>\n",
              "    </tr>\n",
              "  </thead>\n",
              "  <tbody>\n",
              "    <tr>\n",
              "      <th>0</th>\n",
              "      <td>104</td>\n",
              "      <td>30.0</td>\n",
              "      <td>Travel_Rarely</td>\n",
              "      <td>852.0</td>\n",
              "      <td>Research &amp; Development</td>\n",
              "      <td>1.0</td>\n",
              "      <td>1.0</td>\n",
              "      <td>Life Sciences</td>\n",
              "      <td>1.0</td>\n",
              "      <td>4.0</td>\n",
              "      <td>Male</td>\n",
              "      <td>55.0</td>\n",
              "      <td>2.0</td>\n",
              "      <td>2.0</td>\n",
              "      <td>Laboratory Technician</td>\n",
              "      <td>4.0</td>\n",
              "      <td>Married</td>\n",
              "      <td>5126.0</td>\n",
              "      <td>15998.0</td>\n",
              "      <td>1.0</td>\n",
              "    </tr>\n",
              "    <tr>\n",
              "      <th>1</th>\n",
              "      <td>1638</td>\n",
              "      <td>38.0</td>\n",
              "      <td>Travel_Rarely</td>\n",
              "      <td>397.0</td>\n",
              "      <td>Research &amp; Development</td>\n",
              "      <td>2.0</td>\n",
              "      <td>2.0</td>\n",
              "      <td>Medical</td>\n",
              "      <td>1.0</td>\n",
              "      <td>4.0</td>\n",
              "      <td>Female</td>\n",
              "      <td>54.0</td>\n",
              "      <td>2.0</td>\n",
              "      <td>3.0</td>\n",
              "      <td>Manufacturing Director</td>\n",
              "      <td>3.0</td>\n",
              "      <td>Married</td>\n",
              "      <td>7756.0</td>\n",
              "      <td>14199.0</td>\n",
              "      <td>3.0</td>\n",
              "    </tr>\n",
              "    <tr>\n",
              "      <th>2</th>\n",
              "      <td>164</td>\n",
              "      <td>26.0</td>\n",
              "      <td>Travel_Rarely</td>\n",
              "      <td>841.0</td>\n",
              "      <td>Research &amp; Development</td>\n",
              "      <td>6.0</td>\n",
              "      <td>3.0</td>\n",
              "      <td>Other</td>\n",
              "      <td>1.0</td>\n",
              "      <td>3.0</td>\n",
              "      <td>Female</td>\n",
              "      <td>46.0</td>\n",
              "      <td>2.0</td>\n",
              "      <td>1.0</td>\n",
              "      <td>Research Scientist</td>\n",
              "      <td>2.0</td>\n",
              "      <td>Married</td>\n",
              "      <td>2368.0</td>\n",
              "      <td>23300.0</td>\n",
              "      <td>1.0</td>\n",
              "    </tr>\n",
              "    <tr>\n",
              "      <th>3</th>\n",
              "      <td>395</td>\n",
              "      <td>28.0</td>\n",
              "      <td>Travel_Rarely</td>\n",
              "      <td>1117.0</td>\n",
              "      <td>Research &amp; Development</td>\n",
              "      <td>8.0</td>\n",
              "      <td>2.0</td>\n",
              "      <td>Life Sciences</td>\n",
              "      <td>1.0</td>\n",
              "      <td>4.0</td>\n",
              "      <td>Female</td>\n",
              "      <td>66.0</td>\n",
              "      <td>3.0</td>\n",
              "      <td>1.0</td>\n",
              "      <td>Research Scientist</td>\n",
              "      <td>4.0</td>\n",
              "      <td>Single</td>\n",
              "      <td>3310.0</td>\n",
              "      <td>4488.0</td>\n",
              "      <td>1.0</td>\n",
              "    </tr>\n",
              "    <tr>\n",
              "      <th>4</th>\n",
              "      <td>53</td>\n",
              "      <td>35.0</td>\n",
              "      <td>Travel_Rarely</td>\n",
              "      <td>464.0</td>\n",
              "      <td>Research &amp; Development</td>\n",
              "      <td>4.0</td>\n",
              "      <td>2.0</td>\n",
              "      <td>Other</td>\n",
              "      <td>1.0</td>\n",
              "      <td>3.0</td>\n",
              "      <td>Male</td>\n",
              "      <td>75.0</td>\n",
              "      <td>3.0</td>\n",
              "      <td>1.0</td>\n",
              "      <td>Laboratory Technician</td>\n",
              "      <td>4.0</td>\n",
              "      <td>Divorced</td>\n",
              "      <td>1951.0</td>\n",
              "      <td>10910.0</td>\n",
              "      <td>1.0</td>\n",
              "    </tr>\n",
              "    <tr>\n",
              "      <th>...</th>\n",
              "      <td>...</td>\n",
              "      <td>...</td>\n",
              "      <td>...</td>\n",
              "      <td>...</td>\n",
              "      <td>...</td>\n",
              "      <td>...</td>\n",
              "      <td>...</td>\n",
              "      <td>...</td>\n",
              "      <td>...</td>\n",
              "      <td>...</td>\n",
              "      <td>...</td>\n",
              "      <td>...</td>\n",
              "      <td>...</td>\n",
              "      <td>...</td>\n",
              "      <td>...</td>\n",
              "      <td>...</td>\n",
              "      <td>...</td>\n",
              "      <td>...</td>\n",
              "      <td>...</td>\n",
              "      <td>...</td>\n",
              "    </tr>\n",
              "    <tr>\n",
              "      <th>4444</th>\n",
              "      <td>7975</td>\n",
              "      <td>8823.0</td>\n",
              "      <td>Travel_Rarely</td>\n",
              "      <td>621.0</td>\n",
              "      <td>Research &amp; Development</td>\n",
              "      <td>15.0</td>\n",
              "      <td>3.0</td>\n",
              "      <td>Medical</td>\n",
              "      <td>1.0</td>\n",
              "      <td>1.0</td>\n",
              "      <td>Female</td>\n",
              "      <td>73.0</td>\n",
              "      <td>3.0</td>\n",
              "      <td>3.0</td>\n",
              "      <td>Healthcare Representative</td>\n",
              "      <td>4.0</td>\n",
              "      <td>Married</td>\n",
              "      <td>7978.0</td>\n",
              "      <td>14075.0</td>\n",
              "      <td>1.0</td>\n",
              "    </tr>\n",
              "    <tr>\n",
              "      <th>4445</th>\n",
              "      <td>7976</td>\n",
              "      <td>8823.0</td>\n",
              "      <td>Travel_Rarely</td>\n",
              "      <td>621.0</td>\n",
              "      <td>Research &amp; Development</td>\n",
              "      <td>15.0</td>\n",
              "      <td>3.0</td>\n",
              "      <td>Medical</td>\n",
              "      <td>1.0</td>\n",
              "      <td>1.0</td>\n",
              "      <td>Female</td>\n",
              "      <td>73.0</td>\n",
              "      <td>3.0</td>\n",
              "      <td>3.0</td>\n",
              "      <td>Healthcare Representative</td>\n",
              "      <td>4.0</td>\n",
              "      <td>Married</td>\n",
              "      <td>7978.0</td>\n",
              "      <td>14075.0</td>\n",
              "      <td>1.0</td>\n",
              "    </tr>\n",
              "    <tr>\n",
              "      <th>4446</th>\n",
              "      <td>7977</td>\n",
              "      <td>44.0</td>\n",
              "      <td>Non-Travel</td>\n",
              "      <td>381.0</td>\n",
              "      <td>Research &amp; Development</td>\n",
              "      <td>918785.0</td>\n",
              "      <td>3.0</td>\n",
              "      <td>Medical</td>\n",
              "      <td>1.0</td>\n",
              "      <td>1.0</td>\n",
              "      <td>Male</td>\n",
              "      <td>49.0</td>\n",
              "      <td>1.0</td>\n",
              "      <td>1.0</td>\n",
              "      <td>Laboratory Technician</td>\n",
              "      <td>3.0</td>\n",
              "      <td>Single</td>\n",
              "      <td>3708.0</td>\n",
              "      <td>2104.0</td>\n",
              "      <td>2.0</td>\n",
              "    </tr>\n",
              "    <tr>\n",
              "      <th>4447</th>\n",
              "      <td>7978</td>\n",
              "      <td>44.0</td>\n",
              "      <td>Non-Travel</td>\n",
              "      <td>381.0</td>\n",
              "      <td>Research &amp; Development</td>\n",
              "      <td>918785.0</td>\n",
              "      <td>3.0</td>\n",
              "      <td>Medical</td>\n",
              "      <td>1.0</td>\n",
              "      <td>1.0</td>\n",
              "      <td>Male</td>\n",
              "      <td>49.0</td>\n",
              "      <td>1.0</td>\n",
              "      <td>1.0</td>\n",
              "      <td>Laboratory Technician</td>\n",
              "      <td>3.0</td>\n",
              "      <td>Single</td>\n",
              "      <td>3708.0</td>\n",
              "      <td>2104.0</td>\n",
              "      <td>2.0</td>\n",
              "    </tr>\n",
              "    <tr>\n",
              "      <th>4448</th>\n",
              "      <td>7979</td>\n",
              "      <td>44.0</td>\n",
              "      <td>Non-Travel</td>\n",
              "      <td>381.0</td>\n",
              "      <td>Research &amp; Development</td>\n",
              "      <td>918785.0</td>\n",
              "      <td>3.0</td>\n",
              "      <td>Medical</td>\n",
              "      <td>1.0</td>\n",
              "      <td>1.0</td>\n",
              "      <td>Male</td>\n",
              "      <td>49.0</td>\n",
              "      <td>1.0</td>\n",
              "      <td>1.0</td>\n",
              "      <td>Laboratory Technician</td>\n",
              "      <td>3.0</td>\n",
              "      <td>Single</td>\n",
              "      <td>3708.0</td>\n",
              "      <td>2104.0</td>\n",
              "      <td>2.0</td>\n",
              "    </tr>\n",
              "  </tbody>\n",
              "</table>\n",
              "<p>4449 rows × 20 columns</p>\n",
              "</div>"
            ],
            "text/plain": [
              "      EmployeeNumber     Age  ... MonthlyRate  NumCompaniesWorked\n",
              "0                104    30.0  ...     15998.0                 1.0\n",
              "1               1638    38.0  ...     14199.0                 3.0\n",
              "2                164    26.0  ...     23300.0                 1.0\n",
              "3                395    28.0  ...      4488.0                 1.0\n",
              "4                 53    35.0  ...     10910.0                 1.0\n",
              "...              ...     ...  ...         ...                 ...\n",
              "4444            7975  8823.0  ...     14075.0                 1.0\n",
              "4445            7976  8823.0  ...     14075.0                 1.0\n",
              "4446            7977    44.0  ...      2104.0                 2.0\n",
              "4447            7978    44.0  ...      2104.0                 2.0\n",
              "4448            7979    44.0  ...      2104.0                 2.0\n",
              "\n",
              "[4449 rows x 20 columns]"
            ]
          },
          "metadata": {
            "tags": []
          },
          "execution_count": 447
        }
      ]
    },
    {
      "cell_type": "code",
      "metadata": {
        "id": "7WRqmkPfGkhJ"
      },
      "source": [
        "url = 'https://raw.githubusercontent.com/jodekpotasu/classification42/main/attrition.csv'\r\n",
        "trainingy = pd.read_csv(url)"
      ],
      "execution_count": 448,
      "outputs": []
    },
    {
      "cell_type": "code",
      "metadata": {
        "colab": {
          "base_uri": "https://localhost:8080/",
          "height": 399
        },
        "id": "iUotUnKtKjNf",
        "outputId": "bcfe8940-0340-46d6-d204-4fafc93895e3"
      },
      "source": [
        "trainingy"
      ],
      "execution_count": 449,
      "outputs": [
        {
          "output_type": "execute_result",
          "data": {
            "text/html": [
              "<div>\n",
              "<style scoped>\n",
              "    .dataframe tbody tr th:only-of-type {\n",
              "        vertical-align: middle;\n",
              "    }\n",
              "\n",
              "    .dataframe tbody tr th {\n",
              "        vertical-align: top;\n",
              "    }\n",
              "\n",
              "    .dataframe thead th {\n",
              "        text-align: right;\n",
              "    }\n",
              "</style>\n",
              "<table border=\"1\" class=\"dataframe\">\n",
              "  <thead>\n",
              "    <tr style=\"text-align: right;\">\n",
              "      <th></th>\n",
              "      <th>EmployeeNumber</th>\n",
              "      <th>Attrition</th>\n",
              "    </tr>\n",
              "  </thead>\n",
              "  <tbody>\n",
              "    <tr>\n",
              "      <th>0</th>\n",
              "      <td>104</td>\n",
              "      <td>No</td>\n",
              "    </tr>\n",
              "    <tr>\n",
              "      <th>1</th>\n",
              "      <td>1638</td>\n",
              "      <td>No</td>\n",
              "    </tr>\n",
              "    <tr>\n",
              "      <th>2</th>\n",
              "      <td>164</td>\n",
              "      <td>No</td>\n",
              "    </tr>\n",
              "    <tr>\n",
              "      <th>3</th>\n",
              "      <td>395</td>\n",
              "      <td>No</td>\n",
              "    </tr>\n",
              "    <tr>\n",
              "      <th>4</th>\n",
              "      <td>53</td>\n",
              "      <td>No</td>\n",
              "    </tr>\n",
              "    <tr>\n",
              "      <th>...</th>\n",
              "      <td>...</td>\n",
              "      <td>...</td>\n",
              "    </tr>\n",
              "    <tr>\n",
              "      <th>4444</th>\n",
              "      <td>7975</td>\n",
              "      <td>Yes</td>\n",
              "    </tr>\n",
              "    <tr>\n",
              "      <th>4445</th>\n",
              "      <td>7976</td>\n",
              "      <td>Yes</td>\n",
              "    </tr>\n",
              "    <tr>\n",
              "      <th>4446</th>\n",
              "      <td>7977</td>\n",
              "      <td>Yes</td>\n",
              "    </tr>\n",
              "    <tr>\n",
              "      <th>4447</th>\n",
              "      <td>7978</td>\n",
              "      <td>Yes</td>\n",
              "    </tr>\n",
              "    <tr>\n",
              "      <th>4448</th>\n",
              "      <td>7979</td>\n",
              "      <td>Yes</td>\n",
              "    </tr>\n",
              "  </tbody>\n",
              "</table>\n",
              "<p>4449 rows × 2 columns</p>\n",
              "</div>"
            ],
            "text/plain": [
              "      EmployeeNumber Attrition\n",
              "0                104        No\n",
              "1               1638        No\n",
              "2                164        No\n",
              "3                395        No\n",
              "4                 53        No\n",
              "...              ...       ...\n",
              "4444            7975       Yes\n",
              "4445            7976       Yes\n",
              "4446            7977       Yes\n",
              "4447            7978       Yes\n",
              "4448            7979       Yes\n",
              "\n",
              "[4449 rows x 2 columns]"
            ]
          },
          "metadata": {
            "tags": []
          },
          "execution_count": 449
        }
      ]
    },
    {
      "cell_type": "code",
      "metadata": {
        "id": "Y0rvWubmGlhn"
      },
      "source": [
        "url = 'https://raw.githubusercontent.com/jodekpotasu/classification42/main/df2.csv'\r\n",
        "testx = pd.read_csv(url)"
      ],
      "execution_count": 450,
      "outputs": []
    },
    {
      "cell_type": "code",
      "metadata": {
        "id": "KCjeKg4xGkmg"
      },
      "source": [
        "url = 'https://raw.githubusercontent.com/jodekpotasu/classification42/main/sample_output.csv'\r\n",
        "testy = pd.read_csv(url)"
      ],
      "execution_count": 451,
      "outputs": []
    },
    {
      "cell_type": "code",
      "metadata": {
        "id": "qbeLFPMGOETr"
      },
      "source": [
        "data = trainingx.merge(trainingy)"
      ],
      "execution_count": 452,
      "outputs": []
    },
    {
      "cell_type": "code",
      "metadata": {
        "colab": {
          "base_uri": "https://localhost:8080/",
          "height": 407
        },
        "id": "YJvB4IjKR72K",
        "outputId": "354f542b-ac3b-417a-d6ad-738c939cd257"
      },
      "source": [
        "data = data.drop(['EmployeeNumber','EmployeeCount','DailyRate',  'MonthlyRate'  ], axis=1)\r\n",
        "data.describe(include='all')"
      ],
      "execution_count": 453,
      "outputs": [
        {
          "output_type": "execute_result",
          "data": {
            "text/html": [
              "<div>\n",
              "<style scoped>\n",
              "    .dataframe tbody tr th:only-of-type {\n",
              "        vertical-align: middle;\n",
              "    }\n",
              "\n",
              "    .dataframe tbody tr th {\n",
              "        vertical-align: top;\n",
              "    }\n",
              "\n",
              "    .dataframe thead th {\n",
              "        text-align: right;\n",
              "    }\n",
              "</style>\n",
              "<table border=\"1\" class=\"dataframe\">\n",
              "  <thead>\n",
              "    <tr style=\"text-align: right;\">\n",
              "      <th></th>\n",
              "      <th>Age</th>\n",
              "      <th>BusinessTravel</th>\n",
              "      <th>Department</th>\n",
              "      <th>DistanceFromHome</th>\n",
              "      <th>Education</th>\n",
              "      <th>EducationField</th>\n",
              "      <th>EnvironmentSatisfaction</th>\n",
              "      <th>Gender</th>\n",
              "      <th>HourlyRate</th>\n",
              "      <th>JobInvolvement</th>\n",
              "      <th>JobLevel</th>\n",
              "      <th>JobRole</th>\n",
              "      <th>JobSatisfaction</th>\n",
              "      <th>MaritalStatus</th>\n",
              "      <th>MonthlyIncome</th>\n",
              "      <th>NumCompaniesWorked</th>\n",
              "      <th>Attrition</th>\n",
              "    </tr>\n",
              "  </thead>\n",
              "  <tbody>\n",
              "    <tr>\n",
              "      <th>count</th>\n",
              "      <td>4449.000000</td>\n",
              "      <td>4449</td>\n",
              "      <td>4449</td>\n",
              "      <td>4449.000000</td>\n",
              "      <td>4449.000000</td>\n",
              "      <td>4449</td>\n",
              "      <td>4449.000000</td>\n",
              "      <td>4449</td>\n",
              "      <td>4449.000000</td>\n",
              "      <td>4449.000000</td>\n",
              "      <td>4449.000000</td>\n",
              "      <td>4449</td>\n",
              "      <td>4449.000000</td>\n",
              "      <td>4449</td>\n",
              "      <td>4449.000000</td>\n",
              "      <td>4449.000000</td>\n",
              "      <td>4302</td>\n",
              "    </tr>\n",
              "    <tr>\n",
              "      <th>unique</th>\n",
              "      <td>NaN</td>\n",
              "      <td>3</td>\n",
              "      <td>3</td>\n",
              "      <td>NaN</td>\n",
              "      <td>NaN</td>\n",
              "      <td>6</td>\n",
              "      <td>NaN</td>\n",
              "      <td>2</td>\n",
              "      <td>NaN</td>\n",
              "      <td>NaN</td>\n",
              "      <td>NaN</td>\n",
              "      <td>9</td>\n",
              "      <td>NaN</td>\n",
              "      <td>3</td>\n",
              "      <td>NaN</td>\n",
              "      <td>NaN</td>\n",
              "      <td>2</td>\n",
              "    </tr>\n",
              "    <tr>\n",
              "      <th>top</th>\n",
              "      <td>NaN</td>\n",
              "      <td>Travel_Rarely</td>\n",
              "      <td>Research &amp; Development</td>\n",
              "      <td>NaN</td>\n",
              "      <td>NaN</td>\n",
              "      <td>Life Sciences</td>\n",
              "      <td>NaN</td>\n",
              "      <td>Male</td>\n",
              "      <td>NaN</td>\n",
              "      <td>NaN</td>\n",
              "      <td>NaN</td>\n",
              "      <td>Sales Executive</td>\n",
              "      <td>NaN</td>\n",
              "      <td>Married</td>\n",
              "      <td>NaN</td>\n",
              "      <td>NaN</td>\n",
              "      <td>Yes</td>\n",
              "    </tr>\n",
              "    <tr>\n",
              "      <th>freq</th>\n",
              "      <td>NaN</td>\n",
              "      <td>3147</td>\n",
              "      <td>2916</td>\n",
              "      <td>NaN</td>\n",
              "      <td>NaN</td>\n",
              "      <td>1823</td>\n",
              "      <td>NaN</td>\n",
              "      <td>2681</td>\n",
              "      <td>NaN</td>\n",
              "      <td>NaN</td>\n",
              "      <td>NaN</td>\n",
              "      <td>983</td>\n",
              "      <td>NaN</td>\n",
              "      <td>2074</td>\n",
              "      <td>NaN</td>\n",
              "      <td>NaN</td>\n",
              "      <td>2222</td>\n",
              "    </tr>\n",
              "    <tr>\n",
              "      <th>mean</th>\n",
              "      <td>416.187458</td>\n",
              "      <td>NaN</td>\n",
              "      <td>NaN</td>\n",
              "      <td>33339.433356</td>\n",
              "      <td>2.909867</td>\n",
              "      <td>NaN</td>\n",
              "      <td>2.719263</td>\n",
              "      <td>NaN</td>\n",
              "      <td>65.977073</td>\n",
              "      <td>2.739492</td>\n",
              "      <td>2.053495</td>\n",
              "      <td>NaN</td>\n",
              "      <td>2.724882</td>\n",
              "      <td>NaN</td>\n",
              "      <td>6468.496067</td>\n",
              "      <td>2.681726</td>\n",
              "      <td>NaN</td>\n",
              "    </tr>\n",
              "    <tr>\n",
              "      <th>std</th>\n",
              "      <td>1566.205147</td>\n",
              "      <td>NaN</td>\n",
              "      <td>NaN</td>\n",
              "      <td>145352.131423</td>\n",
              "      <td>1.025184</td>\n",
              "      <td>NaN</td>\n",
              "      <td>1.093263</td>\n",
              "      <td>NaN</td>\n",
              "      <td>20.277369</td>\n",
              "      <td>0.712660</td>\n",
              "      <td>1.102979</td>\n",
              "      <td>NaN</td>\n",
              "      <td>1.107453</td>\n",
              "      <td>NaN</td>\n",
              "      <td>4682.905422</td>\n",
              "      <td>2.487077</td>\n",
              "      <td>NaN</td>\n",
              "    </tr>\n",
              "    <tr>\n",
              "      <th>min</th>\n",
              "      <td>18.000000</td>\n",
              "      <td>NaN</td>\n",
              "      <td>NaN</td>\n",
              "      <td>1.000000</td>\n",
              "      <td>1.000000</td>\n",
              "      <td>NaN</td>\n",
              "      <td>1.000000</td>\n",
              "      <td>NaN</td>\n",
              "      <td>30.000000</td>\n",
              "      <td>1.000000</td>\n",
              "      <td>1.000000</td>\n",
              "      <td>NaN</td>\n",
              "      <td>1.000000</td>\n",
              "      <td>NaN</td>\n",
              "      <td>1009.000000</td>\n",
              "      <td>0.000000</td>\n",
              "      <td>NaN</td>\n",
              "    </tr>\n",
              "    <tr>\n",
              "      <th>25%</th>\n",
              "      <td>31.000000</td>\n",
              "      <td>NaN</td>\n",
              "      <td>NaN</td>\n",
              "      <td>2.000000</td>\n",
              "      <td>2.000000</td>\n",
              "      <td>NaN</td>\n",
              "      <td>2.000000</td>\n",
              "      <td>NaN</td>\n",
              "      <td>48.000000</td>\n",
              "      <td>2.000000</td>\n",
              "      <td>1.000000</td>\n",
              "      <td>NaN</td>\n",
              "      <td>2.000000</td>\n",
              "      <td>NaN</td>\n",
              "      <td>2899.000000</td>\n",
              "      <td>1.000000</td>\n",
              "      <td>NaN</td>\n",
              "    </tr>\n",
              "    <tr>\n",
              "      <th>50%</th>\n",
              "      <td>36.000000</td>\n",
              "      <td>NaN</td>\n",
              "      <td>NaN</td>\n",
              "      <td>8.000000</td>\n",
              "      <td>3.000000</td>\n",
              "      <td>NaN</td>\n",
              "      <td>3.000000</td>\n",
              "      <td>NaN</td>\n",
              "      <td>66.000000</td>\n",
              "      <td>3.000000</td>\n",
              "      <td>2.000000</td>\n",
              "      <td>NaN</td>\n",
              "      <td>3.000000</td>\n",
              "      <td>NaN</td>\n",
              "      <td>4876.000000</td>\n",
              "      <td>2.000000</td>\n",
              "      <td>NaN</td>\n",
              "    </tr>\n",
              "    <tr>\n",
              "      <th>75%</th>\n",
              "      <td>45.000000</td>\n",
              "      <td>NaN</td>\n",
              "      <td>NaN</td>\n",
              "      <td>17.000000</td>\n",
              "      <td>4.000000</td>\n",
              "      <td>NaN</td>\n",
              "      <td>4.000000</td>\n",
              "      <td>NaN</td>\n",
              "      <td>84.000000</td>\n",
              "      <td>3.000000</td>\n",
              "      <td>3.000000</td>\n",
              "      <td>NaN</td>\n",
              "      <td>4.000000</td>\n",
              "      <td>NaN</td>\n",
              "      <td>8346.000000</td>\n",
              "      <td>4.000000</td>\n",
              "      <td>NaN</td>\n",
              "    </tr>\n",
              "    <tr>\n",
              "      <th>max</th>\n",
              "      <td>9890.000000</td>\n",
              "      <td>NaN</td>\n",
              "      <td>NaN</td>\n",
              "      <td>999590.000000</td>\n",
              "      <td>5.000000</td>\n",
              "      <td>NaN</td>\n",
              "      <td>4.000000</td>\n",
              "      <td>NaN</td>\n",
              "      <td>100.000000</td>\n",
              "      <td>4.000000</td>\n",
              "      <td>5.000000</td>\n",
              "      <td>NaN</td>\n",
              "      <td>4.000000</td>\n",
              "      <td>NaN</td>\n",
              "      <td>19999.000000</td>\n",
              "      <td>9.000000</td>\n",
              "      <td>NaN</td>\n",
              "    </tr>\n",
              "  </tbody>\n",
              "</table>\n",
              "</div>"
            ],
            "text/plain": [
              "                Age BusinessTravel  ... NumCompaniesWorked  Attrition\n",
              "count   4449.000000           4449  ...        4449.000000       4302\n",
              "unique          NaN              3  ...                NaN          2\n",
              "top             NaN  Travel_Rarely  ...                NaN        Yes\n",
              "freq            NaN           3147  ...                NaN       2222\n",
              "mean     416.187458            NaN  ...           2.681726        NaN\n",
              "std     1566.205147            NaN  ...           2.487077        NaN\n",
              "min       18.000000            NaN  ...           0.000000        NaN\n",
              "25%       31.000000            NaN  ...           1.000000        NaN\n",
              "50%       36.000000            NaN  ...           2.000000        NaN\n",
              "75%       45.000000            NaN  ...           4.000000        NaN\n",
              "max     9890.000000            NaN  ...           9.000000        NaN\n",
              "\n",
              "[11 rows x 17 columns]"
            ]
          },
          "metadata": {
            "tags": []
          },
          "execution_count": 453
        }
      ]
    },
    {
      "cell_type": "code",
      "metadata": {
        "colab": {
          "base_uri": "https://localhost:8080/",
          "height": 394
        },
        "id": "BDfghwm_WcM4",
        "outputId": "56f66025-5304-4ce3-fb63-948ef6cc9a7c"
      },
      "source": [
        "q = data['Age'].quantile(0.932)\r\n",
        "data1 = data[data['Age']<q]\r\n",
        "data1.describe(include = 'all')\r\n",
        "sns.distplot(data1['Age'])"
      ],
      "execution_count": 454,
      "outputs": [
        {
          "output_type": "stream",
          "text": [
            "/usr/local/lib/python3.6/dist-packages/seaborn/distributions.py:2551: FutureWarning:\n",
            "\n",
            "`distplot` is a deprecated function and will be removed in a future version. Please adapt your code to use either `displot` (a figure-level function with similar flexibility) or `histplot` (an axes-level function for histograms).\n",
            "\n"
          ],
          "name": "stderr"
        },
        {
          "output_type": "execute_result",
          "data": {
            "text/plain": [
              "<matplotlib.axes._subplots.AxesSubplot at 0x7fc2f2100e48>"
            ]
          },
          "metadata": {
            "tags": []
          },
          "execution_count": 454
        },
        {
          "output_type": "display_data",
          "data": {
            "image/png": "[encoded data removed]",
            "text/plain": [
              "<Figure size 432x288 with 1 Axes>"
            ]
          },
          "metadata": {
            "tags": [],
            "needs_background": "light"
          }
        }
      ]
    },
    {
      "cell_type": "code",
      "metadata": {
        "colab": {
          "base_uri": "https://localhost:8080/",
          "height": 394
        },
        "id": "ZNH5POPJYB2B",
        "outputId": "1d900353-658b-499b-fa3d-13202b6f6d3c"
      },
      "source": [
        "q = data1['DistanceFromHome'].quantile(0.93)\r\n",
        "data2 = data1[data1['DistanceFromHome']<q]\r\n",
        "data2.describe(include = 'all')\r\n",
        "sns.distplot(data2['DistanceFromHome'])"
      ],
      "execution_count": 455,
      "outputs": [
        {
          "output_type": "stream",
          "text": [
            "/usr/local/lib/python3.6/dist-packages/seaborn/distributions.py:2551: FutureWarning:\n",
            "\n",
            "`distplot` is a deprecated function and will be removed in a future version. Please adapt your code to use either `displot` (a figure-level function with similar flexibility) or `histplot` (an axes-level function for histograms).\n",
            "\n"
          ],
          "name": "stderr"
        },
        {
          "output_type": "execute_result",
          "data": {
            "text/plain": [
              "<matplotlib.axes._subplots.AxesSubplot at 0x7fc2f332ba90>"
            ]
          },
          "metadata": {
            "tags": []
          },
          "execution_count": 455
        },
        {
          "output_type": "display_data",
          "data": {
            "image/png": "[encoded data removed]",
            "text/plain": [
              "<Figure size 432x288 with 1 Axes>"
            ]
          },
          "metadata": {
            "tags": [],
            "needs_background": "light"
          }
        }
      ]
    },
    {
      "cell_type": "code",
      "metadata": {
        "colab": {
          "base_uri": "https://localhost:8080/",
          "height": 394
        },
        "id": "gxqo1ONtY5rp",
        "outputId": "1cf98918-38e8-4283-9468-c683337f17e0"
      },
      "source": [
        "q = data2['HourlyRate'].quantile(0.9999)\r\n",
        "data3 = data2[data2['HourlyRate' ]<q]\r\n",
        "data3.describe(include = 'all')\r\n",
        "sns.distplot(data3['HourlyRate' ])"
      ],
      "execution_count": 456,
      "outputs": [
        {
          "output_type": "stream",
          "text": [
            "/usr/local/lib/python3.6/dist-packages/seaborn/distributions.py:2551: FutureWarning:\n",
            "\n",
            "`distplot` is a deprecated function and will be removed in a future version. Please adapt your code to use either `displot` (a figure-level function with similar flexibility) or `histplot` (an axes-level function for histograms).\n",
            "\n"
          ],
          "name": "stderr"
        },
        {
          "output_type": "execute_result",
          "data": {
            "text/plain": [
              "<matplotlib.axes._subplots.AxesSubplot at 0x7fc2f24ea198>"
            ]
          },
          "metadata": {
            "tags": []
          },
          "execution_count": 456
        },
        {
          "output_type": "display_data",
          "data": {
            "image/png": "[encoded data removed]",
            "text/plain": [
              "<Figure size 432x288 with 1 Axes>"
            ]
          },
          "metadata": {
            "tags": [],
            "needs_background": "light"
          }
        }
      ]
    },
    {
      "cell_type": "code",
      "metadata": {
        "colab": {
          "base_uri": "https://localhost:8080/",
          "height": 394
        },
        "id": "fNwnp4jnZIrg",
        "outputId": "1417196d-49b9-4293-ea24-49cc10d20b44"
      },
      "source": [
        "q = data3['MonthlyIncome'].quantile(0.9999)\r\n",
        "data4 = data3[data3['MonthlyIncome']<q]\r\n",
        "data4.describe(include = 'all')\r\n",
        "sns.distplot(data4['MonthlyIncome'])"
      ],
      "execution_count": 457,
      "outputs": [
        {
          "output_type": "stream",
          "text": [
            "/usr/local/lib/python3.6/dist-packages/seaborn/distributions.py:2551: FutureWarning:\n",
            "\n",
            "`distplot` is a deprecated function and will be removed in a future version. Please adapt your code to use either `displot` (a figure-level function with similar flexibility) or `histplot` (an axes-level function for histograms).\n",
            "\n"
          ],
          "name": "stderr"
        },
        {
          "output_type": "execute_result",
          "data": {
            "text/plain": [
              "<matplotlib.axes._subplots.AxesSubplot at 0x7fc2f7d64c18>"
            ]
          },
          "metadata": {
            "tags": []
          },
          "execution_count": 457
        },
        {
          "output_type": "display_data",
          "data": {
            "image/png": "[encoded data removed]",
            "text/plain": [
              "<Figure size 432x288 with 1 Axes>"
            ]
          },
          "metadata": {
            "tags": [],
            "needs_background": "light"
          }
        }
      ]
    },
    {
      "cell_type": "code",
      "metadata": {
        "id": "qJCyecfibLYj"
      },
      "source": [
        "data4=data4.dropna()\r\n"
      ],
      "execution_count": 458,
      "outputs": []
    },
    {
      "cell_type": "code",
      "metadata": {
        "colab": {
          "base_uri": "https://localhost:8080/",
          "height": 588
        },
        "id": "yk6tX8Nwik3R",
        "outputId": "323b31ea-4ff6-40cb-92d0-007b3e5febfa"
      },
      "source": [
        "data4"
      ],
      "execution_count": 459,
      "outputs": [
        {
          "output_type": "execute_result",
          "data": {
            "text/html": [
              "<div>\n",
              "<style scoped>\n",
              "    .dataframe tbody tr th:only-of-type {\n",
              "        vertical-align: middle;\n",
              "    }\n",
              "\n",
              "    .dataframe tbody tr th {\n",
              "        vertical-align: top;\n",
              "    }\n",
              "\n",
              "    .dataframe thead th {\n",
              "        text-align: right;\n",
              "    }\n",
              "</style>\n",
              "<table border=\"1\" class=\"dataframe\">\n",
              "  <thead>\n",
              "    <tr style=\"text-align: right;\">\n",
              "      <th></th>\n",
              "      <th>Age</th>\n",
              "      <th>BusinessTravel</th>\n",
              "      <th>Department</th>\n",
              "      <th>DistanceFromHome</th>\n",
              "      <th>Education</th>\n",
              "      <th>EducationField</th>\n",
              "      <th>EnvironmentSatisfaction</th>\n",
              "      <th>Gender</th>\n",
              "      <th>HourlyRate</th>\n",
              "      <th>JobInvolvement</th>\n",
              "      <th>JobLevel</th>\n",
              "      <th>JobRole</th>\n",
              "      <th>JobSatisfaction</th>\n",
              "      <th>MaritalStatus</th>\n",
              "      <th>MonthlyIncome</th>\n",
              "      <th>NumCompaniesWorked</th>\n",
              "      <th>Attrition</th>\n",
              "    </tr>\n",
              "  </thead>\n",
              "  <tbody>\n",
              "    <tr>\n",
              "      <th>0</th>\n",
              "      <td>30.0</td>\n",
              "      <td>Travel_Rarely</td>\n",
              "      <td>Research &amp; Development</td>\n",
              "      <td>1.0</td>\n",
              "      <td>1.0</td>\n",
              "      <td>Life Sciences</td>\n",
              "      <td>4.0</td>\n",
              "      <td>Male</td>\n",
              "      <td>55.0</td>\n",
              "      <td>2.0</td>\n",
              "      <td>2.0</td>\n",
              "      <td>Laboratory Technician</td>\n",
              "      <td>4.0</td>\n",
              "      <td>Married</td>\n",
              "      <td>5126.0</td>\n",
              "      <td>1.0</td>\n",
              "      <td>No</td>\n",
              "    </tr>\n",
              "    <tr>\n",
              "      <th>1</th>\n",
              "      <td>38.0</td>\n",
              "      <td>Travel_Rarely</td>\n",
              "      <td>Research &amp; Development</td>\n",
              "      <td>2.0</td>\n",
              "      <td>2.0</td>\n",
              "      <td>Medical</td>\n",
              "      <td>4.0</td>\n",
              "      <td>Female</td>\n",
              "      <td>54.0</td>\n",
              "      <td>2.0</td>\n",
              "      <td>3.0</td>\n",
              "      <td>Manufacturing Director</td>\n",
              "      <td>3.0</td>\n",
              "      <td>Married</td>\n",
              "      <td>7756.0</td>\n",
              "      <td>3.0</td>\n",
              "      <td>No</td>\n",
              "    </tr>\n",
              "    <tr>\n",
              "      <th>2</th>\n",
              "      <td>26.0</td>\n",
              "      <td>Travel_Rarely</td>\n",
              "      <td>Research &amp; Development</td>\n",
              "      <td>6.0</td>\n",
              "      <td>3.0</td>\n",
              "      <td>Other</td>\n",
              "      <td>3.0</td>\n",
              "      <td>Female</td>\n",
              "      <td>46.0</td>\n",
              "      <td>2.0</td>\n",
              "      <td>1.0</td>\n",
              "      <td>Research Scientist</td>\n",
              "      <td>2.0</td>\n",
              "      <td>Married</td>\n",
              "      <td>2368.0</td>\n",
              "      <td>1.0</td>\n",
              "      <td>No</td>\n",
              "    </tr>\n",
              "    <tr>\n",
              "      <th>3</th>\n",
              "      <td>28.0</td>\n",
              "      <td>Travel_Rarely</td>\n",
              "      <td>Research &amp; Development</td>\n",
              "      <td>8.0</td>\n",
              "      <td>2.0</td>\n",
              "      <td>Life Sciences</td>\n",
              "      <td>4.0</td>\n",
              "      <td>Female</td>\n",
              "      <td>66.0</td>\n",
              "      <td>3.0</td>\n",
              "      <td>1.0</td>\n",
              "      <td>Research Scientist</td>\n",
              "      <td>4.0</td>\n",
              "      <td>Single</td>\n",
              "      <td>3310.0</td>\n",
              "      <td>1.0</td>\n",
              "      <td>No</td>\n",
              "    </tr>\n",
              "    <tr>\n",
              "      <th>4</th>\n",
              "      <td>35.0</td>\n",
              "      <td>Travel_Rarely</td>\n",
              "      <td>Research &amp; Development</td>\n",
              "      <td>4.0</td>\n",
              "      <td>2.0</td>\n",
              "      <td>Other</td>\n",
              "      <td>3.0</td>\n",
              "      <td>Male</td>\n",
              "      <td>75.0</td>\n",
              "      <td>3.0</td>\n",
              "      <td>1.0</td>\n",
              "      <td>Laboratory Technician</td>\n",
              "      <td>4.0</td>\n",
              "      <td>Divorced</td>\n",
              "      <td>1951.0</td>\n",
              "      <td>1.0</td>\n",
              "      <td>No</td>\n",
              "    </tr>\n",
              "    <tr>\n",
              "      <th>...</th>\n",
              "      <td>...</td>\n",
              "      <td>...</td>\n",
              "      <td>...</td>\n",
              "      <td>...</td>\n",
              "      <td>...</td>\n",
              "      <td>...</td>\n",
              "      <td>...</td>\n",
              "      <td>...</td>\n",
              "      <td>...</td>\n",
              "      <td>...</td>\n",
              "      <td>...</td>\n",
              "      <td>...</td>\n",
              "      <td>...</td>\n",
              "      <td>...</td>\n",
              "      <td>...</td>\n",
              "      <td>...</td>\n",
              "      <td>...</td>\n",
              "    </tr>\n",
              "    <tr>\n",
              "      <th>4438</th>\n",
              "      <td>41.0</td>\n",
              "      <td>Travel_Rarely</td>\n",
              "      <td>Research &amp; Development</td>\n",
              "      <td>28.0</td>\n",
              "      <td>4.0</td>\n",
              "      <td>Life Sciences</td>\n",
              "      <td>1.0</td>\n",
              "      <td>Female</td>\n",
              "      <td>60.0</td>\n",
              "      <td>2.0</td>\n",
              "      <td>4.0</td>\n",
              "      <td>Manufacturing Director</td>\n",
              "      <td>2.0</td>\n",
              "      <td>Married</td>\n",
              "      <td>13570.0</td>\n",
              "      <td>0.0</td>\n",
              "      <td>Yes</td>\n",
              "    </tr>\n",
              "    <tr>\n",
              "      <th>4439</th>\n",
              "      <td>41.0</td>\n",
              "      <td>Travel_Rarely</td>\n",
              "      <td>Research &amp; Development</td>\n",
              "      <td>28.0</td>\n",
              "      <td>4.0</td>\n",
              "      <td>Life Sciences</td>\n",
              "      <td>1.0</td>\n",
              "      <td>Female</td>\n",
              "      <td>60.0</td>\n",
              "      <td>2.0</td>\n",
              "      <td>4.0</td>\n",
              "      <td>Manufacturing Director</td>\n",
              "      <td>2.0</td>\n",
              "      <td>Married</td>\n",
              "      <td>13570.0</td>\n",
              "      <td>0.0</td>\n",
              "      <td>Yes</td>\n",
              "    </tr>\n",
              "    <tr>\n",
              "      <th>4440</th>\n",
              "      <td>42.0</td>\n",
              "      <td>Travel_Rarely</td>\n",
              "      <td>Research &amp; Development</td>\n",
              "      <td>6.0</td>\n",
              "      <td>3.0</td>\n",
              "      <td>Medical</td>\n",
              "      <td>3.0</td>\n",
              "      <td>Male</td>\n",
              "      <td>83.0</td>\n",
              "      <td>3.0</td>\n",
              "      <td>3.0</td>\n",
              "      <td>Research Director</td>\n",
              "      <td>1.0</td>\n",
              "      <td>Married</td>\n",
              "      <td>13348.0</td>\n",
              "      <td>9.0</td>\n",
              "      <td>Yes</td>\n",
              "    </tr>\n",
              "    <tr>\n",
              "      <th>4441</th>\n",
              "      <td>42.0</td>\n",
              "      <td>Travel_Rarely</td>\n",
              "      <td>Research &amp; Development</td>\n",
              "      <td>6.0</td>\n",
              "      <td>3.0</td>\n",
              "      <td>Medical</td>\n",
              "      <td>3.0</td>\n",
              "      <td>Male</td>\n",
              "      <td>83.0</td>\n",
              "      <td>3.0</td>\n",
              "      <td>3.0</td>\n",
              "      <td>Research Director</td>\n",
              "      <td>1.0</td>\n",
              "      <td>Married</td>\n",
              "      <td>13348.0</td>\n",
              "      <td>9.0</td>\n",
              "      <td>Yes</td>\n",
              "    </tr>\n",
              "    <tr>\n",
              "      <th>4442</th>\n",
              "      <td>42.0</td>\n",
              "      <td>Travel_Rarely</td>\n",
              "      <td>Research &amp; Development</td>\n",
              "      <td>6.0</td>\n",
              "      <td>3.0</td>\n",
              "      <td>Medical</td>\n",
              "      <td>3.0</td>\n",
              "      <td>Male</td>\n",
              "      <td>83.0</td>\n",
              "      <td>3.0</td>\n",
              "      <td>3.0</td>\n",
              "      <td>Research Director</td>\n",
              "      <td>1.0</td>\n",
              "      <td>Married</td>\n",
              "      <td>13348.0</td>\n",
              "      <td>9.0</td>\n",
              "      <td>No</td>\n",
              "    </tr>\n",
              "  </tbody>\n",
              "</table>\n",
              "<p>3596 rows × 17 columns</p>\n",
              "</div>"
            ],
            "text/plain": [
              "       Age BusinessTravel  ... NumCompaniesWorked  Attrition\n",
              "0     30.0  Travel_Rarely  ...                1.0         No\n",
              "1     38.0  Travel_Rarely  ...                3.0         No\n",
              "2     26.0  Travel_Rarely  ...                1.0         No\n",
              "3     28.0  Travel_Rarely  ...                1.0         No\n",
              "4     35.0  Travel_Rarely  ...                1.0         No\n",
              "...    ...            ...  ...                ...        ...\n",
              "4438  41.0  Travel_Rarely  ...                0.0        Yes\n",
              "4439  41.0  Travel_Rarely  ...                0.0        Yes\n",
              "4440  42.0  Travel_Rarely  ...                9.0        Yes\n",
              "4441  42.0  Travel_Rarely  ...                9.0        Yes\n",
              "4442  42.0  Travel_Rarely  ...                9.0         No\n",
              "\n",
              "[3596 rows x 17 columns]"
            ]
          },
          "metadata": {
            "tags": []
          },
          "execution_count": 459
        }
      ]
    },
    {
      "cell_type": "code",
      "metadata": {
        "colab": {
          "base_uri": "https://localhost:8080/",
          "height": 588
        },
        "id": "0KclsBi1cK4K",
        "outputId": "08be599f-46d0-4a28-c5e1-b14fd2cbfcdd"
      },
      "source": [
        "data4.isnull().sum(axis = 0)\r\n",
        "data4.reset_index(drop=True)"
      ],
      "execution_count": 460,
      "outputs": [
        {
          "output_type": "execute_result",
          "data": {
            "text/html": [
              "<div>\n",
              "<style scoped>\n",
              "    .dataframe tbody tr th:only-of-type {\n",
              "        vertical-align: middle;\n",
              "    }\n",
              "\n",
              "    .dataframe tbody tr th {\n",
              "        vertical-align: top;\n",
              "    }\n",
              "\n",
              "    .dataframe thead th {\n",
              "        text-align: right;\n",
              "    }\n",
              "</style>\n",
              "<table border=\"1\" class=\"dataframe\">\n",
              "  <thead>\n",
              "    <tr style=\"text-align: right;\">\n",
              "      <th></th>\n",
              "      <th>Age</th>\n",
              "      <th>BusinessTravel</th>\n",
              "      <th>Department</th>\n",
              "      <th>DistanceFromHome</th>\n",
              "      <th>Education</th>\n",
              "      <th>EducationField</th>\n",
              "      <th>EnvironmentSatisfaction</th>\n",
              "      <th>Gender</th>\n",
              "      <th>HourlyRate</th>\n",
              "      <th>JobInvolvement</th>\n",
              "      <th>JobLevel</th>\n",
              "      <th>JobRole</th>\n",
              "      <th>JobSatisfaction</th>\n",
              "      <th>MaritalStatus</th>\n",
              "      <th>MonthlyIncome</th>\n",
              "      <th>NumCompaniesWorked</th>\n",
              "      <th>Attrition</th>\n",
              "    </tr>\n",
              "  </thead>\n",
              "  <tbody>\n",
              "    <tr>\n",
              "      <th>0</th>\n",
              "      <td>30.0</td>\n",
              "      <td>Travel_Rarely</td>\n",
              "      <td>Research &amp; Development</td>\n",
              "      <td>1.0</td>\n",
              "      <td>1.0</td>\n",
              "      <td>Life Sciences</td>\n",
              "      <td>4.0</td>\n",
              "      <td>Male</td>\n",
              "      <td>55.0</td>\n",
              "      <td>2.0</td>\n",
              "      <td>2.0</td>\n",
              "      <td>Laboratory Technician</td>\n",
              "      <td>4.0</td>\n",
              "      <td>Married</td>\n",
              "      <td>5126.0</td>\n",
              "      <td>1.0</td>\n",
              "      <td>No</td>\n",
              "    </tr>\n",
              "    <tr>\n",
              "      <th>1</th>\n",
              "      <td>38.0</td>\n",
              "      <td>Travel_Rarely</td>\n",
              "      <td>Research &amp; Development</td>\n",
              "      <td>2.0</td>\n",
              "      <td>2.0</td>\n",
              "      <td>Medical</td>\n",
              "      <td>4.0</td>\n",
              "      <td>Female</td>\n",
              "      <td>54.0</td>\n",
              "      <td>2.0</td>\n",
              "      <td>3.0</td>\n",
              "      <td>Manufacturing Director</td>\n",
              "      <td>3.0</td>\n",
              "      <td>Married</td>\n",
              "      <td>7756.0</td>\n",
              "      <td>3.0</td>\n",
              "      <td>No</td>\n",
              "    </tr>\n",
              "    <tr>\n",
              "      <th>2</th>\n",
              "      <td>26.0</td>\n",
              "      <td>Travel_Rarely</td>\n",
              "      <td>Research &amp; Development</td>\n",
              "      <td>6.0</td>\n",
              "      <td>3.0</td>\n",
              "      <td>Other</td>\n",
              "      <td>3.0</td>\n",
              "      <td>Female</td>\n",
              "      <td>46.0</td>\n",
              "      <td>2.0</td>\n",
              "      <td>1.0</td>\n",
              "      <td>Research Scientist</td>\n",
              "      <td>2.0</td>\n",
              "      <td>Married</td>\n",
              "      <td>2368.0</td>\n",
              "      <td>1.0</td>\n",
              "      <td>No</td>\n",
              "    </tr>\n",
              "    <tr>\n",
              "      <th>3</th>\n",
              "      <td>28.0</td>\n",
              "      <td>Travel_Rarely</td>\n",
              "      <td>Research &amp; Development</td>\n",
              "      <td>8.0</td>\n",
              "      <td>2.0</td>\n",
              "      <td>Life Sciences</td>\n",
              "      <td>4.0</td>\n",
              "      <td>Female</td>\n",
              "      <td>66.0</td>\n",
              "      <td>3.0</td>\n",
              "      <td>1.0</td>\n",
              "      <td>Research Scientist</td>\n",
              "      <td>4.0</td>\n",
              "      <td>Single</td>\n",
              "      <td>3310.0</td>\n",
              "      <td>1.0</td>\n",
              "      <td>No</td>\n",
              "    </tr>\n",
              "    <tr>\n",
              "      <th>4</th>\n",
              "      <td>35.0</td>\n",
              "      <td>Travel_Rarely</td>\n",
              "      <td>Research &amp; Development</td>\n",
              "      <td>4.0</td>\n",
              "      <td>2.0</td>\n",
              "      <td>Other</td>\n",
              "      <td>3.0</td>\n",
              "      <td>Male</td>\n",
              "      <td>75.0</td>\n",
              "      <td>3.0</td>\n",
              "      <td>1.0</td>\n",
              "      <td>Laboratory Technician</td>\n",
              "      <td>4.0</td>\n",
              "      <td>Divorced</td>\n",
              "      <td>1951.0</td>\n",
              "      <td>1.0</td>\n",
              "      <td>No</td>\n",
              "    </tr>\n",
              "    <tr>\n",
              "      <th>...</th>\n",
              "      <td>...</td>\n",
              "      <td>...</td>\n",
              "      <td>...</td>\n",
              "      <td>...</td>\n",
              "      <td>...</td>\n",
              "      <td>...</td>\n",
              "      <td>...</td>\n",
              "      <td>...</td>\n",
              "      <td>...</td>\n",
              "      <td>...</td>\n",
              "      <td>...</td>\n",
              "      <td>...</td>\n",
              "      <td>...</td>\n",
              "      <td>...</td>\n",
              "      <td>...</td>\n",
              "      <td>...</td>\n",
              "      <td>...</td>\n",
              "    </tr>\n",
              "    <tr>\n",
              "      <th>3591</th>\n",
              "      <td>41.0</td>\n",
              "      <td>Travel_Rarely</td>\n",
              "      <td>Research &amp; Development</td>\n",
              "      <td>28.0</td>\n",
              "      <td>4.0</td>\n",
              "      <td>Life Sciences</td>\n",
              "      <td>1.0</td>\n",
              "      <td>Female</td>\n",
              "      <td>60.0</td>\n",
              "      <td>2.0</td>\n",
              "      <td>4.0</td>\n",
              "      <td>Manufacturing Director</td>\n",
              "      <td>2.0</td>\n",
              "      <td>Married</td>\n",
              "      <td>13570.0</td>\n",
              "      <td>0.0</td>\n",
              "      <td>Yes</td>\n",
              "    </tr>\n",
              "    <tr>\n",
              "      <th>3592</th>\n",
              "      <td>41.0</td>\n",
              "      <td>Travel_Rarely</td>\n",
              "      <td>Research &amp; Development</td>\n",
              "      <td>28.0</td>\n",
              "      <td>4.0</td>\n",
              "      <td>Life Sciences</td>\n",
              "      <td>1.0</td>\n",
              "      <td>Female</td>\n",
              "      <td>60.0</td>\n",
              "      <td>2.0</td>\n",
              "      <td>4.0</td>\n",
              "      <td>Manufacturing Director</td>\n",
              "      <td>2.0</td>\n",
              "      <td>Married</td>\n",
              "      <td>13570.0</td>\n",
              "      <td>0.0</td>\n",
              "      <td>Yes</td>\n",
              "    </tr>\n",
              "    <tr>\n",
              "      <th>3593</th>\n",
              "      <td>42.0</td>\n",
              "      <td>Travel_Rarely</td>\n",
              "      <td>Research &amp; Development</td>\n",
              "      <td>6.0</td>\n",
              "      <td>3.0</td>\n",
              "      <td>Medical</td>\n",
              "      <td>3.0</td>\n",
              "      <td>Male</td>\n",
              "      <td>83.0</td>\n",
              "      <td>3.0</td>\n",
              "      <td>3.0</td>\n",
              "      <td>Research Director</td>\n",
              "      <td>1.0</td>\n",
              "      <td>Married</td>\n",
              "      <td>13348.0</td>\n",
              "      <td>9.0</td>\n",
              "      <td>Yes</td>\n",
              "    </tr>\n",
              "    <tr>\n",
              "      <th>3594</th>\n",
              "      <td>42.0</td>\n",
              "      <td>Travel_Rarely</td>\n",
              "      <td>Research &amp; Development</td>\n",
              "      <td>6.0</td>\n",
              "      <td>3.0</td>\n",
              "      <td>Medical</td>\n",
              "      <td>3.0</td>\n",
              "      <td>Male</td>\n",
              "      <td>83.0</td>\n",
              "      <td>3.0</td>\n",
              "      <td>3.0</td>\n",
              "      <td>Research Director</td>\n",
              "      <td>1.0</td>\n",
              "      <td>Married</td>\n",
              "      <td>13348.0</td>\n",
              "      <td>9.0</td>\n",
              "      <td>Yes</td>\n",
              "    </tr>\n",
              "    <tr>\n",
              "      <th>3595</th>\n",
              "      <td>42.0</td>\n",
              "      <td>Travel_Rarely</td>\n",
              "      <td>Research &amp; Development</td>\n",
              "      <td>6.0</td>\n",
              "      <td>3.0</td>\n",
              "      <td>Medical</td>\n",
              "      <td>3.0</td>\n",
              "      <td>Male</td>\n",
              "      <td>83.0</td>\n",
              "      <td>3.0</td>\n",
              "      <td>3.0</td>\n",
              "      <td>Research Director</td>\n",
              "      <td>1.0</td>\n",
              "      <td>Married</td>\n",
              "      <td>13348.0</td>\n",
              "      <td>9.0</td>\n",
              "      <td>No</td>\n",
              "    </tr>\n",
              "  </tbody>\n",
              "</table>\n",
              "<p>3596 rows × 17 columns</p>\n",
              "</div>"
            ],
            "text/plain": [
              "       Age BusinessTravel  ... NumCompaniesWorked  Attrition\n",
              "0     30.0  Travel_Rarely  ...                1.0         No\n",
              "1     38.0  Travel_Rarely  ...                3.0         No\n",
              "2     26.0  Travel_Rarely  ...                1.0         No\n",
              "3     28.0  Travel_Rarely  ...                1.0         No\n",
              "4     35.0  Travel_Rarely  ...                1.0         No\n",
              "...    ...            ...  ...                ...        ...\n",
              "3591  41.0  Travel_Rarely  ...                0.0        Yes\n",
              "3592  41.0  Travel_Rarely  ...                0.0        Yes\n",
              "3593  42.0  Travel_Rarely  ...                9.0        Yes\n",
              "3594  42.0  Travel_Rarely  ...                9.0        Yes\n",
              "3595  42.0  Travel_Rarely  ...                9.0         No\n",
              "\n",
              "[3596 rows x 17 columns]"
            ]
          },
          "metadata": {
            "tags": []
          },
          "execution_count": 460
        }
      ]
    },
    {
      "cell_type": "code",
      "metadata": {
        "id": "HEJA_F3RhkGm"
      },
      "source": [
        "YN_mapping = {\"Yes\": 1, \"No\": 0}"
      ],
      "execution_count": 461,
      "outputs": []
    },
    {
      "cell_type": "code",
      "metadata": {
        "id": "9A2cMlt-hYGw"
      },
      "source": [
        "data4.iloc[:,-1] = data4.iloc[:,-1].map(YN_mapping)"
      ],
      "execution_count": 462,
      "outputs": []
    },
    {
      "cell_type": "code",
      "metadata": {
        "colab": {
          "base_uri": "https://localhost:8080/"
        },
        "id": "aNiS0uIP1yRh",
        "outputId": "881363f1-9dae-44fb-8373-71cf5f2e7aa3"
      },
      "source": [
        "data4.iloc[:,-1]"
      ],
      "execution_count": 463,
      "outputs": [
        {
          "output_type": "execute_result",
          "data": {
            "text/plain": [
              "0       0\n",
              "1       0\n",
              "2       0\n",
              "3       0\n",
              "4       0\n",
              "       ..\n",
              "4438    1\n",
              "4439    1\n",
              "4440    1\n",
              "4441    1\n",
              "4442    0\n",
              "Name: Attrition, Length: 3596, dtype: int64"
            ]
          },
          "metadata": {
            "tags": []
          },
          "execution_count": 463
        }
      ]
    },
    {
      "cell_type": "code",
      "metadata": {
        "id": "NeCXN1JeUarf"
      },
      "source": [
        "forscaling = data4.loc[:,['Age','DistanceFromHome', 'HourlyRate', 'MonthlyIncome']]\r\n"
      ],
      "execution_count": 464,
      "outputs": []
    },
    {
      "cell_type": "code",
      "metadata": {
        "colab": {
          "base_uri": "https://localhost:8080/",
          "height": 530
        },
        "id": "O9xejhm0Nqa4",
        "outputId": "3213b401-64ca-4af5-8e99-4f73eb8212f8"
      },
      "source": [
        "Age_YAC_NCW = data4[[ 'MonthlyIncome','Attrition']]\r\n",
        "Age_YAC_NCW.head()\r\n",
        "AYN_melt = Age_YAC_NCW.melt(['Attrition'], var_name='cols',  value_name='vals')\r\n",
        "AYN_melt.head()\r\n",
        "g = sns.FacetGrid(AYN_melt, col='cols', hue=\"Attrition\", palette=\"Set1\",size=4)\r\n",
        "g = (g.map(sns.distplot, \"vals\", hist=False, rug=False, kde_kws={\"shade\": True}).add_legend())\r\n",
        "#Focus on the red area--distribution of Attrition\r\n",
        "#Lots of attrition among the 'young' employees (for Age or for YearsAtCompany)-- not surprising -- trial to find a suit -- company culture.. \r\n",
        "#Those who have worked in more than 5 companies tend to attrit. -- The average time spent in every company is shorter -- HR insight.."
      ],
      "execution_count": 465,
      "outputs": [
        {
          "output_type": "stream",
          "text": [
            "/usr/local/lib/python3.6/dist-packages/seaborn/axisgrid.py:316: UserWarning:\n",
            "\n",
            "The `size` parameter has been renamed to `height`; please update your code.\n",
            "\n",
            "/usr/local/lib/python3.6/dist-packages/seaborn/distributions.py:2551: FutureWarning:\n",
            "\n",
            "`distplot` is a deprecated function and will be removed in a future version. Please adapt your code to use either `displot` (a figure-level function with similar flexibility) or `kdeplot` (an axes-level function for kernel density plots).\n",
            "\n",
            "/usr/local/lib/python3.6/dist-packages/seaborn/distributions.py:2551: FutureWarning:\n",
            "\n",
            "`distplot` is a deprecated function and will be removed in a future version. Please adapt your code to use either `displot` (a figure-level function with similar flexibility) or `kdeplot` (an axes-level function for kernel density plots).\n",
            "\n"
          ],
          "name": "stderr"
        },
        {
          "output_type": "display_data",
          "data": {
            "image/png": "[encoded data removed]",
            "text/plain": [
              "<Figure size 345.675x288 with 1 Axes>"
            ]
          },
          "metadata": {
            "tags": [],
            "needs_background": "light"
          }
        }
      ]
    },
    {
      "cell_type": "code",
      "metadata": {
        "colab": {
          "base_uri": "https://localhost:8080/",
          "height": 530
        },
        "id": "WbQNRwBvQ0QD",
        "outputId": "fd45d486-e11d-4a0a-a283-378eb228505a"
      },
      "source": [
        "Age_YAC_NCW = data4[[ 'HourlyRate','Attrition']]\r\n",
        "Age_YAC_NCW.head()\r\n",
        "AYN_melt = Age_YAC_NCW.melt(['Attrition'], var_name='cols',  value_name='vals')\r\n",
        "AYN_melt.head()\r\n",
        "g = sns.FacetGrid(AYN_melt, col='cols', hue=\"Attrition\", palette=\"Set1\",size=4)\r\n",
        "g = (g.map(sns.distplot, \"vals\", hist=False, rug=False, kde_kws={\"shade\": True}).add_legend())\r\n",
        "#Focus on the red area--distribution of Attrition\r\n",
        "#Lots of attrition among the 'young' employees (for Age or for YearsAtCompany)-- not surprising -- trial to find a suit -- company culture.. \r\n",
        "#Those who have worked in more than 5 companies tend to attrit. -- The average time spent in every company is shorter -- HR insight.."
      ],
      "execution_count": 466,
      "outputs": [
        {
          "output_type": "stream",
          "text": [
            "/usr/local/lib/python3.6/dist-packages/seaborn/axisgrid.py:316: UserWarning:\n",
            "\n",
            "The `size` parameter has been renamed to `height`; please update your code.\n",
            "\n",
            "/usr/local/lib/python3.6/dist-packages/seaborn/distributions.py:2551: FutureWarning:\n",
            "\n",
            "`distplot` is a deprecated function and will be removed in a future version. Please adapt your code to use either `displot` (a figure-level function with similar flexibility) or `kdeplot` (an axes-level function for kernel density plots).\n",
            "\n",
            "/usr/local/lib/python3.6/dist-packages/seaborn/distributions.py:2551: FutureWarning:\n",
            "\n",
            "`distplot` is a deprecated function and will be removed in a future version. Please adapt your code to use either `displot` (a figure-level function with similar flexibility) or `kdeplot` (an axes-level function for kernel density plots).\n",
            "\n"
          ],
          "name": "stderr"
        },
        {
          "output_type": "display_data",
          "data": {
            "image/png": "[encoded data removed]",
            "text/plain": [
              "<Figure size 345.675x288 with 1 Axes>"
            ]
          },
          "metadata": {
            "tags": [],
            "needs_background": "light"
          }
        }
      ]
    },
    {
      "cell_type": "code",
      "metadata": {
        "colab": {
          "base_uri": "https://localhost:8080/",
          "height": 530
        },
        "id": "ytbVG_v6KUH4",
        "outputId": "63b1c826-f9c1-4ce6-a93d-2788f4f4e803"
      },
      "source": [
        "Age_YAC_NCW = data4[['Age','Attrition']]\r\n",
        "Age_YAC_NCW.head()\r\n",
        "AYN_melt = Age_YAC_NCW.melt(['Attrition'], var_name='cols',  value_name='vals')\r\n",
        "AYN_melt.head()\r\n",
        "g = sns.FacetGrid(AYN_melt, col='cols', hue=\"Attrition\", palette=\"Set1\",size=4)\r\n",
        "g = (g.map(sns.distplot, \"vals\", hist=False, rug=False, kde_kws={\"shade\": True}).add_legend())\r\n",
        "#Focus on the red area--distribution of Attrition\r\n",
        "#Lots of attrition among the 'young' employees (for Age or for YearsAtCompany)-- not surprising -- trial to find a suit -- company culture.. \r\n",
        "#Those who have worked in more than 5 companies tend to attrit. -- The average time spent in every company is shorter -- HR insight.."
      ],
      "execution_count": 467,
      "outputs": [
        {
          "output_type": "stream",
          "text": [
            "/usr/local/lib/python3.6/dist-packages/seaborn/axisgrid.py:316: UserWarning:\n",
            "\n",
            "The `size` parameter has been renamed to `height`; please update your code.\n",
            "\n",
            "/usr/local/lib/python3.6/dist-packages/seaborn/distributions.py:2551: FutureWarning:\n",
            "\n",
            "`distplot` is a deprecated function and will be removed in a future version. Please adapt your code to use either `displot` (a figure-level function with similar flexibility) or `kdeplot` (an axes-level function for kernel density plots).\n",
            "\n",
            "/usr/local/lib/python3.6/dist-packages/seaborn/distributions.py:2551: FutureWarning:\n",
            "\n",
            "`distplot` is a deprecated function and will be removed in a future version. Please adapt your code to use either `displot` (a figure-level function with similar flexibility) or `kdeplot` (an axes-level function for kernel density plots).\n",
            "\n"
          ],
          "name": "stderr"
        },
        {
          "output_type": "display_data",
          "data": {
            "image/png": "[encoded data removed]",
            "text/plain": [
              "<Figure size 345.675x288 with 1 Axes>"
            ]
          },
          "metadata": {
            "tags": [],
            "needs_background": "light"
          }
        }
      ]
    },
    {
      "cell_type": "code",
      "metadata": {
        "colab": {
          "base_uri": "https://localhost:8080/",
          "height": 530
        },
        "id": "QrXRPDWcLcC2",
        "outputId": "591f351c-380c-4220-eec0-c6b96f7a7e85"
      },
      "source": [
        "Age_YAC_NCW = data4[['DistanceFromHome','Attrition']]\r\n",
        "Age_YAC_NCW.head()\r\n",
        "AYN_melt = Age_YAC_NCW.melt(['Attrition'], var_name='cols',  value_name='vals')\r\n",
        "AYN_melt.head()\r\n",
        "g = sns.FacetGrid(AYN_melt, col='cols', hue=\"Attrition\", palette=\"Set1\",size=4)\r\n",
        "g = (g.map(sns.distplot, \"vals\", hist=False, rug=False, kde_kws={\"shade\": True}).add_legend())\r\n",
        "#Focus on the red area--distribution of Attrition\r\n",
        "#Lots of attrition among the 'young' employees (for Age or for YearsAtCompany)-- not surprising -- trial to find a suit -- company culture.. \r\n",
        "#Those who have worked in more than 5 companies tend to attrit. -- The average time spent in every company is shorter -- HR insight.."
      ],
      "execution_count": 468,
      "outputs": [
        {
          "output_type": "stream",
          "text": [
            "/usr/local/lib/python3.6/dist-packages/seaborn/axisgrid.py:316: UserWarning:\n",
            "\n",
            "The `size` parameter has been renamed to `height`; please update your code.\n",
            "\n",
            "/usr/local/lib/python3.6/dist-packages/seaborn/distributions.py:2551: FutureWarning:\n",
            "\n",
            "`distplot` is a deprecated function and will be removed in a future version. Please adapt your code to use either `displot` (a figure-level function with similar flexibility) or `kdeplot` (an axes-level function for kernel density plots).\n",
            "\n",
            "/usr/local/lib/python3.6/dist-packages/seaborn/distributions.py:2551: FutureWarning:\n",
            "\n",
            "`distplot` is a deprecated function and will be removed in a future version. Please adapt your code to use either `displot` (a figure-level function with similar flexibility) or `kdeplot` (an axes-level function for kernel density plots).\n",
            "\n"
          ],
          "name": "stderr"
        },
        {
          "output_type": "display_data",
          "data": {
            "image/png": "[encoded data removed]",
            "text/plain": [
              "<Figure size 345.675x288 with 1 Axes>"
            ]
          },
          "metadata": {
            "tags": [],
            "needs_background": "light"
          }
        }
      ]
    },
    {
      "cell_type": "code",
      "metadata": {
        "colab": {
          "base_uri": "https://localhost:8080/",
          "height": 957
        },
        "id": "GVKiU2zBM9tS",
        "outputId": "30a3edf0-85b7-4d94-a4cf-6c5313a926f7"
      },
      "source": [
        "Age_YAC_NCW = data4[[ 'Education', 'JobInvolvement','JobSatisfaction', 'NumCompaniesWorked', 'Attrition']]\r\n",
        "Age_YAC_NCW.head()\r\n",
        "AYN_melt = Age_YAC_NCW.melt(['Attrition'], var_name='cols',  value_name='vals')\r\n",
        "AYN_melt.head()\r\n",
        "g = sns.FacetGrid(AYN_melt, col='cols', hue=\"Attrition\", palette=\"Set1\",size=4)\r\n",
        "g = (g.map(sns.distplot, \"vals\", hist=False, rug=False, kde_kws={\"shade\": True}).add_legend())\r\n"
      ],
      "execution_count": 470,
      "outputs": [
        {
          "output_type": "stream",
          "text": [
            "/usr/local/lib/python3.6/dist-packages/seaborn/axisgrid.py:316: UserWarning:\n",
            "\n",
            "The `size` parameter has been renamed to `height`; please update your code.\n",
            "\n",
            "/usr/local/lib/python3.6/dist-packages/seaborn/distributions.py:2551: FutureWarning:\n",
            "\n",
            "`distplot` is a deprecated function and will be removed in a future version. Please adapt your code to use either `displot` (a figure-level function with similar flexibility) or `kdeplot` (an axes-level function for kernel density plots).\n",
            "\n",
            "/usr/local/lib/python3.6/dist-packages/seaborn/distributions.py:2551: FutureWarning:\n",
            "\n",
            "`distplot` is a deprecated function and will be removed in a future version. Please adapt your code to use either `displot` (a figure-level function with similar flexibility) or `kdeplot` (an axes-level function for kernel density plots).\n",
            "\n",
            "/usr/local/lib/python3.6/dist-packages/seaborn/distributions.py:2551: FutureWarning:\n",
            "\n",
            "`distplot` is a deprecated function and will be removed in a future version. Please adapt your code to use either `displot` (a figure-level function with similar flexibility) or `kdeplot` (an axes-level function for kernel density plots).\n",
            "\n",
            "/usr/local/lib/python3.6/dist-packages/seaborn/distributions.py:2551: FutureWarning:\n",
            "\n",
            "`distplot` is a deprecated function and will be removed in a future version. Please adapt your code to use either `displot` (a figure-level function with similar flexibility) or `kdeplot` (an axes-level function for kernel density plots).\n",
            "\n",
            "/usr/local/lib/python3.6/dist-packages/seaborn/distributions.py:2551: FutureWarning:\n",
            "\n",
            "`distplot` is a deprecated function and will be removed in a future version. Please adapt your code to use either `displot` (a figure-level function with similar flexibility) or `kdeplot` (an axes-level function for kernel density plots).\n",
            "\n",
            "/usr/local/lib/python3.6/dist-packages/seaborn/distributions.py:2551: FutureWarning:\n",
            "\n",
            "`distplot` is a deprecated function and will be removed in a future version. Please adapt your code to use either `displot` (a figure-level function with similar flexibility) or `kdeplot` (an axes-level function for kernel density plots).\n",
            "\n",
            "/usr/local/lib/python3.6/dist-packages/seaborn/distributions.py:2551: FutureWarning:\n",
            "\n",
            "`distplot` is a deprecated function and will be removed in a future version. Please adapt your code to use either `displot` (a figure-level function with similar flexibility) or `kdeplot` (an axes-level function for kernel density plots).\n",
            "\n",
            "/usr/local/lib/python3.6/dist-packages/seaborn/distributions.py:2551: FutureWarning:\n",
            "\n",
            "`distplot` is a deprecated function and will be removed in a future version. Please adapt your code to use either `displot` (a figure-level function with similar flexibility) or `kdeplot` (an axes-level function for kernel density plots).\n",
            "\n"
          ],
          "name": "stderr"
        },
        {
          "output_type": "display_data",
          "data": {
            "image/png": "[encoded data removed]",
            "text/plain": [
              "<Figure size 1209.67x288 with 4 Axes>"
            ]
          },
          "metadata": {
            "tags": [],
            "needs_background": "light"
          }
        }
      ]
    },
    {
      "cell_type": "code",
      "metadata": {
        "colab": {
          "base_uri": "https://localhost:8080/",
          "height": 466
        },
        "id": "eDo5grbYSaBG",
        "outputId": "f6f04e47-d050-445f-f0e6-32f222751df6"
      },
      "source": [
        "plt.figure(figsize=(10,7))\r\n",
        "sns.boxplot(x=\"JobSatisfaction\", y=\"MonthlyIncome\", hue=\"Attrition\",\r\n",
        "            data=visualcomparison, palette=\"Set1\")"
      ],
      "execution_count": 471,
      "outputs": [
        {
          "output_type": "execute_result",
          "data": {
            "text/plain": [
              "<matplotlib.axes._subplots.AxesSubplot at 0x7fc2f1b79b38>"
            ]
          },
          "metadata": {
            "tags": []
          },
          "execution_count": 471
        },
        {
          "output_type": "display_data",
          "data": {
            "image/png": "[encoded data removed]",
            "text/plain": [
              "<Figure size 720x504 with 1 Axes>"
            ]
          },
          "metadata": {
            "tags": [],
            "needs_background": "light"
          }
        }
      ]
    },
    {
      "cell_type": "code",
      "metadata": {
        "colab": {
          "base_uri": "https://localhost:8080/",
          "height": 339
        },
        "id": "R_P4ZTQ7Udcp",
        "outputId": "223d9df9-5b7e-421f-a520-91b73de08b6f"
      },
      "source": [
        "# Data\r\n",
        "r = [0,1]\r\n",
        "Y_F = len(data4[(data4['Attrition'] == 1) & (data4['Gender'] == 'Female')])\r\n",
        "N_F = len(data4[(data4['Attrition'] == 0) & (data4['Gender'] == 'Female')])\r\n",
        "Y_M = len(data4[(data4['Attrition'] == 1) & (data4['Gender'] == 'Male')])\r\n",
        "N_M = len(data4[(data4['Attrition'] == 0) & (data4['Gender'] == 'Male')])\r\n",
        "raw_data = {'greenBars': [Y_F, Y_M], 'orangeBars': [N_F, N_M]}\r\n",
        "df = pd.DataFrame(raw_data)\r\n",
        " \r\n",
        "# From raw value to percentage\r\n",
        "totals = [i+j for i,j in zip(df['greenBars'], df['orangeBars'])]\r\n",
        "greenBars = [i / j * 100 for i,j in zip(df['greenBars'], totals)]\r\n",
        "orangeBars = [i / j * 100 for i,j in zip(df['orangeBars'], totals)]\r\n",
        " \r\n",
        "# plot\r\n",
        "plt.figure(figsize=(5,5))\r\n",
        "barWidth = 0.5\r\n",
        "names = ('Female','Male')\r\n",
        "# Create green Bars\r\n",
        "plt.bar(r, greenBars, color='lightcoral', edgecolor='white', width=barWidth)\r\n",
        "# Create orange Bars\r\n",
        "plt.bar(r, orangeBars, bottom=greenBars, color='cornflowerblue', edgecolor='white', width=barWidth)\r\n",
        "# Create blue Bars\r\n",
        "#plt.bar(r, blueBars, bottom=[i+j for i,j in zip(greenBars, orangeBars)], color='#a3acff', edgecolor='white', width=barWidth)\r\n",
        " \r\n",
        "# Custom x axis\r\n",
        "plt.xticks(r, names)\r\n",
        "plt.xlabel(\"Gender\")\r\n",
        " \r\n",
        "# Show graphic\r\n",
        "plt.show()"
      ],
      "execution_count": 472,
      "outputs": [
        {
          "output_type": "display_data",
          "data": {
            "image/png": "[encoded data removed]",
            "text/plain": [
              "<Figure size 360x360 with 1 Axes>"
            ]
          },
          "metadata": {
            "tags": [],
            "needs_background": "light"
          }
        }
      ]
    },
    {
      "cell_type": "code",
      "metadata": {
        "colab": {
          "base_uri": "https://localhost:8080/",
          "height": 339
        },
        "id": "CpiAW5mJa5py",
        "outputId": "bfc87db4-15d7-4474-dd33-3cb1b41a8171"
      },
      "source": [
        "# Data\r\n",
        "r = [0,1,2,3,4,5,6,7,8]\r\n",
        "Y_F = len(data4[(data4['Attrition'] == 1) & (data4['JobRole'] == 'Healthcare Representative')])\r\n",
        "N_F = len(data4[(data4['Attrition'] == 0) & (data4['JobRole'] == 'Healthcare Representative')])\r\n",
        "Y_M = len(data4[(data4['Attrition'] == 1) & (data4['JobRole'] == 'Human Resources')])\r\n",
        "N_M = len(data4[(data4['Attrition'] == 0) & (data4['JobRole'] == 'Human Resources')])\r\n",
        "Y_C = len(data4[(data4['Attrition'] == 1) & (data4['JobRole'] == 'Laboratory Technician')])\r\n",
        "N_C = len(data4[(data4['Attrition'] == 0) & (data4['JobRole'] == 'Laboratory Technician')])\r\n",
        "Y_D = len(data4[(data4['Attrition'] == 1) & (data4['JobRole'] == 'Manager')])\r\n",
        "N_D = len(data4[(data4['Attrition'] == 0) & (data4['JobRole'] == 'Manager')])\r\n",
        "Y_E = len(data4[(data4['Attrition'] == 1) & (data4['JobRole'] == 'Manufacturing Director')])\r\n",
        "N_E = len(data4[(data4['Attrition'] == 0) & (data4['JobRole'] == 'Manufacturing Director')])\r\n",
        "Y_F = len(data4[(data4['Attrition'] == 1) & (data4['JobRole'] == 'Research Director')])\r\n",
        "N_F = len(data4[(data4['Attrition'] == 0) & (data4['JobRole'] == 'Research Director')])\r\n",
        "Y_G = len(data4[(data4['Attrition'] == 1) & (data4['JobRole'] == 'Research Scientist')])\r\n",
        "N_G = len(data4[(data4['Attrition'] == 0) & (data4['JobRole'] == 'Research Scientist')])\r\n",
        "Y_H = len(data4[(data4['Attrition'] == 1) & (data4['JobRole'] == 'Sales Executive')])\r\n",
        "N_H = len(data4[(data4['Attrition'] == 0) & (data4['JobRole'] == 'Sales Executive')])\r\n",
        "Y_I = len(data4[(data4['Attrition'] == 1) & (data4['JobRole'] == 'Sales Representative')])\r\n",
        "N_I = len(data4[(data4['Attrition'] == 0) & (data4['JobRole'] == 'Sales Representative')])\r\n",
        "\r\n",
        "raw_data = {'greenBars': [Y_F, Y_M,Y_C,Y_D,Y_E,Y_F,Y_G,Y_H,Y_I], 'orangeBars': [N_F, N_M,N_C,N_D,N_E,N_F,N_G,N_H,N_I]}\r\n",
        "df = pd.DataFrame(raw_data)\r\n",
        " \r\n",
        "# From raw value to percentage\r\n",
        "totals = [i+j for i,j in zip(df['greenBars'], df['orangeBars'])]\r\n",
        "greenBars = [i / j * 100 for i,j in zip(df['greenBars'], totals)]\r\n",
        "orangeBars = [i / j * 100 for i,j in zip(df['orangeBars'], totals)]\r\n",
        " \r\n",
        "# plot\r\n",
        "plt.figure(figsize=(5,5))\r\n",
        "barWidth = 0.5\r\n",
        "names = ('Heal','HR','LabTe','Man','ManDir','RDir', 'RSc', 'SalesEx', 'SalRepr' )\r\n",
        "# Create green Bars\r\n",
        "plt.bar(r, greenBars, color='lightcoral', edgecolor='white', width=barWidth)\r\n",
        "# Create orange Bars\r\n",
        "plt.bar(r, orangeBars, bottom=greenBars, color='cornflowerblue', edgecolor='white', width=barWidth)\r\n",
        "# Create blue Bars\r\n",
        "#plt.bar(r, blueBars, bottom=[i+j for i,j in zip(greenBars, orangeBars)], color='#a3acff', edgecolor='white', width=barWidth)\r\n",
        " \r\n",
        "# Custom x axis\r\n",
        "plt.xticks(r, names)\r\n",
        "plt.xlabel('JobRole')\r\n",
        " \r\n",
        "# Show graphic\r\n",
        "plt.show()"
      ],
      "execution_count": 473,
      "outputs": [
        {
          "output_type": "display_data",
          "data": {
            "image/png": "[encoded data removed]",
            "text/plain": [
              "<Figure size 360x360 with 1 Axes>"
            ]
          },
          "metadata": {
            "tags": [],
            "needs_background": "light"
          }
        }
      ]
    },
    {
      "cell_type": "code",
      "metadata": {
        "colab": {
          "base_uri": "https://localhost:8080/",
          "height": 339
        },
        "id": "WDSXD-YeaGP7",
        "outputId": "e2bd1a5b-9fbb-4972-d555-0a6c2a5442cb"
      },
      "source": [
        "# Data\r\n",
        "r = [0,1,2]\r\n",
        "Y_F = len(data4[(data4['Attrition'] == 1) & (data4['MaritalStatus'] == 'Divorced')])\r\n",
        "N_F = len(data4[(data4['Attrition'] == 0) & (data4['MaritalStatus'] == 'Divorced')])\r\n",
        "Y_M = len(data4[(data4['Attrition'] == 1) & (data4['MaritalStatus'] == 'Married')])\r\n",
        "N_M = len(data4[(data4['Attrition'] == 0) & (data4['MaritalStatus'] == 'Married')])\r\n",
        "Y_C = len(data4[(data4['Attrition'] == 1) & (data4['MaritalStatus'] == 'Single')])\r\n",
        "N_C = len(data4[(data4['Attrition'] == 0) & (data4['MaritalStatus'] == 'Single')])\r\n",
        "\r\n",
        "raw_data = {'greenBars': [Y_F, Y_M,Y_C], 'orangeBars': [N_F, N_M,N_C]}\r\n",
        "df = pd.DataFrame(raw_data)\r\n",
        " \r\n",
        "# From raw value to percentage\r\n",
        "totals = [i+j for i,j in zip(df['greenBars'], df['orangeBars'])]\r\n",
        "greenBars = [i / j * 100 for i,j in zip(df['greenBars'], totals)]\r\n",
        "orangeBars = [i / j * 100 for i,j in zip(df['orangeBars'], totals)]\r\n",
        " \r\n",
        "# plot\r\n",
        "plt.figure(figsize=(5,5))\r\n",
        "barWidth = 0.5\r\n",
        "names = ('Divorced','Married','Single')\r\n",
        "# Create green Bars\r\n",
        "plt.bar(r, greenBars, color='lightcoral', edgecolor='white', width=barWidth)\r\n",
        "# Create orange Bars\r\n",
        "plt.bar(r, orangeBars, bottom=greenBars, color='cornflowerblue', edgecolor='white', width=barWidth)\r\n",
        "# Create blue Bars\r\n",
        "#plt.bar(r, blueBars, bottom=[i+j for i,j in zip(greenBars, orangeBars)], color='#a3acff', edgecolor='white', width=barWidth)\r\n",
        " \r\n",
        "# Custom x axis\r\n",
        "plt.xticks(r, names)\r\n",
        "plt.xlabel('Martialst')\r\n",
        " \r\n",
        "# Show graphic\r\n",
        "plt.show()"
      ],
      "execution_count": 474,
      "outputs": [
        {
          "output_type": "display_data",
          "data": {
            "image/png": "[encoded data removed]",
            "text/plain": [
              "<Figure size 360x360 with 1 Axes>"
            ]
          },
          "metadata": {
            "tags": [],
            "needs_background": "light"
          }
        }
      ]
    },
    {
      "cell_type": "code",
      "metadata": {
        "colab": {
          "base_uri": "https://localhost:8080/",
          "height": 339
        },
        "id": "OkApcOozYf0O",
        "outputId": "4cca8282-7659-4eb8-8d9d-495704b4f483"
      },
      "source": [
        "# Data\r\n",
        "r = [0,1,2,3,4]\r\n",
        "Y_F = len(data4[(data4['Attrition'] == 1) & (data4['EducationField'] == 'Life Sciences')])\r\n",
        "N_F = len(data4[(data4['Attrition'] == 0) & (data4['EducationField'] == 'Life Sciences')])\r\n",
        "Y_M = len(data4[(data4['Attrition'] == 1) & (data4['EducationField'] == 'Marketing')])\r\n",
        "N_M = len(data4[(data4['Attrition'] == 0) & (data4['EducationField'] == 'Marketing')])\r\n",
        "Y_C = len(data4[(data4['Attrition'] == 1) & (data4['EducationField'] == 'Medical')])\r\n",
        "N_C = len(data4[(data4['Attrition'] == 0) & (data4['EducationField'] == 'Medical')])\r\n",
        "Y_D = len(data4[(data4['Attrition'] == 1) & (data4['EducationField'] == 'Other')])\r\n",
        "N_D = len(data4[(data4['Attrition'] == 0) & (data4['EducationField'] == 'Other')])\r\n",
        "Y_E = len(data4[(data4['Attrition'] == 1) & (data4['EducationField'] == 'Technical Degree')])\r\n",
        "N_E = len(data4[(data4['Attrition'] == 0) & (data4['EducationField'] == 'Technical Degree')])\r\n",
        "\r\n",
        "raw_data = {'greenBars': [Y_F, Y_M,Y_C,Y_D,Y_E], 'orangeBars': [N_F, N_M,N_C,N_D,N_E]}\r\n",
        "df = pd.DataFrame(raw_data)\r\n",
        " \r\n",
        "# From raw value to percentage\r\n",
        "totals = [i+j for i,j in zip(df['greenBars'], df['orangeBars'])]\r\n",
        "greenBars = [i / j * 100 for i,j in zip(df['greenBars'], totals)]\r\n",
        "orangeBars = [i / j * 100 for i,j in zip(df['orangeBars'], totals)]\r\n",
        " \r\n",
        "# plot\r\n",
        "plt.figure(figsize=(5,5))\r\n",
        "barWidth = 0.5\r\n",
        "names = ('Life Sc','Marketing','Medical','Other','Techn' )\r\n",
        "# Create green Bars\r\n",
        "plt.bar(r, greenBars, color='lightcoral', edgecolor='white', width=barWidth)\r\n",
        "# Create orange Bars\r\n",
        "plt.bar(r, orangeBars, bottom=greenBars, color='cornflowerblue', edgecolor='white', width=barWidth)\r\n",
        "# Create blue Bars\r\n",
        "#plt.bar(r, blueBars, bottom=[i+j for i,j in zip(greenBars, orangeBars)], color='#a3acff', edgecolor='white', width=barWidth)\r\n",
        " \r\n",
        "# Custom x axis\r\n",
        "plt.xticks(r, names)\r\n",
        "plt.xlabel('EducationField')\r\n",
        " \r\n",
        "# Show graphic\r\n",
        "plt.show()"
      ],
      "execution_count": 475,
      "outputs": [
        {
          "output_type": "display_data",
          "data": {
            "image/png": "[encoded data removed]",
            "text/plain": [
              "<Figure size 360x360 with 1 Axes>"
            ]
          },
          "metadata": {
            "tags": [],
            "needs_background": "light"
          }
        }
      ]
    },
    {
      "cell_type": "code",
      "metadata": {
        "colab": {
          "base_uri": "https://localhost:8080/",
          "height": 340
        },
        "id": "f9quLFeQXoU7",
        "outputId": "646902bb-8610-449a-e948-baf5abd13257"
      },
      "source": [
        "# Data\r\n",
        "r = [0,1,2]\r\n",
        "Y_F = len(data4[(data4['Attrition'] == 1) & (data4['BusinessTravel'] == 'Travel_Rarely')])\r\n",
        "N_F = len(data4[(data4['Attrition'] == 0) & (data4['BusinessTravel'] == 'Travel_Rarely')])\r\n",
        "Y_M = len(data4[(data4['Attrition'] == 1) & (data4['BusinessTravel'] == 'Travel_Frequently')])\r\n",
        "N_M = len(data4[(data4['Attrition'] == 0) & (data4['BusinessTravel'] == 'Travel_Frequently')])\r\n",
        "Y_C = len(data4[(data4['Attrition'] == 1) & (data4['BusinessTravel'] == 'Non-Travel')])\r\n",
        "N_C = len(data4[(data4['Attrition'] == 0) & (data4['BusinessTravel'] == 'Non-Travel')])\r\n",
        "\r\n",
        "raw_data = {'greenBars': [Y_F, Y_M,Y_C], 'orangeBars': [N_F, N_M,N_C]}\r\n",
        "df = pd.DataFrame(raw_data)\r\n",
        " \r\n",
        "# From raw value to percentage\r\n",
        "totals = [i+j for i,j in zip(df['greenBars'], df['orangeBars'])]\r\n",
        "greenBars = [i / j * 100 for i,j in zip(df['greenBars'], totals)]\r\n",
        "orangeBars = [i / j * 100 for i,j in zip(df['orangeBars'], totals)]\r\n",
        " \r\n",
        "# plot\r\n",
        "plt.figure(figsize=(5,5))\r\n",
        "barWidth = 0.5\r\n",
        "names = ('Travel_Rarely','Travel_Frequently','Non-Travel')\r\n",
        "# Create green Bars\r\n",
        "plt.bar(r, greenBars, color='lightcoral', edgecolor='white', width=barWidth)\r\n",
        "# Create orange Bars\r\n",
        "plt.bar(r, orangeBars, bottom=greenBars, color='cornflowerblue', edgecolor='white', width=barWidth)\r\n",
        "# Create blue Bars\r\n",
        "#plt.bar(r, blueBars, bottom=[i+j for i,j in zip(greenBars, orangeBars)], color='#a3acff', edgecolor='white', width=barWidth)\r\n",
        " \r\n",
        "# Custom x axis\r\n",
        "plt.xticks(r, names)\r\n",
        "plt.xlabel('BusinessTravel')\r\n",
        " \r\n",
        "# Show graphic\r\n",
        "plt.show()"
      ],
      "execution_count": 476,
      "outputs": [
        {
          "output_type": "display_data",
          "data": {
            "image/png": "[encoded data removed]",
            "text/plain": [
              "<Figure size 360x360 with 1 Axes>"
            ]
          },
          "metadata": {
            "tags": [],
            "needs_background": "light"
          }
        }
      ]
    },
    {
      "cell_type": "code",
      "metadata": {
        "id": "YZrm4BwxetcQ"
      },
      "source": [
        "nonscaled = data4.loc[:,[ 'Education', 'EducationField', 'JobInvolvement',  'JobRole', 'JobSatisfaction', 'MaritalStatus', 'NumCompaniesWorked']]\r\n",
        "#gender wywalony po comparison, to samo business travel\r\n"
      ],
      "execution_count": 477,
      "outputs": []
    },
    {
      "cell_type": "code",
      "metadata": {
        "colab": {
          "base_uri": "https://localhost:8080/"
        },
        "id": "fz_Ygiqre0Il",
        "outputId": "28d832d8-9f93-4d17-a3a5-7bb749f2c702"
      },
      "source": [
        "y = data4.iloc[:,-1]\r\n",
        "y"
      ],
      "execution_count": 478,
      "outputs": [
        {
          "output_type": "execute_result",
          "data": {
            "text/plain": [
              "0       0\n",
              "1       0\n",
              "2       0\n",
              "3       0\n",
              "4       0\n",
              "       ..\n",
              "4438    1\n",
              "4439    1\n",
              "4440    1\n",
              "4441    1\n",
              "4442    0\n",
              "Name: Attrition, Length: 3596, dtype: int64"
            ]
          },
          "metadata": {
            "tags": []
          },
          "execution_count": 478
        }
      ]
    },
    {
      "cell_type": "code",
      "metadata": {
        "id": "U3xDZu6FWEfx"
      },
      "source": [
        "scaler = StandardScaler()\r\n",
        "scaler.fit(forscaling)\r\n",
        "x = scaler.transform(forscaling)\r\n",
        "x1= data4.loc[:,['Age','DistanceFromHome', 'HourlyRate', 'MonthlyIncome','Education', 'EducationField', 'JobInvolvement',  'JobRole', 'JobSatisfaction', 'MaritalStatus', 'NumCompaniesWorked']]"
      ],
      "execution_count": 577,
      "outputs": []
    },
    {
      "cell_type": "code",
      "metadata": {
        "colab": {
          "base_uri": "https://localhost:8080/"
        },
        "id": "PBDepH5hvSEa",
        "outputId": "62ea3813-20bb-41c3-b400-578067824f2e"
      },
      "source": [
        "x"
      ],
      "execution_count": 480,
      "outputs": [
        {
          "output_type": "execute_result",
          "data": {
            "text/plain": [
              "array([[-0.73747122, -1.02173381, -0.54477751, -0.29130014],\n",
              "       [ 0.13964024, -0.89093442, -0.59504488,  0.27017978],\n",
              "       [-1.17602695, -0.36773688, -0.99718383, -0.88010684],\n",
              "       ...,\n",
              "       [ 0.57819597, -0.36773688,  0.86270883,  1.46401845],\n",
              "       [ 0.57819597, -0.36773688,  0.86270883,  1.46401845],\n",
              "       [ 0.57819597, -0.36773688,  0.86270883,  1.46401845]])"
            ]
          },
          "metadata": {
            "tags": []
          },
          "execution_count": 480
        }
      ]
    },
    {
      "cell_type": "code",
      "metadata": {
        "colab": {
          "base_uri": "https://localhost:8080/",
          "height": 399
        },
        "id": "s1ebfeJjuABv",
        "outputId": "c7d90c16-7855-4688-dd16-1415cce1f6d4"
      },
      "source": [
        "x2 = pd.DataFrame(data=x)\r\n",
        "x2 = x2.rename(columns={0: 'Age', 1: 'DistanceFromHome', 2: 'HourlyRate', 3:'MonthlyIncome'})\r\n",
        "x2"
      ],
      "execution_count": 481,
      "outputs": [
        {
          "output_type": "execute_result",
          "data": {
            "text/html": [
              "<div>\n",
              "<style scoped>\n",
              "    .dataframe tbody tr th:only-of-type {\n",
              "        vertical-align: middle;\n",
              "    }\n",
              "\n",
              "    .dataframe tbody tr th {\n",
              "        vertical-align: top;\n",
              "    }\n",
              "\n",
              "    .dataframe thead th {\n",
              "        text-align: right;\n",
              "    }\n",
              "</style>\n",
              "<table border=\"1\" class=\"dataframe\">\n",
              "  <thead>\n",
              "    <tr style=\"text-align: right;\">\n",
              "      <th></th>\n",
              "      <th>Age</th>\n",
              "      <th>DistanceFromHome</th>\n",
              "      <th>HourlyRate</th>\n",
              "      <th>MonthlyIncome</th>\n",
              "    </tr>\n",
              "  </thead>\n",
              "  <tbody>\n",
              "    <tr>\n",
              "      <th>0</th>\n",
              "      <td>-0.737471</td>\n",
              "      <td>-1.021734</td>\n",
              "      <td>-0.544778</td>\n",
              "      <td>-0.291300</td>\n",
              "    </tr>\n",
              "    <tr>\n",
              "      <th>1</th>\n",
              "      <td>0.139640</td>\n",
              "      <td>-0.890934</td>\n",
              "      <td>-0.595045</td>\n",
              "      <td>0.270180</td>\n",
              "    </tr>\n",
              "    <tr>\n",
              "      <th>2</th>\n",
              "      <td>-1.176027</td>\n",
              "      <td>-0.367737</td>\n",
              "      <td>-0.997184</td>\n",
              "      <td>-0.880107</td>\n",
              "    </tr>\n",
              "    <tr>\n",
              "      <th>3</th>\n",
              "      <td>-0.956749</td>\n",
              "      <td>-0.106138</td>\n",
              "      <td>0.008164</td>\n",
              "      <td>-0.678999</td>\n",
              "    </tr>\n",
              "    <tr>\n",
              "      <th>4</th>\n",
              "      <td>-0.189277</td>\n",
              "      <td>-0.629336</td>\n",
              "      <td>0.460570</td>\n",
              "      <td>-0.969132</td>\n",
              "    </tr>\n",
              "    <tr>\n",
              "      <th>...</th>\n",
              "      <td>...</td>\n",
              "      <td>...</td>\n",
              "      <td>...</td>\n",
              "      <td>...</td>\n",
              "    </tr>\n",
              "    <tr>\n",
              "      <th>3591</th>\n",
              "      <td>0.468557</td>\n",
              "      <td>2.509850</td>\n",
              "      <td>-0.293441</td>\n",
              "      <td>1.511413</td>\n",
              "    </tr>\n",
              "    <tr>\n",
              "      <th>3592</th>\n",
              "      <td>0.468557</td>\n",
              "      <td>2.509850</td>\n",
              "      <td>-0.293441</td>\n",
              "      <td>1.511413</td>\n",
              "    </tr>\n",
              "    <tr>\n",
              "      <th>3593</th>\n",
              "      <td>0.578196</td>\n",
              "      <td>-0.367737</td>\n",
              "      <td>0.862709</td>\n",
              "      <td>1.464018</td>\n",
              "    </tr>\n",
              "    <tr>\n",
              "      <th>3594</th>\n",
              "      <td>0.578196</td>\n",
              "      <td>-0.367737</td>\n",
              "      <td>0.862709</td>\n",
              "      <td>1.464018</td>\n",
              "    </tr>\n",
              "    <tr>\n",
              "      <th>3595</th>\n",
              "      <td>0.578196</td>\n",
              "      <td>-0.367737</td>\n",
              "      <td>0.862709</td>\n",
              "      <td>1.464018</td>\n",
              "    </tr>\n",
              "  </tbody>\n",
              "</table>\n",
              "<p>3596 rows × 4 columns</p>\n",
              "</div>"
            ],
            "text/plain": [
              "           Age  DistanceFromHome  HourlyRate  MonthlyIncome\n",
              "0    -0.737471         -1.021734   -0.544778      -0.291300\n",
              "1     0.139640         -0.890934   -0.595045       0.270180\n",
              "2    -1.176027         -0.367737   -0.997184      -0.880107\n",
              "3    -0.956749         -0.106138    0.008164      -0.678999\n",
              "4    -0.189277         -0.629336    0.460570      -0.969132\n",
              "...        ...               ...         ...            ...\n",
              "3591  0.468557          2.509850   -0.293441       1.511413\n",
              "3592  0.468557          2.509850   -0.293441       1.511413\n",
              "3593  0.578196         -0.367737    0.862709       1.464018\n",
              "3594  0.578196         -0.367737    0.862709       1.464018\n",
              "3595  0.578196         -0.367737    0.862709       1.464018\n",
              "\n",
              "[3596 rows x 4 columns]"
            ]
          },
          "metadata": {
            "tags": []
          },
          "execution_count": 481
        }
      ]
    },
    {
      "cell_type": "code",
      "metadata": {
        "colab": {
          "base_uri": "https://localhost:8080/",
          "height": 399
        },
        "id": "ZtBzvUiA2pJY",
        "outputId": "bc46398d-216a-4274-884d-fba45adb395b"
      },
      "source": [
        "nonscaled"
      ],
      "execution_count": 482,
      "outputs": [
        {
          "output_type": "execute_result",
          "data": {
            "text/html": [
              "<div>\n",
              "<style scoped>\n",
              "    .dataframe tbody tr th:only-of-type {\n",
              "        vertical-align: middle;\n",
              "    }\n",
              "\n",
              "    .dataframe tbody tr th {\n",
              "        vertical-align: top;\n",
              "    }\n",
              "\n",
              "    .dataframe thead th {\n",
              "        text-align: right;\n",
              "    }\n",
              "</style>\n",
              "<table border=\"1\" class=\"dataframe\">\n",
              "  <thead>\n",
              "    <tr style=\"text-align: right;\">\n",
              "      <th></th>\n",
              "      <th>Education</th>\n",
              "      <th>EducationField</th>\n",
              "      <th>JobInvolvement</th>\n",
              "      <th>JobRole</th>\n",
              "      <th>JobSatisfaction</th>\n",
              "      <th>MaritalStatus</th>\n",
              "      <th>NumCompaniesWorked</th>\n",
              "    </tr>\n",
              "  </thead>\n",
              "  <tbody>\n",
              "    <tr>\n",
              "      <th>0</th>\n",
              "      <td>1.0</td>\n",
              "      <td>Life Sciences</td>\n",
              "      <td>2.0</td>\n",
              "      <td>Laboratory Technician</td>\n",
              "      <td>4.0</td>\n",
              "      <td>Married</td>\n",
              "      <td>1.0</td>\n",
              "    </tr>\n",
              "    <tr>\n",
              "      <th>1</th>\n",
              "      <td>2.0</td>\n",
              "      <td>Medical</td>\n",
              "      <td>2.0</td>\n",
              "      <td>Manufacturing Director</td>\n",
              "      <td>3.0</td>\n",
              "      <td>Married</td>\n",
              "      <td>3.0</td>\n",
              "    </tr>\n",
              "    <tr>\n",
              "      <th>2</th>\n",
              "      <td>3.0</td>\n",
              "      <td>Other</td>\n",
              "      <td>2.0</td>\n",
              "      <td>Research Scientist</td>\n",
              "      <td>2.0</td>\n",
              "      <td>Married</td>\n",
              "      <td>1.0</td>\n",
              "    </tr>\n",
              "    <tr>\n",
              "      <th>3</th>\n",
              "      <td>2.0</td>\n",
              "      <td>Life Sciences</td>\n",
              "      <td>3.0</td>\n",
              "      <td>Research Scientist</td>\n",
              "      <td>4.0</td>\n",
              "      <td>Single</td>\n",
              "      <td>1.0</td>\n",
              "    </tr>\n",
              "    <tr>\n",
              "      <th>4</th>\n",
              "      <td>2.0</td>\n",
              "      <td>Other</td>\n",
              "      <td>3.0</td>\n",
              "      <td>Laboratory Technician</td>\n",
              "      <td>4.0</td>\n",
              "      <td>Divorced</td>\n",
              "      <td>1.0</td>\n",
              "    </tr>\n",
              "    <tr>\n",
              "      <th>...</th>\n",
              "      <td>...</td>\n",
              "      <td>...</td>\n",
              "      <td>...</td>\n",
              "      <td>...</td>\n",
              "      <td>...</td>\n",
              "      <td>...</td>\n",
              "      <td>...</td>\n",
              "    </tr>\n",
              "    <tr>\n",
              "      <th>4438</th>\n",
              "      <td>4.0</td>\n",
              "      <td>Life Sciences</td>\n",
              "      <td>2.0</td>\n",
              "      <td>Manufacturing Director</td>\n",
              "      <td>2.0</td>\n",
              "      <td>Married</td>\n",
              "      <td>0.0</td>\n",
              "    </tr>\n",
              "    <tr>\n",
              "      <th>4439</th>\n",
              "      <td>4.0</td>\n",
              "      <td>Life Sciences</td>\n",
              "      <td>2.0</td>\n",
              "      <td>Manufacturing Director</td>\n",
              "      <td>2.0</td>\n",
              "      <td>Married</td>\n",
              "      <td>0.0</td>\n",
              "    </tr>\n",
              "    <tr>\n",
              "      <th>4440</th>\n",
              "      <td>3.0</td>\n",
              "      <td>Medical</td>\n",
              "      <td>3.0</td>\n",
              "      <td>Research Director</td>\n",
              "      <td>1.0</td>\n",
              "      <td>Married</td>\n",
              "      <td>9.0</td>\n",
              "    </tr>\n",
              "    <tr>\n",
              "      <th>4441</th>\n",
              "      <td>3.0</td>\n",
              "      <td>Medical</td>\n",
              "      <td>3.0</td>\n",
              "      <td>Research Director</td>\n",
              "      <td>1.0</td>\n",
              "      <td>Married</td>\n",
              "      <td>9.0</td>\n",
              "    </tr>\n",
              "    <tr>\n",
              "      <th>4442</th>\n",
              "      <td>3.0</td>\n",
              "      <td>Medical</td>\n",
              "      <td>3.0</td>\n",
              "      <td>Research Director</td>\n",
              "      <td>1.0</td>\n",
              "      <td>Married</td>\n",
              "      <td>9.0</td>\n",
              "    </tr>\n",
              "  </tbody>\n",
              "</table>\n",
              "<p>3596 rows × 7 columns</p>\n",
              "</div>"
            ],
            "text/plain": [
              "      Education EducationField  ...  MaritalStatus NumCompaniesWorked\n",
              "0           1.0  Life Sciences  ...        Married                1.0\n",
              "1           2.0        Medical  ...        Married                3.0\n",
              "2           3.0          Other  ...        Married                1.0\n",
              "3           2.0  Life Sciences  ...         Single                1.0\n",
              "4           2.0          Other  ...       Divorced                1.0\n",
              "...         ...            ...  ...            ...                ...\n",
              "4438        4.0  Life Sciences  ...        Married                0.0\n",
              "4439        4.0  Life Sciences  ...        Married                0.0\n",
              "4440        3.0        Medical  ...        Married                9.0\n",
              "4441        3.0        Medical  ...        Married                9.0\n",
              "4442        3.0        Medical  ...        Married                9.0\n",
              "\n",
              "[3596 rows x 7 columns]"
            ]
          },
          "metadata": {
            "tags": []
          },
          "execution_count": 482
        }
      ]
    },
    {
      "cell_type": "code",
      "metadata": {
        "id": "cE3atypJc06Z"
      },
      "source": [
        "# datascaled = pd.concat([x2, nonscaled], axis=1, ignore_index=True)\r\n",
        "datascaled = pd.concat([x2.reset_index(drop=True), nonscaled.reset_index(drop=True)], axis=1)"
      ],
      "execution_count": 483,
      "outputs": []
    },
    {
      "cell_type": "code",
      "metadata": {
        "colab": {
          "base_uri": "https://localhost:8080/",
          "height": 399
        },
        "id": "Cv-8HytVygEg",
        "outputId": "e3665207-4838-4759-909e-bb73c80fab80"
      },
      "source": [
        "\r\n",
        "datascaled"
      ],
      "execution_count": 484,
      "outputs": [
        {
          "output_type": "execute_result",
          "data": {
            "text/html": [
              "<div>\n",
              "<style scoped>\n",
              "    .dataframe tbody tr th:only-of-type {\n",
              "        vertical-align: middle;\n",
              "    }\n",
              "\n",
              "    .dataframe tbody tr th {\n",
              "        vertical-align: top;\n",
              "    }\n",
              "\n",
              "    .dataframe thead th {\n",
              "        text-align: right;\n",
              "    }\n",
              "</style>\n",
              "<table border=\"1\" class=\"dataframe\">\n",
              "  <thead>\n",
              "    <tr style=\"text-align: right;\">\n",
              "      <th></th>\n",
              "      <th>Age</th>\n",
              "      <th>DistanceFromHome</th>\n",
              "      <th>HourlyRate</th>\n",
              "      <th>MonthlyIncome</th>\n",
              "      <th>Education</th>\n",
              "      <th>EducationField</th>\n",
              "      <th>JobInvolvement</th>\n",
              "      <th>JobRole</th>\n",
              "      <th>JobSatisfaction</th>\n",
              "      <th>MaritalStatus</th>\n",
              "      <th>NumCompaniesWorked</th>\n",
              "    </tr>\n",
              "  </thead>\n",
              "  <tbody>\n",
              "    <tr>\n",
              "      <th>0</th>\n",
              "      <td>-0.737471</td>\n",
              "      <td>-1.021734</td>\n",
              "      <td>-0.544778</td>\n",
              "      <td>-0.291300</td>\n",
              "      <td>1.0</td>\n",
              "      <td>Life Sciences</td>\n",
              "      <td>2.0</td>\n",
              "      <td>Laboratory Technician</td>\n",
              "      <td>4.0</td>\n",
              "      <td>Married</td>\n",
              "      <td>1.0</td>\n",
              "    </tr>\n",
              "    <tr>\n",
              "      <th>1</th>\n",
              "      <td>0.139640</td>\n",
              "      <td>-0.890934</td>\n",
              "      <td>-0.595045</td>\n",
              "      <td>0.270180</td>\n",
              "      <td>2.0</td>\n",
              "      <td>Medical</td>\n",
              "      <td>2.0</td>\n",
              "      <td>Manufacturing Director</td>\n",
              "      <td>3.0</td>\n",
              "      <td>Married</td>\n",
              "      <td>3.0</td>\n",
              "    </tr>\n",
              "    <tr>\n",
              "      <th>2</th>\n",
              "      <td>-1.176027</td>\n",
              "      <td>-0.367737</td>\n",
              "      <td>-0.997184</td>\n",
              "      <td>-0.880107</td>\n",
              "      <td>3.0</td>\n",
              "      <td>Other</td>\n",
              "      <td>2.0</td>\n",
              "      <td>Research Scientist</td>\n",
              "      <td>2.0</td>\n",
              "      <td>Married</td>\n",
              "      <td>1.0</td>\n",
              "    </tr>\n",
              "    <tr>\n",
              "      <th>3</th>\n",
              "      <td>-0.956749</td>\n",
              "      <td>-0.106138</td>\n",
              "      <td>0.008164</td>\n",
              "      <td>-0.678999</td>\n",
              "      <td>2.0</td>\n",
              "      <td>Life Sciences</td>\n",
              "      <td>3.0</td>\n",
              "      <td>Research Scientist</td>\n",
              "      <td>4.0</td>\n",
              "      <td>Single</td>\n",
              "      <td>1.0</td>\n",
              "    </tr>\n",
              "    <tr>\n",
              "      <th>4</th>\n",
              "      <td>-0.189277</td>\n",
              "      <td>-0.629336</td>\n",
              "      <td>0.460570</td>\n",
              "      <td>-0.969132</td>\n",
              "      <td>2.0</td>\n",
              "      <td>Other</td>\n",
              "      <td>3.0</td>\n",
              "      <td>Laboratory Technician</td>\n",
              "      <td>4.0</td>\n",
              "      <td>Divorced</td>\n",
              "      <td>1.0</td>\n",
              "    </tr>\n",
              "    <tr>\n",
              "      <th>...</th>\n",
              "      <td>...</td>\n",
              "      <td>...</td>\n",
              "      <td>...</td>\n",
              "      <td>...</td>\n",
              "      <td>...</td>\n",
              "      <td>...</td>\n",
              "      <td>...</td>\n",
              "      <td>...</td>\n",
              "      <td>...</td>\n",
              "      <td>...</td>\n",
              "      <td>...</td>\n",
              "    </tr>\n",
              "    <tr>\n",
              "      <th>3591</th>\n",
              "      <td>0.468557</td>\n",
              "      <td>2.509850</td>\n",
              "      <td>-0.293441</td>\n",
              "      <td>1.511413</td>\n",
              "      <td>4.0</td>\n",
              "      <td>Life Sciences</td>\n",
              "      <td>2.0</td>\n",
              "      <td>Manufacturing Director</td>\n",
              "      <td>2.0</td>\n",
              "      <td>Married</td>\n",
              "      <td>0.0</td>\n",
              "    </tr>\n",
              "    <tr>\n",
              "      <th>3592</th>\n",
              "      <td>0.468557</td>\n",
              "      <td>2.509850</td>\n",
              "      <td>-0.293441</td>\n",
              "      <td>1.511413</td>\n",
              "      <td>4.0</td>\n",
              "      <td>Life Sciences</td>\n",
              "      <td>2.0</td>\n",
              "      <td>Manufacturing Director</td>\n",
              "      <td>2.0</td>\n",
              "      <td>Married</td>\n",
              "      <td>0.0</td>\n",
              "    </tr>\n",
              "    <tr>\n",
              "      <th>3593</th>\n",
              "      <td>0.578196</td>\n",
              "      <td>-0.367737</td>\n",
              "      <td>0.862709</td>\n",
              "      <td>1.464018</td>\n",
              "      <td>3.0</td>\n",
              "      <td>Medical</td>\n",
              "      <td>3.0</td>\n",
              "      <td>Research Director</td>\n",
              "      <td>1.0</td>\n",
              "      <td>Married</td>\n",
              "      <td>9.0</td>\n",
              "    </tr>\n",
              "    <tr>\n",
              "      <th>3594</th>\n",
              "      <td>0.578196</td>\n",
              "      <td>-0.367737</td>\n",
              "      <td>0.862709</td>\n",
              "      <td>1.464018</td>\n",
              "      <td>3.0</td>\n",
              "      <td>Medical</td>\n",
              "      <td>3.0</td>\n",
              "      <td>Research Director</td>\n",
              "      <td>1.0</td>\n",
              "      <td>Married</td>\n",
              "      <td>9.0</td>\n",
              "    </tr>\n",
              "    <tr>\n",
              "      <th>3595</th>\n",
              "      <td>0.578196</td>\n",
              "      <td>-0.367737</td>\n",
              "      <td>0.862709</td>\n",
              "      <td>1.464018</td>\n",
              "      <td>3.0</td>\n",
              "      <td>Medical</td>\n",
              "      <td>3.0</td>\n",
              "      <td>Research Director</td>\n",
              "      <td>1.0</td>\n",
              "      <td>Married</td>\n",
              "      <td>9.0</td>\n",
              "    </tr>\n",
              "  </tbody>\n",
              "</table>\n",
              "<p>3596 rows × 11 columns</p>\n",
              "</div>"
            ],
            "text/plain": [
              "           Age  DistanceFromHome  ...  MaritalStatus  NumCompaniesWorked\n",
              "0    -0.737471         -1.021734  ...        Married                 1.0\n",
              "1     0.139640         -0.890934  ...        Married                 3.0\n",
              "2    -1.176027         -0.367737  ...        Married                 1.0\n",
              "3    -0.956749         -0.106138  ...         Single                 1.0\n",
              "4    -0.189277         -0.629336  ...       Divorced                 1.0\n",
              "...        ...               ...  ...            ...                 ...\n",
              "3591  0.468557          2.509850  ...        Married                 0.0\n",
              "3592  0.468557          2.509850  ...        Married                 0.0\n",
              "3593  0.578196         -0.367737  ...        Married                 9.0\n",
              "3594  0.578196         -0.367737  ...        Married                 9.0\n",
              "3595  0.578196         -0.367737  ...        Married                 9.0\n",
              "\n",
              "[3596 rows x 11 columns]"
            ]
          },
          "metadata": {
            "tags": []
          },
          "execution_count": 484
        }
      ]
    },
    {
      "cell_type": "code",
      "metadata": {
        "colab": {
          "base_uri": "https://localhost:8080/",
          "height": 638
        },
        "id": "y5rHKLiAgYo-",
        "outputId": "97452b76-68e3-4bfe-e95e-4a7be9f2f0b8"
      },
      "source": [
        "plt.subplots(figsize=(10,8))\r\n",
        "ax = plt.axes()\r\n",
        "ax.set_title(\"Attrition Heatmap\")\r\n",
        "corr = datascaled.corr()\r\n",
        "sns.heatmap(corr, \r\n",
        "           xticklabels=corr.columns.values,\r\n",
        "           yticklabels=corr.columns.values, cmap=\"Blues\",linewidths=.5)"
      ],
      "execution_count": 485,
      "outputs": [
        {
          "output_type": "execute_result",
          "data": {
            "text/plain": [
              "<matplotlib.axes._subplots.AxesSubplot at 0x7fc2f1a50a58>"
            ]
          },
          "metadata": {
            "tags": []
          },
          "execution_count": 485
        },
        {
          "output_type": "display_data",
          "data": {
            "image/png": "[encoded data removed]",
            "text/plain": [
              "<Figure size 720x576 with 2 Axes>"
            ]
          },
          "metadata": {
            "tags": [],
            "needs_background": "light"
          }
        }
      ]
    },
    {
      "cell_type": "code",
      "metadata": {
        "id": "DiX6L6NfSNxu"
      },
      "source": [
        "datascaled = pd.get_dummies (datascaled)\r\n",
        "x1=pd.get_dummies(x1)"
      ],
      "execution_count": 579,
      "outputs": []
    },
    {
      "cell_type": "code",
      "metadata": {
        "colab": {
          "base_uri": "https://localhost:8080/",
          "height": 436
        },
        "id": "ZEyxn3NLUpL0",
        "outputId": "609de309-cba2-4860-9db0-a4a04ef77c21"
      },
      "source": [
        "datascaled\r\n"
      ],
      "execution_count": 487,
      "outputs": [
        {
          "output_type": "execute_result",
          "data": {
            "text/html": [
              "<div>\n",
              "<style scoped>\n",
              "    .dataframe tbody tr th:only-of-type {\n",
              "        vertical-align: middle;\n",
              "    }\n",
              "\n",
              "    .dataframe tbody tr th {\n",
              "        vertical-align: top;\n",
              "    }\n",
              "\n",
              "    .dataframe thead th {\n",
              "        text-align: right;\n",
              "    }\n",
              "</style>\n",
              "<table border=\"1\" class=\"dataframe\">\n",
              "  <thead>\n",
              "    <tr style=\"text-align: right;\">\n",
              "      <th></th>\n",
              "      <th>Age</th>\n",
              "      <th>DistanceFromHome</th>\n",
              "      <th>HourlyRate</th>\n",
              "      <th>MonthlyIncome</th>\n",
              "      <th>Education</th>\n",
              "      <th>JobInvolvement</th>\n",
              "      <th>JobSatisfaction</th>\n",
              "      <th>NumCompaniesWorked</th>\n",
              "      <th>EducationField_Human Resources</th>\n",
              "      <th>EducationField_Life Sciences</th>\n",
              "      <th>EducationField_Marketing</th>\n",
              "      <th>EducationField_Medical</th>\n",
              "      <th>EducationField_Other</th>\n",
              "      <th>EducationField_Technical Degree</th>\n",
              "      <th>JobRole_Healthcare Representative</th>\n",
              "      <th>JobRole_Human Resources</th>\n",
              "      <th>JobRole_Laboratory Technician</th>\n",
              "      <th>JobRole_Manager</th>\n",
              "      <th>JobRole_Manufacturing Director</th>\n",
              "      <th>JobRole_Research Director</th>\n",
              "      <th>JobRole_Research Scientist</th>\n",
              "      <th>JobRole_Sales Executive</th>\n",
              "      <th>JobRole_Sales Representative</th>\n",
              "      <th>MaritalStatus_Divorced</th>\n",
              "      <th>MaritalStatus_Married</th>\n",
              "      <th>MaritalStatus_Single</th>\n",
              "    </tr>\n",
              "  </thead>\n",
              "  <tbody>\n",
              "    <tr>\n",
              "      <th>0</th>\n",
              "      <td>-0.737471</td>\n",
              "      <td>-1.021734</td>\n",
              "      <td>-0.544778</td>\n",
              "      <td>-0.291300</td>\n",
              "      <td>1.0</td>\n",
              "      <td>2.0</td>\n",
              "      <td>4.0</td>\n",
              "      <td>1.0</td>\n",
              "      <td>0</td>\n",
              "      <td>1</td>\n",
              "      <td>0</td>\n",
              "      <td>0</td>\n",
              "      <td>0</td>\n",
              "      <td>0</td>\n",
              "      <td>0</td>\n",
              "      <td>0</td>\n",
              "      <td>1</td>\n",
              "      <td>0</td>\n",
              "      <td>0</td>\n",
              "      <td>0</td>\n",
              "      <td>0</td>\n",
              "      <td>0</td>\n",
              "      <td>0</td>\n",
              "      <td>0</td>\n",
              "      <td>1</td>\n",
              "      <td>0</td>\n",
              "    </tr>\n",
              "    <tr>\n",
              "      <th>1</th>\n",
              "      <td>0.139640</td>\n",
              "      <td>-0.890934</td>\n",
              "      <td>-0.595045</td>\n",
              "      <td>0.270180</td>\n",
              "      <td>2.0</td>\n",
              "      <td>2.0</td>\n",
              "      <td>3.0</td>\n",
              "      <td>3.0</td>\n",
              "      <td>0</td>\n",
              "      <td>0</td>\n",
              "      <td>0</td>\n",
              "      <td>1</td>\n",
              "      <td>0</td>\n",
              "      <td>0</td>\n",
              "      <td>0</td>\n",
              "      <td>0</td>\n",
              "      <td>0</td>\n",
              "      <td>0</td>\n",
              "      <td>1</td>\n",
              "      <td>0</td>\n",
              "      <td>0</td>\n",
              "      <td>0</td>\n",
              "      <td>0</td>\n",
              "      <td>0</td>\n",
              "      <td>1</td>\n",
              "      <td>0</td>\n",
              "    </tr>\n",
              "    <tr>\n",
              "      <th>2</th>\n",
              "      <td>-1.176027</td>\n",
              "      <td>-0.367737</td>\n",
              "      <td>-0.997184</td>\n",
              "      <td>-0.880107</td>\n",
              "      <td>3.0</td>\n",
              "      <td>2.0</td>\n",
              "      <td>2.0</td>\n",
              "      <td>1.0</td>\n",
              "      <td>0</td>\n",
              "      <td>0</td>\n",
              "      <td>0</td>\n",
              "      <td>0</td>\n",
              "      <td>1</td>\n",
              "      <td>0</td>\n",
              "      <td>0</td>\n",
              "      <td>0</td>\n",
              "      <td>0</td>\n",
              "      <td>0</td>\n",
              "      <td>0</td>\n",
              "      <td>0</td>\n",
              "      <td>1</td>\n",
              "      <td>0</td>\n",
              "      <td>0</td>\n",
              "      <td>0</td>\n",
              "      <td>1</td>\n",
              "      <td>0</td>\n",
              "    </tr>\n",
              "    <tr>\n",
              "      <th>3</th>\n",
              "      <td>-0.956749</td>\n",
              "      <td>-0.106138</td>\n",
              "      <td>0.008164</td>\n",
              "      <td>-0.678999</td>\n",
              "      <td>2.0</td>\n",
              "      <td>3.0</td>\n",
              "      <td>4.0</td>\n",
              "      <td>1.0</td>\n",
              "      <td>0</td>\n",
              "      <td>1</td>\n",
              "      <td>0</td>\n",
              "      <td>0</td>\n",
              "      <td>0</td>\n",
              "      <td>0</td>\n",
              "      <td>0</td>\n",
              "      <td>0</td>\n",
              "      <td>0</td>\n",
              "      <td>0</td>\n",
              "      <td>0</td>\n",
              "      <td>0</td>\n",
              "      <td>1</td>\n",
              "      <td>0</td>\n",
              "      <td>0</td>\n",
              "      <td>0</td>\n",
              "      <td>0</td>\n",
              "      <td>1</td>\n",
              "    </tr>\n",
              "    <tr>\n",
              "      <th>4</th>\n",
              "      <td>-0.189277</td>\n",
              "      <td>-0.629336</td>\n",
              "      <td>0.460570</td>\n",
              "      <td>-0.969132</td>\n",
              "      <td>2.0</td>\n",
              "      <td>3.0</td>\n",
              "      <td>4.0</td>\n",
              "      <td>1.0</td>\n",
              "      <td>0</td>\n",
              "      <td>0</td>\n",
              "      <td>0</td>\n",
              "      <td>0</td>\n",
              "      <td>1</td>\n",
              "      <td>0</td>\n",
              "      <td>0</td>\n",
              "      <td>0</td>\n",
              "      <td>1</td>\n",
              "      <td>0</td>\n",
              "      <td>0</td>\n",
              "      <td>0</td>\n",
              "      <td>0</td>\n",
              "      <td>0</td>\n",
              "      <td>0</td>\n",
              "      <td>1</td>\n",
              "      <td>0</td>\n",
              "      <td>0</td>\n",
              "    </tr>\n",
              "    <tr>\n",
              "      <th>...</th>\n",
              "      <td>...</td>\n",
              "      <td>...</td>\n",
              "      <td>...</td>\n",
              "      <td>...</td>\n",
              "      <td>...</td>\n",
              "      <td>...</td>\n",
              "      <td>...</td>\n",
              "      <td>...</td>\n",
              "      <td>...</td>\n",
              "      <td>...</td>\n",
              "      <td>...</td>\n",
              "      <td>...</td>\n",
              "      <td>...</td>\n",
              "      <td>...</td>\n",
              "      <td>...</td>\n",
              "      <td>...</td>\n",
              "      <td>...</td>\n",
              "      <td>...</td>\n",
              "      <td>...</td>\n",
              "      <td>...</td>\n",
              "      <td>...</td>\n",
              "      <td>...</td>\n",
              "      <td>...</td>\n",
              "      <td>...</td>\n",
              "      <td>...</td>\n",
              "      <td>...</td>\n",
              "    </tr>\n",
              "    <tr>\n",
              "      <th>3591</th>\n",
              "      <td>0.468557</td>\n",
              "      <td>2.509850</td>\n",
              "      <td>-0.293441</td>\n",
              "      <td>1.511413</td>\n",
              "      <td>4.0</td>\n",
              "      <td>2.0</td>\n",
              "      <td>2.0</td>\n",
              "      <td>0.0</td>\n",
              "      <td>0</td>\n",
              "      <td>1</td>\n",
              "      <td>0</td>\n",
              "      <td>0</td>\n",
              "      <td>0</td>\n",
              "      <td>0</td>\n",
              "      <td>0</td>\n",
              "      <td>0</td>\n",
              "      <td>0</td>\n",
              "      <td>0</td>\n",
              "      <td>1</td>\n",
              "      <td>0</td>\n",
              "      <td>0</td>\n",
              "      <td>0</td>\n",
              "      <td>0</td>\n",
              "      <td>0</td>\n",
              "      <td>1</td>\n",
              "      <td>0</td>\n",
              "    </tr>\n",
              "    <tr>\n",
              "      <th>3592</th>\n",
              "      <td>0.468557</td>\n",
              "      <td>2.509850</td>\n",
              "      <td>-0.293441</td>\n",
              "      <td>1.511413</td>\n",
              "      <td>4.0</td>\n",
              "      <td>2.0</td>\n",
              "      <td>2.0</td>\n",
              "      <td>0.0</td>\n",
              "      <td>0</td>\n",
              "      <td>1</td>\n",
              "      <td>0</td>\n",
              "      <td>0</td>\n",
              "      <td>0</td>\n",
              "      <td>0</td>\n",
              "      <td>0</td>\n",
              "      <td>0</td>\n",
              "      <td>0</td>\n",
              "      <td>0</td>\n",
              "      <td>1</td>\n",
              "      <td>0</td>\n",
              "      <td>0</td>\n",
              "      <td>0</td>\n",
              "      <td>0</td>\n",
              "      <td>0</td>\n",
              "      <td>1</td>\n",
              "      <td>0</td>\n",
              "    </tr>\n",
              "    <tr>\n",
              "      <th>3593</th>\n",
              "      <td>0.578196</td>\n",
              "      <td>-0.367737</td>\n",
              "      <td>0.862709</td>\n",
              "      <td>1.464018</td>\n",
              "      <td>3.0</td>\n",
              "      <td>3.0</td>\n",
              "      <td>1.0</td>\n",
              "      <td>9.0</td>\n",
              "      <td>0</td>\n",
              "      <td>0</td>\n",
              "      <td>0</td>\n",
              "      <td>1</td>\n",
              "      <td>0</td>\n",
              "      <td>0</td>\n",
              "      <td>0</td>\n",
              "      <td>0</td>\n",
              "      <td>0</td>\n",
              "      <td>0</td>\n",
              "      <td>0</td>\n",
              "      <td>1</td>\n",
              "      <td>0</td>\n",
              "      <td>0</td>\n",
              "      <td>0</td>\n",
              "      <td>0</td>\n",
              "      <td>1</td>\n",
              "      <td>0</td>\n",
              "    </tr>\n",
              "    <tr>\n",
              "      <th>3594</th>\n",
              "      <td>0.578196</td>\n",
              "      <td>-0.367737</td>\n",
              "      <td>0.862709</td>\n",
              "      <td>1.464018</td>\n",
              "      <td>3.0</td>\n",
              "      <td>3.0</td>\n",
              "      <td>1.0</td>\n",
              "      <td>9.0</td>\n",
              "      <td>0</td>\n",
              "      <td>0</td>\n",
              "      <td>0</td>\n",
              "      <td>1</td>\n",
              "      <td>0</td>\n",
              "      <td>0</td>\n",
              "      <td>0</td>\n",
              "      <td>0</td>\n",
              "      <td>0</td>\n",
              "      <td>0</td>\n",
              "      <td>0</td>\n",
              "      <td>1</td>\n",
              "      <td>0</td>\n",
              "      <td>0</td>\n",
              "      <td>0</td>\n",
              "      <td>0</td>\n",
              "      <td>1</td>\n",
              "      <td>0</td>\n",
              "    </tr>\n",
              "    <tr>\n",
              "      <th>3595</th>\n",
              "      <td>0.578196</td>\n",
              "      <td>-0.367737</td>\n",
              "      <td>0.862709</td>\n",
              "      <td>1.464018</td>\n",
              "      <td>3.0</td>\n",
              "      <td>3.0</td>\n",
              "      <td>1.0</td>\n",
              "      <td>9.0</td>\n",
              "      <td>0</td>\n",
              "      <td>0</td>\n",
              "      <td>0</td>\n",
              "      <td>1</td>\n",
              "      <td>0</td>\n",
              "      <td>0</td>\n",
              "      <td>0</td>\n",
              "      <td>0</td>\n",
              "      <td>0</td>\n",
              "      <td>0</td>\n",
              "      <td>0</td>\n",
              "      <td>1</td>\n",
              "      <td>0</td>\n",
              "      <td>0</td>\n",
              "      <td>0</td>\n",
              "      <td>0</td>\n",
              "      <td>1</td>\n",
              "      <td>0</td>\n",
              "    </tr>\n",
              "  </tbody>\n",
              "</table>\n",
              "<p>3596 rows × 26 columns</p>\n",
              "</div>"
            ],
            "text/plain": [
              "           Age  DistanceFromHome  ...  MaritalStatus_Married  MaritalStatus_Single\n",
              "0    -0.737471         -1.021734  ...                      1                     0\n",
              "1     0.139640         -0.890934  ...                      1                     0\n",
              "2    -1.176027         -0.367737  ...                      1                     0\n",
              "3    -0.956749         -0.106138  ...                      0                     1\n",
              "4    -0.189277         -0.629336  ...                      0                     0\n",
              "...        ...               ...  ...                    ...                   ...\n",
              "3591  0.468557          2.509850  ...                      1                     0\n",
              "3592  0.468557          2.509850  ...                      1                     0\n",
              "3593  0.578196         -0.367737  ...                      1                     0\n",
              "3594  0.578196         -0.367737  ...                      1                     0\n",
              "3595  0.578196         -0.367737  ...                      1                     0\n",
              "\n",
              "[3596 rows x 26 columns]"
            ]
          },
          "metadata": {
            "tags": []
          },
          "execution_count": 487
        }
      ]
    },
    {
      "cell_type": "code",
      "metadata": {
        "colab": {
          "base_uri": "https://localhost:8080/",
          "height": 704
        },
        "id": "0NlRMjqj8T5k",
        "outputId": "b4781b86-7644-422b-b79d-b571753fcdde"
      },
      "source": [
        "plt.subplots(figsize=(10,8))\r\n",
        "ax = plt.axes()\r\n",
        "ax.set_title(\"Attrition Heatmap\")\r\n",
        "corr = datascaled.corr()\r\n",
        "sns.heatmap(corr, \r\n",
        "           xticklabels=corr.columns.values,\r\n",
        "           yticklabels=corr.columns.values, cmap=\"Blues\",linewidths=.5)"
      ],
      "execution_count": 488,
      "outputs": [
        {
          "output_type": "execute_result",
          "data": {
            "text/plain": [
              "<matplotlib.axes._subplots.AxesSubplot at 0x7fc2f1b9f128>"
            ]
          },
          "metadata": {
            "tags": []
          },
          "execution_count": 488
        },
        {
          "output_type": "display_data",
          "data": {
            "image/png": "[encoded data removed]",
            "text/plain": [
              "<Figure size 720x576 with 2 Axes>"
            ]
          },
          "metadata": {
            "tags": [],
            "needs_background": "light"
          }
        }
      ]
    },
    {
      "cell_type": "code",
      "metadata": {
        "colab": {
          "base_uri": "https://localhost:8080/",
          "height": 282
        },
        "id": "RvFpbGIYdzzv",
        "outputId": "1075d78c-795f-45f0-cf08-941d4f323c60"
      },
      "source": [
        "data4.describe()"
      ],
      "execution_count": 489,
      "outputs": [
        {
          "output_type": "execute_result",
          "data": {
            "text/html": [
              "<div>\n",
              "<style scoped>\n",
              "    .dataframe tbody tr th:only-of-type {\n",
              "        vertical-align: middle;\n",
              "    }\n",
              "\n",
              "    .dataframe tbody tr th {\n",
              "        vertical-align: top;\n",
              "    }\n",
              "\n",
              "    .dataframe thead th {\n",
              "        text-align: right;\n",
              "    }\n",
              "</style>\n",
              "<table border=\"1\" class=\"dataframe\">\n",
              "  <thead>\n",
              "    <tr style=\"text-align: right;\">\n",
              "      <th></th>\n",
              "      <th>Age</th>\n",
              "      <th>DistanceFromHome</th>\n",
              "      <th>Education</th>\n",
              "      <th>EnvironmentSatisfaction</th>\n",
              "      <th>HourlyRate</th>\n",
              "      <th>JobInvolvement</th>\n",
              "      <th>JobLevel</th>\n",
              "      <th>JobSatisfaction</th>\n",
              "      <th>MonthlyIncome</th>\n",
              "      <th>NumCompaniesWorked</th>\n",
              "      <th>Attrition</th>\n",
              "    </tr>\n",
              "  </thead>\n",
              "  <tbody>\n",
              "    <tr>\n",
              "      <th>count</th>\n",
              "      <td>3596.000000</td>\n",
              "      <td>3596.000000</td>\n",
              "      <td>3596.000000</td>\n",
              "      <td>3596.000000</td>\n",
              "      <td>3596.000000</td>\n",
              "      <td>3596.000000</td>\n",
              "      <td>3596.000000</td>\n",
              "      <td>3596.000000</td>\n",
              "      <td>3596.000000</td>\n",
              "      <td>3596.000000</td>\n",
              "      <td>3596.000000</td>\n",
              "    </tr>\n",
              "    <tr>\n",
              "      <th>mean</th>\n",
              "      <td>36.726363</td>\n",
              "      <td>8.811457</td>\n",
              "      <td>2.897664</td>\n",
              "      <td>2.736374</td>\n",
              "      <td>65.837597</td>\n",
              "      <td>2.747497</td>\n",
              "      <td>2.063960</td>\n",
              "      <td>2.724972</td>\n",
              "      <td>6490.464405</td>\n",
              "      <td>2.678254</td>\n",
              "      <td>0.495551</td>\n",
              "    </tr>\n",
              "    <tr>\n",
              "      <th>std</th>\n",
              "      <td>9.122116</td>\n",
              "      <td>7.646359</td>\n",
              "      <td>1.024639</td>\n",
              "      <td>1.091130</td>\n",
              "      <td>19.896388</td>\n",
              "      <td>0.707741</td>\n",
              "      <td>1.100675</td>\n",
              "      <td>1.102406</td>\n",
              "      <td>4684.701397</td>\n",
              "      <td>2.503446</td>\n",
              "      <td>0.500050</td>\n",
              "    </tr>\n",
              "    <tr>\n",
              "      <th>min</th>\n",
              "      <td>18.000000</td>\n",
              "      <td>1.000000</td>\n",
              "      <td>1.000000</td>\n",
              "      <td>1.000000</td>\n",
              "      <td>30.000000</td>\n",
              "      <td>1.000000</td>\n",
              "      <td>1.000000</td>\n",
              "      <td>1.000000</td>\n",
              "      <td>1009.000000</td>\n",
              "      <td>0.000000</td>\n",
              "      <td>0.000000</td>\n",
              "    </tr>\n",
              "    <tr>\n",
              "      <th>25%</th>\n",
              "      <td>30.000000</td>\n",
              "      <td>2.000000</td>\n",
              "      <td>2.000000</td>\n",
              "      <td>2.000000</td>\n",
              "      <td>49.000000</td>\n",
              "      <td>2.000000</td>\n",
              "      <td>1.000000</td>\n",
              "      <td>2.000000</td>\n",
              "      <td>2909.000000</td>\n",
              "      <td>1.000000</td>\n",
              "      <td>0.000000</td>\n",
              "    </tr>\n",
              "    <tr>\n",
              "      <th>50%</th>\n",
              "      <td>36.000000</td>\n",
              "      <td>7.000000</td>\n",
              "      <td>3.000000</td>\n",
              "      <td>3.000000</td>\n",
              "      <td>66.000000</td>\n",
              "      <td>3.000000</td>\n",
              "      <td>2.000000</td>\n",
              "      <td>3.000000</td>\n",
              "      <td>4919.000000</td>\n",
              "      <td>2.000000</td>\n",
              "      <td>0.000000</td>\n",
              "    </tr>\n",
              "    <tr>\n",
              "      <th>75%</th>\n",
              "      <td>42.000000</td>\n",
              "      <td>13.000000</td>\n",
              "      <td>4.000000</td>\n",
              "      <td>4.000000</td>\n",
              "      <td>83.000000</td>\n",
              "      <td>3.000000</td>\n",
              "      <td>3.000000</td>\n",
              "      <td>4.000000</td>\n",
              "      <td>8381.000000</td>\n",
              "      <td>4.000000</td>\n",
              "      <td>1.000000</td>\n",
              "    </tr>\n",
              "    <tr>\n",
              "      <th>max</th>\n",
              "      <td>59.000000</td>\n",
              "      <td>28.000000</td>\n",
              "      <td>5.000000</td>\n",
              "      <td>4.000000</td>\n",
              "      <td>99.000000</td>\n",
              "      <td>4.000000</td>\n",
              "      <td>5.000000</td>\n",
              "      <td>4.000000</td>\n",
              "      <td>19973.000000</td>\n",
              "      <td>9.000000</td>\n",
              "      <td>1.000000</td>\n",
              "    </tr>\n",
              "  </tbody>\n",
              "</table>\n",
              "</div>"
            ],
            "text/plain": [
              "               Age  DistanceFromHome  ...  NumCompaniesWorked    Attrition\n",
              "count  3596.000000       3596.000000  ...         3596.000000  3596.000000\n",
              "mean     36.726363          8.811457  ...            2.678254     0.495551\n",
              "std       9.122116          7.646359  ...            2.503446     0.500050\n",
              "min      18.000000          1.000000  ...            0.000000     0.000000\n",
              "25%      30.000000          2.000000  ...            1.000000     0.000000\n",
              "50%      36.000000          7.000000  ...            2.000000     0.000000\n",
              "75%      42.000000         13.000000  ...            4.000000     1.000000\n",
              "max      59.000000         28.000000  ...            9.000000     1.000000\n",
              "\n",
              "[8 rows x 11 columns]"
            ]
          },
          "metadata": {
            "tags": []
          },
          "execution_count": 489
        }
      ]
    },
    {
      "cell_type": "code",
      "metadata": {
        "id": "oTI_x2aoEGCR"
      },
      "source": [
        "cleaneddata=datascaled"
      ],
      "execution_count": 490,
      "outputs": []
    },
    {
      "cell_type": "code",
      "metadata": {
        "id": "0ZVFpMeCjaXP"
      },
      "source": [
        "x = datascaled"
      ],
      "execution_count": 491,
      "outputs": []
    },
    {
      "cell_type": "code",
      "metadata": {
        "id": "Jvl8Oy06KB2Q"
      },
      "source": [
        "visualcomparison = pd.concat([x.reset_index(drop=True), y.reset_index(drop=True)], axis=1)"
      ],
      "execution_count": 492,
      "outputs": []
    },
    {
      "cell_type": "code",
      "metadata": {
        "colab": {
          "base_uri": "https://localhost:8080/",
          "height": 355
        },
        "id": "wayFUS0lP-dx",
        "outputId": "54504732-1939-4617-c117-250aacd315b2"
      },
      "source": [
        "Y_count = len(visualcomparison[visualcomparison['Attrition'] == 1])\r\n",
        "N_count = len(visualcomparison[visualcomparison['Attrition'] == 0])\r\n",
        "# create data\r\n",
        "names='Yes', 'No',\r\n",
        "size=[Y_count,N_count]\r\n",
        " \r\n",
        "# Create a circle for the center of the plot\r\n",
        "my_circle=plt.Circle( (0,0), 0.7, color='white')\r\n",
        "plt.pie(size, labels=names, colors=['lightcoral','cornflowerblue'],autopct='%1.0f%%')\r\n",
        "p=plt.gcf()\r\n",
        "p.gca().add_artist(my_circle)\r\n",
        "ax = plt.axes()\r\n",
        "ax.set_title(\"Attrition Proportion\")\r\n",
        "plt.show()"
      ],
      "execution_count": 493,
      "outputs": [
        {
          "output_type": "stream",
          "text": [
            "/usr/local/lib/python3.6/dist-packages/ipykernel_launcher.py:12: MatplotlibDeprecationWarning:\n",
            "\n",
            "Adding an axes using the same arguments as a previous axes currently reuses the earlier instance.  In a future version, a new instance will always be created and returned.  Meanwhile, this warning can be suppressed, and the future behavior ensured, by passing a unique label to each axes instance.\n",
            "\n"
          ],
          "name": "stderr"
        },
        {
          "output_type": "display_data",
          "data": {
            "image/png": "[encoded data removed]",
            "text/plain": [
              "<Figure size 432x288 with 1 Axes>"
            ]
          },
          "metadata": {
            "tags": []
          }
        }
      ]
    },
    {
      "cell_type": "code",
      "metadata": {
        "colab": {
          "base_uri": "https://localhost:8080/",
          "height": 436
        },
        "id": "AImQWigsWjn3",
        "outputId": "e11e67d4-b912-4be6-ba6f-9630ab4bec3a"
      },
      "source": [
        "visualcomparison"
      ],
      "execution_count": 494,
      "outputs": [
        {
          "output_type": "execute_result",
          "data": {
            "text/html": [
              "<div>\n",
              "<style scoped>\n",
              "    .dataframe tbody tr th:only-of-type {\n",
              "        vertical-align: middle;\n",
              "    }\n",
              "\n",
              "    .dataframe tbody tr th {\n",
              "        vertical-align: top;\n",
              "    }\n",
              "\n",
              "    .dataframe thead th {\n",
              "        text-align: right;\n",
              "    }\n",
              "</style>\n",
              "<table border=\"1\" class=\"dataframe\">\n",
              "  <thead>\n",
              "    <tr style=\"text-align: right;\">\n",
              "      <th></th>\n",
              "      <th>Age</th>\n",
              "      <th>DistanceFromHome</th>\n",
              "      <th>HourlyRate</th>\n",
              "      <th>MonthlyIncome</th>\n",
              "      <th>Education</th>\n",
              "      <th>JobInvolvement</th>\n",
              "      <th>JobSatisfaction</th>\n",
              "      <th>NumCompaniesWorked</th>\n",
              "      <th>EducationField_Human Resources</th>\n",
              "      <th>EducationField_Life Sciences</th>\n",
              "      <th>EducationField_Marketing</th>\n",
              "      <th>EducationField_Medical</th>\n",
              "      <th>EducationField_Other</th>\n",
              "      <th>EducationField_Technical Degree</th>\n",
              "      <th>JobRole_Healthcare Representative</th>\n",
              "      <th>JobRole_Human Resources</th>\n",
              "      <th>JobRole_Laboratory Technician</th>\n",
              "      <th>JobRole_Manager</th>\n",
              "      <th>JobRole_Manufacturing Director</th>\n",
              "      <th>JobRole_Research Director</th>\n",
              "      <th>JobRole_Research Scientist</th>\n",
              "      <th>JobRole_Sales Executive</th>\n",
              "      <th>JobRole_Sales Representative</th>\n",
              "      <th>MaritalStatus_Divorced</th>\n",
              "      <th>MaritalStatus_Married</th>\n",
              "      <th>MaritalStatus_Single</th>\n",
              "      <th>Attrition</th>\n",
              "    </tr>\n",
              "  </thead>\n",
              "  <tbody>\n",
              "    <tr>\n",
              "      <th>0</th>\n",
              "      <td>-0.737471</td>\n",
              "      <td>-1.021734</td>\n",
              "      <td>-0.544778</td>\n",
              "      <td>-0.291300</td>\n",
              "      <td>1.0</td>\n",
              "      <td>2.0</td>\n",
              "      <td>4.0</td>\n",
              "      <td>1.0</td>\n",
              "      <td>0</td>\n",
              "      <td>1</td>\n",
              "      <td>0</td>\n",
              "      <td>0</td>\n",
              "      <td>0</td>\n",
              "      <td>0</td>\n",
              "      <td>0</td>\n",
              "      <td>0</td>\n",
              "      <td>1</td>\n",
              "      <td>0</td>\n",
              "      <td>0</td>\n",
              "      <td>0</td>\n",
              "      <td>0</td>\n",
              "      <td>0</td>\n",
              "      <td>0</td>\n",
              "      <td>0</td>\n",
              "      <td>1</td>\n",
              "      <td>0</td>\n",
              "      <td>0</td>\n",
              "    </tr>\n",
              "    <tr>\n",
              "      <th>1</th>\n",
              "      <td>0.139640</td>\n",
              "      <td>-0.890934</td>\n",
              "      <td>-0.595045</td>\n",
              "      <td>0.270180</td>\n",
              "      <td>2.0</td>\n",
              "      <td>2.0</td>\n",
              "      <td>3.0</td>\n",
              "      <td>3.0</td>\n",
              "      <td>0</td>\n",
              "      <td>0</td>\n",
              "      <td>0</td>\n",
              "      <td>1</td>\n",
              "      <td>0</td>\n",
              "      <td>0</td>\n",
              "      <td>0</td>\n",
              "      <td>0</td>\n",
              "      <td>0</td>\n",
              "      <td>0</td>\n",
              "      <td>1</td>\n",
              "      <td>0</td>\n",
              "      <td>0</td>\n",
              "      <td>0</td>\n",
              "      <td>0</td>\n",
              "      <td>0</td>\n",
              "      <td>1</td>\n",
              "      <td>0</td>\n",
              "      <td>0</td>\n",
              "    </tr>\n",
              "    <tr>\n",
              "      <th>2</th>\n",
              "      <td>-1.176027</td>\n",
              "      <td>-0.367737</td>\n",
              "      <td>-0.997184</td>\n",
              "      <td>-0.880107</td>\n",
              "      <td>3.0</td>\n",
              "      <td>2.0</td>\n",
              "      <td>2.0</td>\n",
              "      <td>1.0</td>\n",
              "      <td>0</td>\n",
              "      <td>0</td>\n",
              "      <td>0</td>\n",
              "      <td>0</td>\n",
              "      <td>1</td>\n",
              "      <td>0</td>\n",
              "      <td>0</td>\n",
              "      <td>0</td>\n",
              "      <td>0</td>\n",
              "      <td>0</td>\n",
              "      <td>0</td>\n",
              "      <td>0</td>\n",
              "      <td>1</td>\n",
              "      <td>0</td>\n",
              "      <td>0</td>\n",
              "      <td>0</td>\n",
              "      <td>1</td>\n",
              "      <td>0</td>\n",
              "      <td>0</td>\n",
              "    </tr>\n",
              "    <tr>\n",
              "      <th>3</th>\n",
              "      <td>-0.956749</td>\n",
              "      <td>-0.106138</td>\n",
              "      <td>0.008164</td>\n",
              "      <td>-0.678999</td>\n",
              "      <td>2.0</td>\n",
              "      <td>3.0</td>\n",
              "      <td>4.0</td>\n",
              "      <td>1.0</td>\n",
              "      <td>0</td>\n",
              "      <td>1</td>\n",
              "      <td>0</td>\n",
              "      <td>0</td>\n",
              "      <td>0</td>\n",
              "      <td>0</td>\n",
              "      <td>0</td>\n",
              "      <td>0</td>\n",
              "      <td>0</td>\n",
              "      <td>0</td>\n",
              "      <td>0</td>\n",
              "      <td>0</td>\n",
              "      <td>1</td>\n",
              "      <td>0</td>\n",
              "      <td>0</td>\n",
              "      <td>0</td>\n",
              "      <td>0</td>\n",
              "      <td>1</td>\n",
              "      <td>0</td>\n",
              "    </tr>\n",
              "    <tr>\n",
              "      <th>4</th>\n",
              "      <td>-0.189277</td>\n",
              "      <td>-0.629336</td>\n",
              "      <td>0.460570</td>\n",
              "      <td>-0.969132</td>\n",
              "      <td>2.0</td>\n",
              "      <td>3.0</td>\n",
              "      <td>4.0</td>\n",
              "      <td>1.0</td>\n",
              "      <td>0</td>\n",
              "      <td>0</td>\n",
              "      <td>0</td>\n",
              "      <td>0</td>\n",
              "      <td>1</td>\n",
              "      <td>0</td>\n",
              "      <td>0</td>\n",
              "      <td>0</td>\n",
              "      <td>1</td>\n",
              "      <td>0</td>\n",
              "      <td>0</td>\n",
              "      <td>0</td>\n",
              "      <td>0</td>\n",
              "      <td>0</td>\n",
              "      <td>0</td>\n",
              "      <td>1</td>\n",
              "      <td>0</td>\n",
              "      <td>0</td>\n",
              "      <td>0</td>\n",
              "    </tr>\n",
              "    <tr>\n",
              "      <th>...</th>\n",
              "      <td>...</td>\n",
              "      <td>...</td>\n",
              "      <td>...</td>\n",
              "      <td>...</td>\n",
              "      <td>...</td>\n",
              "      <td>...</td>\n",
              "      <td>...</td>\n",
              "      <td>...</td>\n",
              "      <td>...</td>\n",
              "      <td>...</td>\n",
              "      <td>...</td>\n",
              "      <td>...</td>\n",
              "      <td>...</td>\n",
              "      <td>...</td>\n",
              "      <td>...</td>\n",
              "      <td>...</td>\n",
              "      <td>...</td>\n",
              "      <td>...</td>\n",
              "      <td>...</td>\n",
              "      <td>...</td>\n",
              "      <td>...</td>\n",
              "      <td>...</td>\n",
              "      <td>...</td>\n",
              "      <td>...</td>\n",
              "      <td>...</td>\n",
              "      <td>...</td>\n",
              "      <td>...</td>\n",
              "    </tr>\n",
              "    <tr>\n",
              "      <th>3591</th>\n",
              "      <td>0.468557</td>\n",
              "      <td>2.509850</td>\n",
              "      <td>-0.293441</td>\n",
              "      <td>1.511413</td>\n",
              "      <td>4.0</td>\n",
              "      <td>2.0</td>\n",
              "      <td>2.0</td>\n",
              "      <td>0.0</td>\n",
              "      <td>0</td>\n",
              "      <td>1</td>\n",
              "      <td>0</td>\n",
              "      <td>0</td>\n",
              "      <td>0</td>\n",
              "      <td>0</td>\n",
              "      <td>0</td>\n",
              "      <td>0</td>\n",
              "      <td>0</td>\n",
              "      <td>0</td>\n",
              "      <td>1</td>\n",
              "      <td>0</td>\n",
              "      <td>0</td>\n",
              "      <td>0</td>\n",
              "      <td>0</td>\n",
              "      <td>0</td>\n",
              "      <td>1</td>\n",
              "      <td>0</td>\n",
              "      <td>1</td>\n",
              "    </tr>\n",
              "    <tr>\n",
              "      <th>3592</th>\n",
              "      <td>0.468557</td>\n",
              "      <td>2.509850</td>\n",
              "      <td>-0.293441</td>\n",
              "      <td>1.511413</td>\n",
              "      <td>4.0</td>\n",
              "      <td>2.0</td>\n",
              "      <td>2.0</td>\n",
              "      <td>0.0</td>\n",
              "      <td>0</td>\n",
              "      <td>1</td>\n",
              "      <td>0</td>\n",
              "      <td>0</td>\n",
              "      <td>0</td>\n",
              "      <td>0</td>\n",
              "      <td>0</td>\n",
              "      <td>0</td>\n",
              "      <td>0</td>\n",
              "      <td>0</td>\n",
              "      <td>1</td>\n",
              "      <td>0</td>\n",
              "      <td>0</td>\n",
              "      <td>0</td>\n",
              "      <td>0</td>\n",
              "      <td>0</td>\n",
              "      <td>1</td>\n",
              "      <td>0</td>\n",
              "      <td>1</td>\n",
              "    </tr>\n",
              "    <tr>\n",
              "      <th>3593</th>\n",
              "      <td>0.578196</td>\n",
              "      <td>-0.367737</td>\n",
              "      <td>0.862709</td>\n",
              "      <td>1.464018</td>\n",
              "      <td>3.0</td>\n",
              "      <td>3.0</td>\n",
              "      <td>1.0</td>\n",
              "      <td>9.0</td>\n",
              "      <td>0</td>\n",
              "      <td>0</td>\n",
              "      <td>0</td>\n",
              "      <td>1</td>\n",
              "      <td>0</td>\n",
              "      <td>0</td>\n",
              "      <td>0</td>\n",
              "      <td>0</td>\n",
              "      <td>0</td>\n",
              "      <td>0</td>\n",
              "      <td>0</td>\n",
              "      <td>1</td>\n",
              "      <td>0</td>\n",
              "      <td>0</td>\n",
              "      <td>0</td>\n",
              "      <td>0</td>\n",
              "      <td>1</td>\n",
              "      <td>0</td>\n",
              "      <td>1</td>\n",
              "    </tr>\n",
              "    <tr>\n",
              "      <th>3594</th>\n",
              "      <td>0.578196</td>\n",
              "      <td>-0.367737</td>\n",
              "      <td>0.862709</td>\n",
              "      <td>1.464018</td>\n",
              "      <td>3.0</td>\n",
              "      <td>3.0</td>\n",
              "      <td>1.0</td>\n",
              "      <td>9.0</td>\n",
              "      <td>0</td>\n",
              "      <td>0</td>\n",
              "      <td>0</td>\n",
              "      <td>1</td>\n",
              "      <td>0</td>\n",
              "      <td>0</td>\n",
              "      <td>0</td>\n",
              "      <td>0</td>\n",
              "      <td>0</td>\n",
              "      <td>0</td>\n",
              "      <td>0</td>\n",
              "      <td>1</td>\n",
              "      <td>0</td>\n",
              "      <td>0</td>\n",
              "      <td>0</td>\n",
              "      <td>0</td>\n",
              "      <td>1</td>\n",
              "      <td>0</td>\n",
              "      <td>1</td>\n",
              "    </tr>\n",
              "    <tr>\n",
              "      <th>3595</th>\n",
              "      <td>0.578196</td>\n",
              "      <td>-0.367737</td>\n",
              "      <td>0.862709</td>\n",
              "      <td>1.464018</td>\n",
              "      <td>3.0</td>\n",
              "      <td>3.0</td>\n",
              "      <td>1.0</td>\n",
              "      <td>9.0</td>\n",
              "      <td>0</td>\n",
              "      <td>0</td>\n",
              "      <td>0</td>\n",
              "      <td>1</td>\n",
              "      <td>0</td>\n",
              "      <td>0</td>\n",
              "      <td>0</td>\n",
              "      <td>0</td>\n",
              "      <td>0</td>\n",
              "      <td>0</td>\n",
              "      <td>0</td>\n",
              "      <td>1</td>\n",
              "      <td>0</td>\n",
              "      <td>0</td>\n",
              "      <td>0</td>\n",
              "      <td>0</td>\n",
              "      <td>1</td>\n",
              "      <td>0</td>\n",
              "      <td>0</td>\n",
              "    </tr>\n",
              "  </tbody>\n",
              "</table>\n",
              "<p>3596 rows × 27 columns</p>\n",
              "</div>"
            ],
            "text/plain": [
              "           Age  DistanceFromHome  ...  MaritalStatus_Single  Attrition\n",
              "0    -0.737471         -1.021734  ...                     0          0\n",
              "1     0.139640         -0.890934  ...                     0          0\n",
              "2    -1.176027         -0.367737  ...                     0          0\n",
              "3    -0.956749         -0.106138  ...                     1          0\n",
              "4    -0.189277         -0.629336  ...                     0          0\n",
              "...        ...               ...  ...                   ...        ...\n",
              "3591  0.468557          2.509850  ...                     0          1\n",
              "3592  0.468557          2.509850  ...                     0          1\n",
              "3593  0.578196         -0.367737  ...                     0          1\n",
              "3594  0.578196         -0.367737  ...                     0          1\n",
              "3595  0.578196         -0.367737  ...                     0          0\n",
              "\n",
              "[3596 rows x 27 columns]"
            ]
          },
          "metadata": {
            "tags": []
          },
          "execution_count": 494
        }
      ]
    },
    {
      "cell_type": "code",
      "metadata": {
        "id": "ElCpbTMaRjKo"
      },
      "source": [
        "from sklearn.model_selection import train_test_split\r\n",
        "X_train, X_test, y_train, y_test = train_test_split(x, y, test_size=0.2, stratify=y,random_state=42)"
      ],
      "execution_count": 536,
      "outputs": []
    },
    {
      "cell_type": "code",
      "metadata": {
        "id": "IQ1tn2MWjo10"
      },
      "source": [
        "from sklearn.model_selection import StratifiedKFold\r\n",
        "cv = StratifiedKFold(n_splits=5, shuffle=True, random_state=42)\r\n",
        "for train, test in cv.split(x, y):\r\n",
        "  X_train_kfold, y_train_kfold = x.iloc[train], y.iloc[train]\r\n",
        "  X_test_kfold, y_test_kfold = x.iloc[test], y.iloc[test]"
      ],
      "execution_count": 537,
      "outputs": []
    },
    {
      "cell_type": "code",
      "metadata": {
        "colab": {
          "base_uri": "https://localhost:8080/",
          "height": 1000
        },
        "id": "x7XA76k4ou71",
        "outputId": "8fcbe490-08fa-4e1d-e993-65915b983659"
      },
      "source": [
        "from matplotlib import pyplot as plt\r\n",
        "from sklearn.tree import DecisionTreeClassifier\r\n",
        "classifiers = [SVC, KNeighborsClassifier, DecisionTreeClassifier]\r\n",
        "for classifier_class in classifiers:\r\n",
        "    model = classifier_class()\r\n",
        "    model.fit(X_train, y_train)\r\n",
        "    y_pred = model.predict(X_test)\r\n",
        "    print(model.__class__.__name__)\r\n",
        "    print(classification_report(y_test, y_pred))\r\n",
        "    cm = confusion_matrix(y_test, y_pred)\r\n",
        "    sns.heatmap(cm, annot=True, fmt='d')\r\n",
        "    plt.show()"
      ],
      "execution_count": 538,
      "outputs": [
        {
          "output_type": "stream",
          "text": [
            "SVC\n",
            "              precision    recall  f1-score   support\n",
            "\n",
            "           0       0.51      0.67      0.58       363\n",
            "           1       0.50      0.34      0.40       357\n",
            "\n",
            "    accuracy                           0.51       720\n",
            "   macro avg       0.51      0.51      0.49       720\n",
            "weighted avg       0.51      0.51      0.49       720\n",
            "\n"
          ],
          "name": "stdout"
        },
        {
          "output_type": "display_data",
          "data": {
            "image/png": "[encoded data removed]",
            "text/plain": [
              "<Figure size 432x288 with 2 Axes>"
            ]
          },
          "metadata": {
            "tags": [],
            "needs_background": "light"
          }
        },
        {
          "output_type": "stream",
          "text": [
            "KNeighborsClassifier\n",
            "              precision    recall  f1-score   support\n",
            "\n",
            "           0       0.49      0.47      0.48       363\n",
            "           1       0.49      0.51      0.50       357\n",
            "\n",
            "    accuracy                           0.49       720\n",
            "   macro avg       0.49      0.49      0.49       720\n",
            "weighted avg       0.49      0.49      0.49       720\n",
            "\n"
          ],
          "name": "stdout"
        },
        {
          "output_type": "display_data",
          "data": {
            "image/png": "[encoded data removed]",
            "text/plain": [
              "<Figure size 432x288 with 2 Axes>"
            ]
          },
          "metadata": {
            "tags": [],
            "needs_background": "light"
          }
        },
        {
          "output_type": "stream",
          "text": [
            "DecisionTreeClassifier\n",
            "              precision    recall  f1-score   support\n",
            "\n",
            "           0       0.45      0.52      0.48       363\n",
            "           1       0.42      0.36      0.39       357\n",
            "\n",
            "    accuracy                           0.44       720\n",
            "   macro avg       0.44      0.44      0.44       720\n",
            "weighted avg       0.44      0.44      0.44       720\n",
            "\n"
          ],
          "name": "stdout"
        },
        {
          "output_type": "display_data",
          "data": {
            "image/png": "[encoded data removed]",
            "text/plain": [
              "<Figure size 432x288 with 2 Axes>"
            ]
          },
          "metadata": {
            "tags": [],
            "needs_background": "light"
          }
        }
      ]
    },
    {
      "cell_type": "code",
      "metadata": {
        "colab": {
          "base_uri": "https://localhost:8080/",
          "height": 1000
        },
        "id": "yOT7947eozPf",
        "outputId": "41187dac-0d01-4a03-f1ed-4123478352f8"
      },
      "source": [
        "from matplotlib import pyplot as plt\r\n",
        "from sklearn.tree import DecisionTreeClassifier\r\n",
        "classifiers = [SVC, KNeighborsClassifier, DecisionTreeClassifier]\r\n",
        "for classifier_class in classifiers:\r\n",
        "    model = classifier_class()\r\n",
        "    model.fit(X_train_kfold, y_train_kfold)\r\n",
        "    y_pred_kfold = model.predict(X_test_kfold)\r\n",
        "    print(model.__class__.__name__)\r\n",
        "    print(classification_report(y_test_kfold, y_pred_kfold))\r\n",
        "    cm = confusion_matrix(y_test_kfold, y_pred_kfold)\r\n",
        "    sns.heatmap(cm, annot=True, fmt='d')\r\n",
        "    plt.show()"
      ],
      "execution_count": 498,
      "outputs": [
        {
          "output_type": "stream",
          "text": [
            "SVC\n",
            "              precision    recall  f1-score   support\n",
            "\n",
            "           0       0.49      0.57      0.52       362\n",
            "           1       0.48      0.40      0.44       357\n",
            "\n",
            "    accuracy                           0.48       719\n",
            "   macro avg       0.48      0.48      0.48       719\n",
            "weighted avg       0.48      0.48      0.48       719\n",
            "\n"
          ],
          "name": "stdout"
        },
        {
          "output_type": "display_data",
          "data": {
            "image/png": "[encoded data removed]",
            "text/plain": [
              "<Figure size 432x288 with 2 Axes>"
            ]
          },
          "metadata": {
            "tags": [],
            "needs_background": "light"
          }
        },
        {
          "output_type": "stream",
          "text": [
            "KNeighborsClassifier\n",
            "              precision    recall  f1-score   support\n",
            "\n",
            "           0       0.47      0.49      0.48       362\n",
            "           1       0.46      0.43      0.45       357\n",
            "\n",
            "    accuracy                           0.46       719\n",
            "   macro avg       0.46      0.46      0.46       719\n",
            "weighted avg       0.46      0.46      0.46       719\n",
            "\n"
          ],
          "name": "stdout"
        },
        {
          "output_type": "display_data",
          "data": {
            "image/png": "[encoded data removed]",
            "text/plain": [
              "<Figure size 432x288 with 2 Axes>"
            ]
          },
          "metadata": {
            "tags": [],
            "needs_background": "light"
          }
        },
        {
          "output_type": "stream",
          "text": [
            "DecisionTreeClassifier\n",
            "              precision    recall  f1-score   support\n",
            "\n",
            "           0       0.46      0.53      0.49       362\n",
            "           1       0.44      0.37      0.40       357\n",
            "\n",
            "    accuracy                           0.45       719\n",
            "   macro avg       0.45      0.45      0.45       719\n",
            "weighted avg       0.45      0.45      0.45       719\n",
            "\n"
          ],
          "name": "stdout"
        },
        {
          "output_type": "display_data",
          "data": {
            "image/png": "[encoded data removed]",
            "text/plain": [
              "<Figure size 432x288 with 2 Axes>"
            ]
          },
          "metadata": {
            "tags": [],
            "needs_background": "light"
          }
        }
      ]
    },
    {
      "cell_type": "markdown",
      "metadata": {
        "id": "Ib0F_8wBmhBr"
      },
      "source": [
        "KNN\r\n"
      ]
    },
    {
      "cell_type": "code",
      "metadata": {
        "id": "laU4eURVhW3V"
      },
      "source": [
        "from sklearn.neighbors import KNeighborsClassifier\r\n",
        "# Create and fit the model\r\n",
        "knn = KNeighborsClassifier(n_neighbors=5)\r\n",
        "knn.fit(X_train, y_train)\r\n",
        "# Predict on the test features, print the results\r\n",
        "pred = knn.predict(X_test)"
      ],
      "execution_count": 499,
      "outputs": []
    },
    {
      "cell_type": "code",
      "metadata": {
        "id": "WOijq1lNhhV7"
      },
      "source": [
        "from sklearn.metrics import accuracy_score, precision_score, recall_score, f1_score\r\n",
        "# average:\r\n",
        "#   None - wyniki dla każdej klasy osobno\r\n",
        "#   'binary' - dla wybranej w `pos_label` etykiety\r\n",
        "#   'micro' - dla całkowitej liczby TP, FN, FP\r\n",
        "#   'macro' - nieważona średnia dla każdej klasy\r\n",
        "#   'weighted' - ważona średnia dla każdej klasy\r\n",
        "def calculate_metrics(target, prediction, average='micro'):\r\n",
        "    accuracy = accuracy_score(target, prediction)\r\n",
        "    precision = precision_score(target, prediction, average=average)\r\n",
        "    recall = recall_score(target, prediction, average=average)\r\n",
        "    f1 = f1_score(target, prediction, average=average)\r\n",
        "    mislabeled = (target != prediction).sum()\r\n",
        "    total = len(target)\r\n",
        "    return accuracy, precision, recall, f1, mislabeled, total\r\n",
        "def print_results(metrics, classifier_id='classifier'):\r\n",
        "    print(f'Results for {classifier_id}')\r\n",
        "    print('----')\r\n",
        "    print(f'  Accuracy:  {metrics[0]}')\r\n",
        "    print(f'  Precision: {metrics[1]}')\r\n",
        "    print(f'  Recall:    {metrics[2]}')\r\n",
        "    print(f'  F1 score:  {metrics[3]}')\r\n",
        "    print(f'  Mislabeled {metrics[4]} out of {metrics[5]}')\r\n",
        "    print('\\n')"
      ],
      "execution_count": 500,
      "outputs": []
    },
    {
      "cell_type": "code",
      "metadata": {
        "colab": {
          "base_uri": "https://localhost:8080/"
        },
        "id": "KEBf1GvVhwqk",
        "outputId": "dd0e5607-4d97-4deb-e15a-3d39aabc1951"
      },
      "source": [
        "print_results(calculate_metrics(y_test, pred), 'kNN')"
      ],
      "execution_count": 501,
      "outputs": [
        {
          "output_type": "stream",
          "text": [
            "Results for kNN\n",
            "----\n",
            "  Accuracy:  0.4875\n",
            "  Precision: 0.4875\n",
            "  Recall:    0.4875\n",
            "  F1 score:  0.4875\n",
            "  Mislabeled 369 out of 720\n",
            "\n",
            "\n"
          ],
          "name": "stdout"
        }
      ]
    },
    {
      "cell_type": "code",
      "metadata": {
        "id": "yYiENt-yitHh"
      },
      "source": [
        "import pandas as pd\r\n",
        "import seaborn as sns\r\n",
        "from sklearn.datasets import load_breast_cancer\r\n",
        "from sklearn.model_selection import train_test_split\r\n",
        "from sklearn.metrics import classification_report, confusion_matrix\r\n",
        "from sklearn.svm import SVC"
      ],
      "execution_count": 502,
      "outputs": []
    },
    {
      "cell_type": "code",
      "metadata": {
        "colab": {
          "base_uri": "https://localhost:8080/",
          "height": 428
        },
        "id": "41jBNF7viUC5",
        "outputId": "982d743f-4a8d-48dc-d9b6-d094cee396c7"
      },
      "source": [
        "cm = confusion_matrix(y_test, pred)\r\n",
        "sns.heatmap(cm, annot=True, fmt='d')\r\n",
        "print(classification_report(y_test, pred))"
      ],
      "execution_count": 503,
      "outputs": [
        {
          "output_type": "stream",
          "text": [
            "              precision    recall  f1-score   support\n",
            "\n",
            "           0       0.49      0.52      0.50       363\n",
            "           1       0.48      0.46      0.47       357\n",
            "\n",
            "    accuracy                           0.49       720\n",
            "   macro avg       0.49      0.49      0.49       720\n",
            "weighted avg       0.49      0.49      0.49       720\n",
            "\n"
          ],
          "name": "stdout"
        },
        {
          "output_type": "display_data",
          "data": {
            "image/png": "[encoded data removed]",
            "text/plain": [
              "<Figure size 432x288 with 2 Axes>"
            ]
          },
          "metadata": {
            "tags": [],
            "needs_background": "light"
          }
        }
      ]
    },
    {
      "cell_type": "code",
      "metadata": {
        "id": "vdFeEnj2j-0p"
      },
      "source": [
        "from sklearn.model_selection import GridSearchCV"
      ],
      "execution_count": 504,
      "outputs": []
    },
    {
      "cell_type": "code",
      "metadata": {
        "colab": {
          "base_uri": "https://localhost:8080/"
        },
        "id": "fOvmxysAkKAC",
        "outputId": "b35bca3d-55d2-4a00-e1f7-ef9b975e5aa1"
      },
      "source": [
        "params_knn = {\r\n",
        "    'n_neighbors': [2, 3, 5, 7, 10, 15],\r\n",
        "    'metric': ['euclidean', 'manhattan', 'chebyshev', 'minkowski'],\r\n",
        "    'algorithm': ['auto', 'ball_tree', 'kd_tree']\r\n",
        "}\r\n",
        "clf  = GridSearchCV(KNeighborsClassifier(), params_knn)\r\n",
        "clf.fit(X_train_kfold, y_train_kfold)\r\n",
        "clf.best_params_"
      ],
      "execution_count": 505,
      "outputs": [
        {
          "output_type": "execute_result",
          "data": {
            "text/plain": [
              "{'algorithm': 'auto', 'metric': 'chebyshev', 'n_neighbors': 10}"
            ]
          },
          "metadata": {
            "tags": []
          },
          "execution_count": 505
        }
      ]
    },
    {
      "cell_type": "code",
      "metadata": {
        "id": "56fCjLpKnftL"
      },
      "source": [
        "knn = KNeighborsClassifier(algorithm= 'auto', metric= 'chebyshev', n_neighbors= 10)"
      ],
      "execution_count": 539,
      "outputs": []
    },
    {
      "cell_type": "code",
      "metadata": {
        "id": "EdNoDVWfnkho"
      },
      "source": [
        "knn.fit(X_train_kfold, y_train_kfold)\r\n",
        "y_pred_kfold = knn.predict(X_test_kfold)"
      ],
      "execution_count": 540,
      "outputs": []
    },
    {
      "cell_type": "code",
      "metadata": {
        "colab": {
          "base_uri": "https://localhost:8080/"
        },
        "id": "Wh7OCyXMnm7q",
        "outputId": "0fc1b1ad-8f71-4c39-bcf5-6092b3825f53"
      },
      "source": [
        "print_results(calculate_metrics(y_test_kfold, y_pred_kfold), 'kNN for KFold')"
      ],
      "execution_count": 541,
      "outputs": [
        {
          "output_type": "stream",
          "text": [
            "Results for kNN for KFold\n",
            "----\n",
            "  Accuracy:  0.4659248956884562\n",
            "  Precision: 0.4659248956884562\n",
            "  Recall:    0.4659248956884562\n",
            "  F1 score:  0.4659248956884562\n",
            "  Mislabeled 384 out of 719\n",
            "\n",
            "\n"
          ],
          "name": "stdout"
        }
      ]
    },
    {
      "cell_type": "code",
      "metadata": {
        "id": "Q6JPUmjGN1uk"
      },
      "source": [
        "# y_pred = knn.predict()\r\n",
        "# y_pred.to_csv(index=False)"
      ],
      "execution_count": 542,
      "outputs": []
    },
    {
      "cell_type": "code",
      "metadata": {
        "id": "kOaDkIgEKyAS"
      },
      "source": [
        "# y_pred_kfold_csv = pd.DataFrame(data=y_pred_kfold)\r\n",
        "# y_pred_kfold_csv('y_pred.csv', index = False)\r\n",
        "# from google.colab import files\r\n",
        "# files.download('y_pred.csv')"
      ],
      "execution_count": 543,
      "outputs": []
    },
    {
      "cell_type": "code",
      "metadata": {
        "colab": {
          "base_uri": "https://localhost:8080/",
          "height": 286
        },
        "id": "nM2WkkRVnws_",
        "outputId": "d69c5c08-ca00-4933-e5d8-ae6eb1c7be8e"
      },
      "source": [
        "cm = confusion_matrix(y_test_kfold, y_pred_kfold)\r\n",
        "sns.heatmap(cm, annot=True, fmt='d')"
      ],
      "execution_count": 544,
      "outputs": [
        {
          "output_type": "execute_result",
          "data": {
            "text/plain": [
              "<matplotlib.axes._subplots.AxesSubplot at 0x7fc2f0f3a4e0>"
            ]
          },
          "metadata": {
            "tags": []
          },
          "execution_count": 544
        },
        {
          "output_type": "display_data",
          "data": {
            "image/png": "[encoded data removed]",
            "text/plain": [
              "<Figure size 432x288 with 2 Axes>"
            ]
          },
          "metadata": {
            "tags": [],
            "needs_background": "light"
          }
        }
      ]
    },
    {
      "cell_type": "markdown",
      "metadata": {
        "id": "bIB3FOOtnIoM"
      },
      "source": [
        "SVC"
      ]
    },
    {
      "cell_type": "code",
      "metadata": {
        "colab": {
          "base_uri": "https://localhost:8080/"
        },
        "id": "vqymTGwQlT9S",
        "outputId": "2a612df9-ddc5-41fd-9493-2aa34c1bc4e8"
      },
      "source": [
        "from sklearn.model_selection import GridSearchCV\r\n",
        "from sklearn.metrics import recall_score\r\n",
        "\r\n",
        "params_grid = {\r\n",
        "    'C': [0.01, 0.1, 1, 10, 100,],\r\n",
        "    'kernel': [\"linear\", \"rbf\"],\r\n",
        "    'class_weight': [None, \"balanced\"]\r\n",
        "}\r\n",
        "\r\n",
        "clf = GridSearchCV(SVC(), params_grid, scoring=\"recall\")\r\n",
        "clf.fit(X_train, y_train)"
      ],
      "execution_count": 549,
      "outputs": [
        {
          "output_type": "execute_result",
          "data": {
            "text/plain": [
              "GridSearchCV(cv=None, error_score=nan,\n",
              "             estimator=SVC(C=1.0, break_ties=False, cache_size=200,\n",
              "                           class_weight=None, coef0=0.0,\n",
              "                           decision_function_shape='ovr', degree=3,\n",
              "                           gamma='scale', kernel='rbf', max_iter=-1,\n",
              "                           probability=False, random_state=None, shrinking=True,\n",
              "                           tol=0.001, verbose=False),\n",
              "             iid='deprecated', n_jobs=None,\n",
              "             param_grid={'C': [0.01, 0.1, 1, 10, 100],\n",
              "                         'class_weight': [None, 'balanced'],\n",
              "                         'kernel': ['linear', 'rbf']},\n",
              "             pre_dispatch='2*n_jobs', refit=True, return_train_score=False,\n",
              "             scoring='recall', verbose=0)"
            ]
          },
          "metadata": {
            "tags": []
          },
          "execution_count": 549
        }
      ]
    },
    {
      "cell_type": "code",
      "metadata": {
        "id": "x6kqBu2mkP0C"
      },
      "source": [
        "model = SVC(C=1, class_weight=None, kernel=\"rbf\")\r\n",
        "model.fit(X_train, y_train)\r\n",
        "y_pred = model.predict(X_test)"
      ],
      "execution_count": 552,
      "outputs": []
    },
    {
      "cell_type": "code",
      "metadata": {
        "colab": {
          "base_uri": "https://localhost:8080/"
        },
        "id": "yrgbH6z5kefp",
        "outputId": "2e045734-c4ee-4127-c20d-c02a8c76196a"
      },
      "source": [
        "print(classification_report(y_test, y_pred))"
      ],
      "execution_count": 553,
      "outputs": [
        {
          "output_type": "stream",
          "text": [
            "              precision    recall  f1-score   support\n",
            "\n",
            "           0       0.51      0.67      0.58       363\n",
            "           1       0.50      0.34      0.40       357\n",
            "\n",
            "    accuracy                           0.51       720\n",
            "   macro avg       0.51      0.51      0.49       720\n",
            "weighted avg       0.51      0.51      0.49       720\n",
            "\n"
          ],
          "name": "stdout"
        }
      ]
    },
    {
      "cell_type": "code",
      "metadata": {
        "colab": {
          "base_uri": "https://localhost:8080/",
          "height": 286
        },
        "id": "N5RkN4oJkmbr",
        "outputId": "1995a8e4-817c-461c-d9ce-ecc848ea0136"
      },
      "source": [
        "cm = confusion_matrix(y_test, y_pred)\r\n",
        "sns.heatmap(cm, annot=True, fmt='d')"
      ],
      "execution_count": 554,
      "outputs": [
        {
          "output_type": "execute_result",
          "data": {
            "text/plain": [
              "<matplotlib.axes._subplots.AxesSubplot at 0x7fc2f0c62128>"
            ]
          },
          "metadata": {
            "tags": []
          },
          "execution_count": 554
        },
        {
          "output_type": "display_data",
          "data": {
            "image/png": "[encoded data removed]",
            "text/plain": [
              "<Figure size 432x288 with 2 Axes>"
            ]
          },
          "metadata": {
            "tags": [],
            "needs_background": "light"
          }
        }
      ]
    },
    {
      "cell_type": "code",
      "metadata": {
        "id": "P6PFBdzrnxHX"
      },
      "source": [
        "model.fit(X_train_kfold, y_train_kfold)\r\n",
        "y_pred = model.predict(X_test_kfold)"
      ],
      "execution_count": 555,
      "outputs": []
    },
    {
      "cell_type": "code",
      "metadata": {
        "colab": {
          "base_uri": "https://localhost:8080/"
        },
        "id": "fNPoJYEJn91b",
        "outputId": "78805c54-0512-4720-b9dd-1efab6b1f074"
      },
      "source": [
        "print(classification_report(y_test_kfold, y_pred))"
      ],
      "execution_count": 557,
      "outputs": [
        {
          "output_type": "stream",
          "text": [
            "              precision    recall  f1-score   support\n",
            "\n",
            "           0       0.49      0.57      0.52       362\n",
            "           1       0.48      0.40      0.44       357\n",
            "\n",
            "    accuracy                           0.48       719\n",
            "   macro avg       0.48      0.48      0.48       719\n",
            "weighted avg       0.48      0.48      0.48       719\n",
            "\n"
          ],
          "name": "stdout"
        }
      ]
    },
    {
      "cell_type": "code",
      "metadata": {
        "colab": {
          "base_uri": "https://localhost:8080/",
          "height": 286
        },
        "id": "vV9mURQPoH_z",
        "outputId": "0f61fee3-2bec-474d-9a5a-d3717216f12f"
      },
      "source": [
        "cm = confusion_matrix(y_test_kfold, y_pred)\r\n",
        "sns.heatmap(cm, annot=True, fmt='d')"
      ],
      "execution_count": 558,
      "outputs": [
        {
          "output_type": "execute_result",
          "data": {
            "text/plain": [
              "<matplotlib.axes._subplots.AxesSubplot at 0x7fc2f0b83c88>"
            ]
          },
          "metadata": {
            "tags": []
          },
          "execution_count": 558
        },
        {
          "output_type": "display_data",
          "data": {
            "image/png": "[encoded data removed]",
            "text/plain": [
              "<Figure size 432x288 with 2 Axes>"
            ]
          },
          "metadata": {
            "tags": [],
            "needs_background": "light"
          }
        }
      ]
    },
    {
      "cell_type": "code",
      "metadata": {
        "colab": {
          "base_uri": "https://localhost:8080/"
        },
        "id": "6E0RKh4nnZQk",
        "outputId": "fc142b4d-fa0a-40a9-e880-7bfb9d809ab5"
      },
      "source": [
        "vm = SVC()\r\n",
        "\r\n",
        "# Instantiate the GridSearchCV object and run the search\r\n",
        "parameters = {'C':[0.1, 1, 10], 'gamma':[0.00001, 0.0001, 0.001, 0.01, 0.1]}\r\n",
        "searcher = GridSearchCV(vm, parameters)\r\n",
        "searcher.fit(X_train, y_train)\r\n",
        "\r\n",
        "# Report the best parameters and the corresponding score\r\n",
        "print(\"Best CV params\", searcher.best_params_)\r\n",
        "print(\"Best CV accuracy\", searcher.best_score_)\r\n",
        "\r\n",
        "# Report the test accuracy using these best parameters\r\n",
        "print(\"Test accuracy of best grid search hypers:\", searcher.score(X_test, y_test))"
      ],
      "execution_count": 560,
      "outputs": [
        {
          "output_type": "stream",
          "text": [
            "Best CV params {'C': 10, 'gamma': 0.001}\n",
            "Best CV accuracy 0.5236527777777777\n",
            "Test accuracy of best grid search hypers: 0.5097222222222222\n"
          ],
          "name": "stdout"
        }
      ]
    },
    {
      "cell_type": "markdown",
      "metadata": {
        "id": "yaOJGGJjnn1v"
      },
      "source": [
        "drzewo"
      ]
    },
    {
      "cell_type": "code",
      "metadata": {
        "id": "Xxr4HPB3HC4u"
      },
      "source": [
        "from sklearn.tree import plot_tree"
      ],
      "execution_count": 518,
      "outputs": []
    },
    {
      "cell_type": "code",
      "metadata": {
        "id": "VYRi-QXsHC4t"
      },
      "source": [
        "from sklearn.tree import DecisionTreeClassifier\n",
        "from sklearn.model_selection import train_test_split"
      ],
      "execution_count": 519,
      "outputs": []
    },
    {
      "cell_type": "code",
      "metadata": {
        "id": "dJQoQSHHsKU5"
      },
      "source": [
        "def get_grid(data):\r\n",
        "    x_min, x_max = data[:, 0].min() - 1, data[:, 0].max() + 1\r\n",
        "    y_min, y_max = data[:, 1].min() - 1, data[:, 1].max() + 1\r\n",
        "    return np.meshgrid(np.arange(x_min, x_max, 0.01), np.arange(y_min, y_max, 0.01))"
      ],
      "execution_count": 520,
      "outputs": []
    },
    {
      "cell_type": "code",
      "metadata": {
        "colab": {
          "base_uri": "https://localhost:8080/"
        },
        "id": "pX8x8s8xsud6",
        "outputId": "b1602737-178f-4542-e377-ba673a828148"
      },
      "source": [
        "clf = DecisionTreeClassifier()\r\n",
        "\r\n",
        "clf.fit(X_train, y_train)"
      ],
      "execution_count": 521,
      "outputs": [
        {
          "output_type": "execute_result",
          "data": {
            "text/plain": [
              "DecisionTreeClassifier(ccp_alpha=0.0, class_weight=None, criterion='gini',\n",
              "                       max_depth=None, max_features=None, max_leaf_nodes=None,\n",
              "                       min_impurity_decrease=0.0, min_impurity_split=None,\n",
              "                       min_samples_leaf=1, min_samples_split=2,\n",
              "                       min_weight_fraction_leaf=0.0, presort='deprecated',\n",
              "                       random_state=None, splitter='best')"
            ]
          },
          "metadata": {
            "tags": []
          },
          "execution_count": 521
        }
      ]
    },
    {
      "cell_type": "code",
      "metadata": {
        "colab": {
          "base_uri": "https://localhost:8080/",
          "height": 983
        },
        "id": "RqF_vIn_tkCY",
        "outputId": "614b6916-0188-46d7-fada-087df30f5e36"
      },
      "source": [
        "plt.figure(dpi=300)\r\n",
        "plot_tree(clf)\r\n",
        "plt.show()"
      ],
      "execution_count": 522,
      "outputs": [
        {
          "output_type": "display_data",
          "data": {
            "image/png": "[encoded data removed]",
            "text/plain": [
              "<Figure size 1800x1200 with 1 Axes>"
            ]
          },
          "metadata": {
            "tags": [],
            "needs_background": "light"
          }
        }
      ]
    },
    {
      "cell_type": "code",
      "metadata": {
        "colab": {
          "base_uri": "https://localhost:8080/",
          "height": 446
        },
        "id": "Fwp3f3m9unwd",
        "outputId": "62bc1ab1-055a-4550-8753-0d0a89426e8f"
      },
      "source": [
        "clf = DecisionTreeClassifier()\r\n",
        "clf.fit(X_train_kfold, y_train_kfold)\r\n",
        "y_dt_train =  clf.predict(X_train_kfold)\r\n",
        "print_results(calculate_metrics(y_train_kfold.values, y_dt_train), 'Decision Tree train')\r\n",
        "cm = confusion_matrix(y_train_kfold, y_dt_train)\r\n",
        "sns.heatmap(cm, annot=True, fmt='d')\r\n"
      ],
      "execution_count": 523,
      "outputs": [
        {
          "output_type": "stream",
          "text": [
            "Results for Decision Tree train\n",
            "----\n",
            "  Accuracy:  0.7521724018074383\n",
            "  Precision: 0.7521724018074383\n",
            "  Recall:    0.7521724018074383\n",
            "  F1 score:  0.7521724018074383\n",
            "  Mislabeled 713 out of 2877\n",
            "\n",
            "\n"
          ],
          "name": "stdout"
        },
        {
          "output_type": "execute_result",
          "data": {
            "text/plain": [
              "<matplotlib.axes._subplots.AxesSubplot at 0x7fc2f2350eb8>"
            ]
          },
          "metadata": {
            "tags": []
          },
          "execution_count": 523
        },
        {
          "output_type": "display_data",
          "data": {
            "image/png": "[encoded data removed]",
            "text/plain": [
              "<Figure size 432x288 with 2 Axes>"
            ]
          },
          "metadata": {
            "tags": [],
            "needs_background": "light"
          }
        }
      ]
    },
    {
      "cell_type": "code",
      "metadata": {
        "colab": {
          "base_uri": "https://localhost:8080/",
          "height": 446
        },
        "id": "_72remIjIyeu",
        "outputId": "6320aa01-d0c9-4240-bb77-87a70ee585c3"
      },
      "source": [
        "y_dt = clf.predict(X_test_kfold)\r\n",
        "print_results(calculate_metrics(y_test_kfold.values, y_dt), 'Decision Tree train')\r\n",
        "cm = confusion_matrix(y_test_kfold, y_dt)\r\n",
        "sns.heatmap(cm, annot=True, fmt='d')"
      ],
      "execution_count": 524,
      "outputs": [
        {
          "output_type": "stream",
          "text": [
            "Results for Decision Tree train\n",
            "----\n",
            "  Accuracy:  0.4506258692628651\n",
            "  Precision: 0.4506258692628651\n",
            "  Recall:    0.4506258692628651\n",
            "  F1 score:  0.4506258692628651\n",
            "  Mislabeled 395 out of 719\n",
            "\n",
            "\n"
          ],
          "name": "stdout"
        },
        {
          "output_type": "execute_result",
          "data": {
            "text/plain": [
              "<matplotlib.axes._subplots.AxesSubplot at 0x7fc2f1406438>"
            ]
          },
          "metadata": {
            "tags": []
          },
          "execution_count": 524
        },
        {
          "output_type": "display_data",
          "data": {
            "image/png": "[encoded data removed]",
            "text/plain": [
              "<Figure size 432x288 with 2 Axes>"
            ]
          },
          "metadata": {
            "tags": [],
            "needs_background": "light"
          }
        }
      ]
    },
    {
      "cell_type": "code",
      "metadata": {
        "id": "UGylpccouqYQ"
      },
      "source": [
        "clf = DecisionTreeClassifier()\r\n",
        "clf.fit(X_train, y_train)\r\n",
        "y_dt = clf.predict(X_test)"
      ],
      "execution_count": 525,
      "outputs": []
    },
    {
      "cell_type": "code",
      "metadata": {
        "colab": {
          "base_uri": "https://localhost:8080/",
          "height": 446
        },
        "id": "lvCtyIhsvzS9",
        "outputId": "62bf81bf-fdf4-4576-b9d4-b76522dc773a"
      },
      "source": [
        "y_dt_train =  clf.predict(X_train)\r\n",
        "print_results(calculate_metrics(y_train.values, y_dt_train), 'Decision Tree train')\r\n",
        "cm = confusion_matrix(y_train, y_dt_train)\r\n",
        "sns.heatmap(cm, annot=True, fmt='d')\r\n"
      ],
      "execution_count": 526,
      "outputs": [
        {
          "output_type": "stream",
          "text": [
            "Results for Decision Tree train\n",
            "----\n",
            "  Accuracy:  0.7506954102920723\n",
            "  Precision: 0.7506954102920723\n",
            "  Recall:    0.7506954102920723\n",
            "  F1 score:  0.7506954102920722\n",
            "  Mislabeled 717 out of 2876\n",
            "\n",
            "\n"
          ],
          "name": "stdout"
        },
        {
          "output_type": "execute_result",
          "data": {
            "text/plain": [
              "<matplotlib.axes._subplots.AxesSubplot at 0x7fc2f1032d68>"
            ]
          },
          "metadata": {
            "tags": []
          },
          "execution_count": 526
        },
        {
          "output_type": "display_data",
          "data": {
            "image/png": "[encoded data removed]",
            "text/plain": [
              "<Figure size 432x288 with 2 Axes>"
            ]
          },
          "metadata": {
            "tags": [],
            "needs_background": "light"
          }
        }
      ]
    },
    {
      "cell_type": "code",
      "metadata": {
        "colab": {
          "base_uri": "https://localhost:8080/",
          "height": 446
        },
        "id": "7dIpXxPVJFwB",
        "outputId": "b985f111-0d64-428c-df5c-b54dd1971089"
      },
      "source": [
        "y_dt = clf.predict(X_test)\r\n",
        "print_results(calculate_metrics(y_test.values, y_dt), 'Decision Tree train')\r\n",
        "cm = confusion_matrix(y_test, y_dt)\r\n",
        "sns.heatmap(cm, annot=True, fmt='d')"
      ],
      "execution_count": 527,
      "outputs": [
        {
          "output_type": "stream",
          "text": [
            "Results for Decision Tree train\n",
            "----\n",
            "  Accuracy:  0.44722222222222224\n",
            "  Precision: 0.44722222222222224\n",
            "  Recall:    0.44722222222222224\n",
            "  F1 score:  0.4472222222222222\n",
            "  Mislabeled 398 out of 720\n",
            "\n",
            "\n"
          ],
          "name": "stdout"
        },
        {
          "output_type": "execute_result",
          "data": {
            "text/plain": [
              "<matplotlib.axes._subplots.AxesSubplot at 0x7fc2f0fce240>"
            ]
          },
          "metadata": {
            "tags": []
          },
          "execution_count": 527
        },
        {
          "output_type": "display_data",
          "data": {
            "image/png": "[encoded data removed]",
            "text/plain": [
              "<Figure size 432x288 with 2 Axes>"
            ]
          },
          "metadata": {
            "tags": [],
            "needs_background": "light"
          }
        }
      ]
    },
    {
      "cell_type": "code",
      "metadata": {
        "id": "RPusGb3pyPh6"
      },
      "source": [
        "def plot_confusion_matrix(confusion_matrix, classes, title=None,\r\n",
        "                          title_appendix='',\r\n",
        "                          cmap=plt.cm.Blues):\r\n",
        "    # tytuł wykresu\r\n",
        "    if title_appendix:\r\n",
        "        title_appendix = f'({title_appendix})'\r\n",
        "    if title is None:\r\n",
        "        title = f'Confusion matrix {title_appendix}'\r\n",
        "    fig, ax = plt.subplots()\r\n",
        "    # rysuje CM\r\n",
        "    img = ax.imshow(confusion_matrix, cmap=cmap)\r\n",
        "    # dodaje pasek z boku\r\n",
        "    ax.figure.colorbar(img, ax=ax)\r\n",
        "    # dodatki do wykresu\r\n",
        "    ax.set_xticks(np.arange(confusion_matrix.shape[1]))\r\n",
        "    ax.set_xticklabels(classes, rotation=45, ha='right', rotation_mode='anchor')\r\n",
        "    ax.set_yticks(np.arange(confusion_matrix.shape[0]))\r\n",
        "    ax.set_yticklabels(classes, rotation=45, ha='right', rotation_mode='anchor')\r\n",
        "    ax.set_title(title)\r\n",
        "    ax.set_ylabel('True label')\r\n",
        "    ax.set_xlabel('Predicted label')\r\n",
        "    # etykiety\r\n",
        "    fmt = '.2f' if confusion_matrix.dtype == 'float' else 'd'\r\n",
        "    thresh = confusion_matrix.max() / 2\r\n",
        "    for y, row in enumerate(confusion_matrix):\r\n",
        "        for x, cell in enumerate(row):\r\n",
        "            ax.text(x, y, format(cell, fmt),\r\n",
        "                    ha='center', va='center',\r\n",
        "                    color='white' if cell > thresh else 'black')\r\n",
        "    fig.tight_layout()\r\n",
        "    return ax"
      ],
      "execution_count": 528,
      "outputs": []
    },
    {
      "cell_type": "code",
      "metadata": {
        "id": "fgY22m0nwRkz"
      },
      "source": [
        ""
      ],
      "execution_count": 528,
      "outputs": []
    },
    {
      "cell_type": "code",
      "metadata": {
        "id": "929_YoGexdWR"
      },
      "source": [
        "#print_results(calculate_metrics(y_test.values, y_dt), 'Decision Tree test')\r\n",
        "#cm = confusion_matrix(y_test, y_dt)\r\n",
        "#plot_confusion_matrix(cm, y)"
      ],
      "execution_count": 529,
      "outputs": []
    },
    {
      "cell_type": "code",
      "metadata": {
        "id": "LpIQI66wzdMU"
      },
      "source": [
        "#classes = cleaneddata.pop(y).unique()"
      ],
      "execution_count": 530,
      "outputs": []
    },
    {
      "cell_type": "code",
      "metadata": {
        "colab": {
          "base_uri": "https://localhost:8080/",
          "height": 446
        },
        "id": "WdK-FDNJ3d5v",
        "outputId": "36781d50-87be-4802-9a3a-067690e8d5f1"
      },
      "source": [
        "print_results(calculate_metrics(y_test.values, y_dt), 'Decision Tree test')\r\n",
        "cm = confusion_matrix(y_test, y_dt)\r\n",
        "sns.heatmap(cm, annot=True, fmt='d')"
      ],
      "execution_count": 531,
      "outputs": [
        {
          "output_type": "stream",
          "text": [
            "Results for Decision Tree test\n",
            "----\n",
            "  Accuracy:  0.44722222222222224\n",
            "  Precision: 0.44722222222222224\n",
            "  Recall:    0.44722222222222224\n",
            "  F1 score:  0.4472222222222222\n",
            "  Mislabeled 398 out of 720\n",
            "\n",
            "\n"
          ],
          "name": "stdout"
        },
        {
          "output_type": "execute_result",
          "data": {
            "text/plain": [
              "<matplotlib.axes._subplots.AxesSubplot at 0x7fc2f1011cc0>"
            ]
          },
          "metadata": {
            "tags": []
          },
          "execution_count": 531
        },
        {
          "output_type": "display_data",
          "data": {
            "image/png": "[encoded data removed]",
            "text/plain": [
              "<Figure size 432x288 with 2 Axes>"
            ]
          },
          "metadata": {
            "tags": [],
            "needs_background": "light"
          }
        }
      ]
    },
    {
      "cell_type": "code",
      "metadata": {
        "colab": {
          "base_uri": "https://localhost:8080/"
        },
        "id": "MdO-JHJ93hes",
        "outputId": "feb5419f-035d-4128-cfda-d2fdfad523ed"
      },
      "source": [
        "from sklearn.ensemble import RandomForestClassifier\r\n",
        "randomforest = RandomForestClassifier()\r\n",
        "randomforest.fit(X_train, y_train)\r\n",
        "y_pred = randomforest.predict(X_test)\r\n",
        "acc_randomforest = round(accuracy_score(y_pred, y_test) * 100, 2)\r\n",
        "print(acc_randomforest)"
      ],
      "execution_count": 532,
      "outputs": [
        {
          "output_type": "stream",
          "text": [
            "46.11\n"
          ],
          "name": "stdout"
        }
      ]
    },
    {
      "cell_type": "code",
      "metadata": {
        "colab": {
          "base_uri": "https://localhost:8080/"
        },
        "id": "BgKTh_-i5AGA",
        "outputId": "88435d9d-6299-4cc6-9621-ddb34b63d484"
      },
      "source": [
        "from sklearn.metrics import classification_report\r\n",
        "print(classification_report(y_test,y_pred))"
      ],
      "execution_count": 533,
      "outputs": [
        {
          "output_type": "stream",
          "text": [
            "              precision    recall  f1-score   support\n",
            "\n",
            "           0       0.47      0.46      0.46       363\n",
            "           1       0.46      0.46      0.46       357\n",
            "\n",
            "    accuracy                           0.46       720\n",
            "   macro avg       0.46      0.46      0.46       720\n",
            "weighted avg       0.46      0.46      0.46       720\n",
            "\n"
          ],
          "name": "stdout"
        }
      ]
    },
    {
      "cell_type": "code",
      "metadata": {
        "colab": {
          "base_uri": "https://localhost:8080/"
        },
        "id": "dVVhp5la6MeE",
        "outputId": "79b21058-13f8-4c1e-ed88-e04c84db209a"
      },
      "source": [
        "print(X_train)"
      ],
      "execution_count": 534,
      "outputs": [
        {
          "output_type": "stream",
          "text": [
            "           Age  DistanceFromHome  ...  MaritalStatus_Married  MaritalStatus_Single\n",
            "2551  1.674585         -0.890934  ...                      0                     1\n",
            "1612 -0.408554          1.594254  ...                      1                     0\n",
            "31   -1.176027         -1.021734  ...                      1                     0\n",
            "1048 -0.189277         -1.021734  ...                      1                     0\n",
            "2936 -0.737471         -0.890934  ...                      1                     0\n",
            "...        ...               ...  ...                    ...                   ...\n",
            "297  -0.847110          1.463455  ...                      1                     0\n",
            "1570  1.784224         -0.890934  ...                      1                     0\n",
            "406  -1.724222          0.809458  ...                      0                     1\n",
            "846  -0.189277         -0.890934  ...                      0                     0\n",
            "1384  1.016752         -0.498536  ...                      0                     0\n",
            "\n",
            "[2876 rows x 26 columns]\n"
          ],
          "name": "stdout"
        }
      ]
    },
    {
      "cell_type": "code",
      "metadata": {
        "id": "Z7KqpdJAJ8my"
      },
      "source": [
        ""
      ],
      "execution_count": 534,
      "outputs": []
    },
    {
      "cell_type": "markdown",
      "metadata": {
        "id": "S02VGxcjqbN2"
      },
      "source": [
        "random forest"
      ]
    },
    {
      "cell_type": "code",
      "metadata": {
        "colab": {
          "base_uri": "https://localhost:8080/"
        },
        "id": "tqYht1x8qeSZ",
        "outputId": "2f468aa8-9520-4b49-b07a-9879e2ce9ab6"
      },
      "source": [
        "from sklearn.ensemble import RandomForestClassifier\r\n",
        "\r\n",
        "model = RandomForestClassifier()\r\n",
        "model.fit(X_train, y_train)\r\n",
        "y_pred = model.predict(X_test)\r\n",
        "print(classification_report(y_test, y_pred))"
      ],
      "execution_count": 562,
      "outputs": [
        {
          "output_type": "stream",
          "text": [
            "              precision    recall  f1-score   support\n",
            "\n",
            "           0       0.47      0.45      0.46       363\n",
            "           1       0.47      0.49      0.48       357\n",
            "\n",
            "    accuracy                           0.47       720\n",
            "   macro avg       0.47      0.47      0.47       720\n",
            "weighted avg       0.47      0.47      0.47       720\n",
            "\n"
          ],
          "name": "stdout"
        }
      ]
    },
    {
      "cell_type": "code",
      "metadata": {
        "id": "Q8n-Rz0SqnO8"
      },
      "source": [
        "from sklearn.naive_bayes import MultinomialNB, GaussianNB"
      ],
      "execution_count": 563,
      "outputs": []
    },
    {
      "cell_type": "code",
      "metadata": {
        "colab": {
          "base_uri": "https://localhost:8080/"
        },
        "id": "JVLdf4fhoK73",
        "outputId": "c3f95920-6a29-4ed7-dbcc-635c9f158393"
      },
      "source": [
        "clf = GaussianNB()\r\n",
        "clf.fit(X_train, y_train)"
      ],
      "execution_count": 564,
      "outputs": [
        {
          "output_type": "execute_result",
          "data": {
            "text/plain": [
              "GaussianNB(priors=None, var_smoothing=1e-09)"
            ]
          },
          "metadata": {
            "tags": []
          },
          "execution_count": 564
        }
      ]
    },
    {
      "cell_type": "code",
      "metadata": {
        "colab": {
          "base_uri": "https://localhost:8080/"
        },
        "id": "oAJtjSZvo75V",
        "outputId": "af334bf1-b8da-4d83-848f-4a8ff1496a04"
      },
      "source": [
        "y_pred = clf.predict(X_test)\r\n",
        "print(classification_report(y_test, y_pred))"
      ],
      "execution_count": 568,
      "outputs": [
        {
          "output_type": "stream",
          "text": [
            "              precision    recall  f1-score   support\n",
            "\n",
            "           0       0.50      0.69      0.58       363\n",
            "           1       0.48      0.30      0.37       357\n",
            "\n",
            "    accuracy                           0.49       720\n",
            "   macro avg       0.49      0.49      0.47       720\n",
            "weighted avg       0.49      0.49      0.47       720\n",
            "\n"
          ],
          "name": "stdout"
        }
      ]
    },
    {
      "cell_type": "code",
      "metadata": {
        "colab": {
          "base_uri": "https://localhost:8080/"
        },
        "id": "4Xm6lvW3pIYu",
        "outputId": "2c5b09a8-d07f-411f-c803-7c44c5997443"
      },
      "source": [
        "gnb = GaussianNB()  # inny klasyfikator\r\n",
        "gnb.fit(X_train, y_train)\r\n",
        "y_gnb = gnb.predict(X_test)\r\n",
        "print(y_test.values)\r\n",
        "print(y_gnb)\r\n",
        "print(confusion_matrix(y_test,y_gnb))"
      ],
      "execution_count": 571,
      "outputs": [
        {
          "output_type": "stream",
          "text": [
            "[1 1 1 0 0 0 1 0 1 1 0 1 0 0 1 0 1 1 1 1 1 0 1 0 0 1 0 0 0 0 0 1 0 1 0 1 0\n",
            " 1 0 0 0 0 0 1 0 1 0 0 0 0 0 0 0 0 1 1 1 0 1 1 0 1 1 1 1 0 0 1 0 0 0 1 0 0\n",
            " 0 1 1 0 1 1 0 1 0 1 0 0 0 1 0 0 1 0 0 1 0 0 0 1 0 0 1 1 0 0 1 0 0 1 1 1 1\n",
            " 0 0 1 1 1 1 1 0 0 1 1 0 1 1 0 1 1 1 1 0 1 0 1 1 1 0 1 0 0 1 1 1 0 1 0 0 0\n",
            " 0 1 1 0 0 0 1 1 1 1 0 1 1 0 0 0 0 0 0 1 0 0 0 0 1 0 0 1 0 1 0 1 1 0 1 0 1\n",
            " 1 1 1 1 1 1 1 0 0 0 0 0 0 1 0 1 0 1 1 1 1 0 0 0 0 1 0 1 1 1 1 1 1 0 1 1 1\n",
            " 1 0 1 0 0 1 1 0 0 0 0 1 0 1 0 1 0 1 1 1 0 0 0 1 1 0 1 0 0 0 0 0 1 1 0 1 0\n",
            " 0 1 0 1 1 1 0 1 0 1 1 0 0 1 0 1 0 1 0 0 1 0 0 0 0 0 0 1 0 1 1 0 1 0 0 1 0\n",
            " 1 0 1 0 1 1 1 0 0 1 0 0 1 1 1 0 0 0 0 1 0 1 1 1 0 0 1 0 0 0 1 1 1 0 1 0 1\n",
            " 0 0 1 1 1 0 1 1 0 1 0 1 0 0 0 0 1 1 0 1 0 1 1 1 1 1 1 1 0 0 0 0 0 0 0 0 1\n",
            " 0 0 1 1 0 0 0 0 1 0 1 0 0 1 0 0 1 1 0 0 0 0 0 1 1 1 0 1 1 0 0 1 1 0 1 0 1\n",
            " 1 0 0 1 1 1 1 0 0 1 1 1 0 1 0 1 0 0 1 0 1 1 1 1 1 0 0 0 1 1 0 1 0 1 1 0 1\n",
            " 0 1 1 0 1 1 0 0 1 0 0 0 1 0 1 1 1 0 0 0 1 0 1 0 0 1 1 0 0 1 1 0 0 0 1 0 0\n",
            " 1 0 1 0 0 0 0 0 1 1 1 1 1 1 1 0 0 1 1 0 0 0 0 0 1 0 1 1 0 1 0 0 0 0 1 1 0\n",
            " 1 1 1 0 1 1 0 0 1 1 1 0 1 0 0 1 0 1 1 0 1 0 1 0 1 1 0 0 1 0 0 1 0 0 1 1 1\n",
            " 1 1 1 1 0 0 1 1 0 0 0 1 0 1 1 1 1 1 0 0 1 1 0 1 0 1 0 0 1 1 1 1 1 0 0 1 1\n",
            " 0 1 0 1 1 1 1 0 0 1 1 1 0 1 0 1 1 1 0 0 1 0 0 1 1 1 0 1 0 0 0 1 0 1 1 0 0\n",
            " 0 0 0 0 1 0 1 0 1 1 1 0 1 0 1 0 0 0 0 1 0 0 1 0 0 1 0 1 0 0 1 1 0 1 0 1 0\n",
            " 0 1 0 1 1 0 1 1 1 1 0 0 1 1 1 1 0 0 1 1 0 1 0 1 0 1 0 0 1 1 0 0 0 1 1 0 0\n",
            " 1 0 0 1 0 1 1 1 1 0 0 0 0 0 0 1 1]\n",
            "[1 0 0 0 0 0 0 0 0 0 0 0 0 1 1 1 0 0 0 0 1 0 0 0 1 0 0 0 1 1 1 1 0 0 0 0 0\n",
            " 0 1 0 1 0 0 0 1 0 0 0 0 0 1 0 0 1 0 1 1 0 0 0 0 0 0 0 1 1 1 1 1 0 1 0 0 0\n",
            " 0 0 0 0 1 0 0 1 0 0 0 0 0 0 0 0 1 0 0 0 0 0 0 1 1 0 0 0 1 0 1 0 0 0 1 1 0\n",
            " 1 1 0 0 0 0 1 0 0 0 0 0 0 0 1 0 0 1 0 0 0 1 1 0 0 0 0 0 1 0 0 0 1 0 0 0 1\n",
            " 0 1 0 0 0 1 1 1 1 0 1 0 0 0 0 1 0 0 1 0 0 0 1 0 0 0 0 1 1 1 1 0 1 0 0 0 1\n",
            " 0 1 1 0 0 0 0 0 0 0 0 0 0 1 0 1 0 1 1 0 0 0 0 0 1 0 1 0 0 0 0 0 0 0 0 0 1\n",
            " 0 0 0 1 0 0 1 0 0 1 1 1 0 0 0 0 0 0 0 0 1 0 0 0 0 0 0 1 0 1 0 0 0 0 1 1 0\n",
            " 1 0 1 0 0 0 0 1 1 0 0 0 0 0 0 0 1 1 0 1 0 0 0 0 1 1 1 1 1 0 0 0 0 0 0 1 0\n",
            " 0 1 0 0 0 0 0 1 0 0 0 0 1 1 0 0 1 0 1 1 1 1 0 0 0 1 1 0 0 0 0 1 1 1 0 0 1\n",
            " 0 1 0 0 0 0 1 1 0 0 0 0 0 0 0 0 1 1 1 1 0 0 1 0 0 1 1 1 0 0 0 0 0 0 1 0 0\n",
            " 0 0 0 1 0 1 0 0 0 0 0 1 0 0 0 1 0 0 1 0 0 0 0 0 0 0 0 0 0 1 0 0 0 1 0 0 0\n",
            " 1 0 1 0 0 0 0 0 0 0 0 0 0 1 0 0 0 0 1 1 0 1 1 1 0 0 0 1 1 1 0 0 0 0 0 0 0\n",
            " 0 0 1 1 0 0 0 1 0 0 0 1 0 0 0 1 1 0 1 0 0 1 0 1 0 1 0 0 0 0 1 0 1 0 0 1 0\n",
            " 0 1 0 0 0 0 0 0 0 1 0 0 1 1 0 1 1 1 0 1 0 0 0 0 0 0 0 1 0 1 0 0 0 0 0 1 1\n",
            " 0 1 1 0 0 0 0 1 1 0 0 0 0 0 0 0 1 0 1 0 0 0 1 0 0 0 1 0 0 1 0 0 0 0 1 0 1\n",
            " 0 1 0 0 0 0 0 0 0 0 0 0 0 1 0 0 0 0 0 1 0 1 1 1 0 0 1 0 0 0 1 1 0 1 1 0 0\n",
            " 0 1 0 0 0 0 0 0 0 1 1 0 0 1 0 0 0 0 0 1 0 1 0 0 0 1 1 0 0 0 0 0 1 1 0 0 1\n",
            " 0 0 1 1 0 1 0 1 0 0 0 1 0 1 0 1 0 1 0 0 0 0 1 1 0 0 0 0 1 0 1 0 1 0 0 0 0\n",
            " 1 0 0 0 0 0 0 1 0 0 0 1 0 1 0 1 1 0 0 1 0 0 0 1 1 0 1 0 0 1 0 1 0 0 0 0 0\n",
            " 1 0 1 0 0 0 0 0 0 1 0 0 0 0 0 0 1]\n",
            "[[249 114]\n",
            " [250 107]]\n"
          ],
          "name": "stdout"
        }
      ]
    },
    {
      "cell_type": "code",
      "metadata": {
        "id": "m-BGlJbWphP9"
      },
      "source": [
        "from sklearn.metrics import accuracy_score, precision_score, recall_score, f1_score\r\n",
        "\r\n",
        "# average:\r\n",
        "#   None - wyniki dla każdej klasy osobno\r\n",
        "#   'binary' - dla wybranej w `pos_label` etykiety\r\n",
        "#   'micro' - dla całkowitej liczby TP, FN, FP\r\n",
        "#   'macro' - nieważona średnia dla każdej klasy\r\n",
        "#   'weighted' - ważona średnia dla każdej klasy\r\n",
        "\r\n",
        "def calculate_metrics(target, prediction, average='macro'):\r\n",
        "    accuracy = accuracy_score(target, prediction)\r\n",
        "    precision = precision_score(target, prediction, average=average)\r\n",
        "    recall = recall_score(target, prediction, average=average)\r\n",
        "    f1 = f1_score(target, prediction, average=average)\r\n",
        "    mislabeled = (target != prediction).sum()\r\n",
        "    total = len(target)\r\n",
        "    return accuracy, precision, recall, f1, mislabeled, total\r\n",
        "\r\n",
        "def print_results(metrics, classifier_id='classifier'):\r\n",
        "    print(f'Results for {classifier_id}')\r\n",
        "    print('----')\r\n",
        "    print(f'  Accuracy:  {metrics[0]}')\r\n",
        "    print(f'  Precision: {metrics[1]}')\r\n",
        "    print(f'  Recall:    {metrics[2]}')\r\n",
        "    print(f'  F1 score:  {metrics[3]}')\r\n",
        "    print(f'  Mislabeled {metrics[4]} out of {metrics[5]}')\r\n",
        "    print('\\n')"
      ],
      "execution_count": 572,
      "outputs": []
    },
    {
      "cell_type": "code",
      "metadata": {
        "colab": {
          "base_uri": "https://localhost:8080/"
        },
        "id": "f1NqGP-RpyJp",
        "outputId": "d36b9e84-5877-43b7-e7e4-8260df2d84a4"
      },
      "source": [
        "print_results(calculate_metrics(y_test.values, y_gnb), 'GNB')"
      ],
      "execution_count": 573,
      "outputs": [
        {
          "output_type": "stream",
          "text": [
            "Results for GNB\n",
            "----\n",
            "  Accuracy:  0.49444444444444446\n",
            "  Precision: 0.4915804459597929\n",
            "  Recall:    0.4928351505891613\n",
            "  F1 score:  0.47398421631515986\n",
            "  Mislabeled 364 out of 720\n",
            "\n",
            "\n"
          ],
          "name": "stdout"
        }
      ]
    },
    {
      "cell_type": "code",
      "metadata": {
        "colab": {
          "base_uri": "https://localhost:8080/",
          "height": 436
        },
        "id": "7xlo1XNHqW-P",
        "outputId": "04184021-840c-471b-c234-8fb2a605c2cb"
      },
      "source": [
        "x"
      ],
      "execution_count": 575,
      "outputs": [
        {
          "output_type": "execute_result",
          "data": {
            "text/html": [
              "<div>\n",
              "<style scoped>\n",
              "    .dataframe tbody tr th:only-of-type {\n",
              "        vertical-align: middle;\n",
              "    }\n",
              "\n",
              "    .dataframe tbody tr th {\n",
              "        vertical-align: top;\n",
              "    }\n",
              "\n",
              "    .dataframe thead th {\n",
              "        text-align: right;\n",
              "    }\n",
              "</style>\n",
              "<table border=\"1\" class=\"dataframe\">\n",
              "  <thead>\n",
              "    <tr style=\"text-align: right;\">\n",
              "      <th></th>\n",
              "      <th>Age</th>\n",
              "      <th>DistanceFromHome</th>\n",
              "      <th>HourlyRate</th>\n",
              "      <th>MonthlyIncome</th>\n",
              "      <th>Education</th>\n",
              "      <th>JobInvolvement</th>\n",
              "      <th>JobSatisfaction</th>\n",
              "      <th>NumCompaniesWorked</th>\n",
              "      <th>EducationField_Human Resources</th>\n",
              "      <th>EducationField_Life Sciences</th>\n",
              "      <th>EducationField_Marketing</th>\n",
              "      <th>EducationField_Medical</th>\n",
              "      <th>EducationField_Other</th>\n",
              "      <th>EducationField_Technical Degree</th>\n",
              "      <th>JobRole_Healthcare Representative</th>\n",
              "      <th>JobRole_Human Resources</th>\n",
              "      <th>JobRole_Laboratory Technician</th>\n",
              "      <th>JobRole_Manager</th>\n",
              "      <th>JobRole_Manufacturing Director</th>\n",
              "      <th>JobRole_Research Director</th>\n",
              "      <th>JobRole_Research Scientist</th>\n",
              "      <th>JobRole_Sales Executive</th>\n",
              "      <th>JobRole_Sales Representative</th>\n",
              "      <th>MaritalStatus_Divorced</th>\n",
              "      <th>MaritalStatus_Married</th>\n",
              "      <th>MaritalStatus_Single</th>\n",
              "    </tr>\n",
              "  </thead>\n",
              "  <tbody>\n",
              "    <tr>\n",
              "      <th>0</th>\n",
              "      <td>-0.737471</td>\n",
              "      <td>-1.021734</td>\n",
              "      <td>-0.544778</td>\n",
              "      <td>-0.291300</td>\n",
              "      <td>1.0</td>\n",
              "      <td>2.0</td>\n",
              "      <td>4.0</td>\n",
              "      <td>1.0</td>\n",
              "      <td>0</td>\n",
              "      <td>1</td>\n",
              "      <td>0</td>\n",
              "      <td>0</td>\n",
              "      <td>0</td>\n",
              "      <td>0</td>\n",
              "      <td>0</td>\n",
              "      <td>0</td>\n",
              "      <td>1</td>\n",
              "      <td>0</td>\n",
              "      <td>0</td>\n",
              "      <td>0</td>\n",
              "      <td>0</td>\n",
              "      <td>0</td>\n",
              "      <td>0</td>\n",
              "      <td>0</td>\n",
              "      <td>1</td>\n",
              "      <td>0</td>\n",
              "    </tr>\n",
              "    <tr>\n",
              "      <th>1</th>\n",
              "      <td>0.139640</td>\n",
              "      <td>-0.890934</td>\n",
              "      <td>-0.595045</td>\n",
              "      <td>0.270180</td>\n",
              "      <td>2.0</td>\n",
              "      <td>2.0</td>\n",
              "      <td>3.0</td>\n",
              "      <td>3.0</td>\n",
              "      <td>0</td>\n",
              "      <td>0</td>\n",
              "      <td>0</td>\n",
              "      <td>1</td>\n",
              "      <td>0</td>\n",
              "      <td>0</td>\n",
              "      <td>0</td>\n",
              "      <td>0</td>\n",
              "      <td>0</td>\n",
              "      <td>0</td>\n",
              "      <td>1</td>\n",
              "      <td>0</td>\n",
              "      <td>0</td>\n",
              "      <td>0</td>\n",
              "      <td>0</td>\n",
              "      <td>0</td>\n",
              "      <td>1</td>\n",
              "      <td>0</td>\n",
              "    </tr>\n",
              "    <tr>\n",
              "      <th>2</th>\n",
              "      <td>-1.176027</td>\n",
              "      <td>-0.367737</td>\n",
              "      <td>-0.997184</td>\n",
              "      <td>-0.880107</td>\n",
              "      <td>3.0</td>\n",
              "      <td>2.0</td>\n",
              "      <td>2.0</td>\n",
              "      <td>1.0</td>\n",
              "      <td>0</td>\n",
              "      <td>0</td>\n",
              "      <td>0</td>\n",
              "      <td>0</td>\n",
              "      <td>1</td>\n",
              "      <td>0</td>\n",
              "      <td>0</td>\n",
              "      <td>0</td>\n",
              "      <td>0</td>\n",
              "      <td>0</td>\n",
              "      <td>0</td>\n",
              "      <td>0</td>\n",
              "      <td>1</td>\n",
              "      <td>0</td>\n",
              "      <td>0</td>\n",
              "      <td>0</td>\n",
              "      <td>1</td>\n",
              "      <td>0</td>\n",
              "    </tr>\n",
              "    <tr>\n",
              "      <th>3</th>\n",
              "      <td>-0.956749</td>\n",
              "      <td>-0.106138</td>\n",
              "      <td>0.008164</td>\n",
              "      <td>-0.678999</td>\n",
              "      <td>2.0</td>\n",
              "      <td>3.0</td>\n",
              "      <td>4.0</td>\n",
              "      <td>1.0</td>\n",
              "      <td>0</td>\n",
              "      <td>1</td>\n",
              "      <td>0</td>\n",
              "      <td>0</td>\n",
              "      <td>0</td>\n",
              "      <td>0</td>\n",
              "      <td>0</td>\n",
              "      <td>0</td>\n",
              "      <td>0</td>\n",
              "      <td>0</td>\n",
              "      <td>0</td>\n",
              "      <td>0</td>\n",
              "      <td>1</td>\n",
              "      <td>0</td>\n",
              "      <td>0</td>\n",
              "      <td>0</td>\n",
              "      <td>0</td>\n",
              "      <td>1</td>\n",
              "    </tr>\n",
              "    <tr>\n",
              "      <th>4</th>\n",
              "      <td>-0.189277</td>\n",
              "      <td>-0.629336</td>\n",
              "      <td>0.460570</td>\n",
              "      <td>-0.969132</td>\n",
              "      <td>2.0</td>\n",
              "      <td>3.0</td>\n",
              "      <td>4.0</td>\n",
              "      <td>1.0</td>\n",
              "      <td>0</td>\n",
              "      <td>0</td>\n",
              "      <td>0</td>\n",
              "      <td>0</td>\n",
              "      <td>1</td>\n",
              "      <td>0</td>\n",
              "      <td>0</td>\n",
              "      <td>0</td>\n",
              "      <td>1</td>\n",
              "      <td>0</td>\n",
              "      <td>0</td>\n",
              "      <td>0</td>\n",
              "      <td>0</td>\n",
              "      <td>0</td>\n",
              "      <td>0</td>\n",
              "      <td>1</td>\n",
              "      <td>0</td>\n",
              "      <td>0</td>\n",
              "    </tr>\n",
              "    <tr>\n",
              "      <th>...</th>\n",
              "      <td>...</td>\n",
              "      <td>...</td>\n",
              "      <td>...</td>\n",
              "      <td>...</td>\n",
              "      <td>...</td>\n",
              "      <td>...</td>\n",
              "      <td>...</td>\n",
              "      <td>...</td>\n",
              "      <td>...</td>\n",
              "      <td>...</td>\n",
              "      <td>...</td>\n",
              "      <td>...</td>\n",
              "      <td>...</td>\n",
              "      <td>...</td>\n",
              "      <td>...</td>\n",
              "      <td>...</td>\n",
              "      <td>...</td>\n",
              "      <td>...</td>\n",
              "      <td>...</td>\n",
              "      <td>...</td>\n",
              "      <td>...</td>\n",
              "      <td>...</td>\n",
              "      <td>...</td>\n",
              "      <td>...</td>\n",
              "      <td>...</td>\n",
              "      <td>...</td>\n",
              "    </tr>\n",
              "    <tr>\n",
              "      <th>3591</th>\n",
              "      <td>0.468557</td>\n",
              "      <td>2.509850</td>\n",
              "      <td>-0.293441</td>\n",
              "      <td>1.511413</td>\n",
              "      <td>4.0</td>\n",
              "      <td>2.0</td>\n",
              "      <td>2.0</td>\n",
              "      <td>0.0</td>\n",
              "      <td>0</td>\n",
              "      <td>1</td>\n",
              "      <td>0</td>\n",
              "      <td>0</td>\n",
              "      <td>0</td>\n",
              "      <td>0</td>\n",
              "      <td>0</td>\n",
              "      <td>0</td>\n",
              "      <td>0</td>\n",
              "      <td>0</td>\n",
              "      <td>1</td>\n",
              "      <td>0</td>\n",
              "      <td>0</td>\n",
              "      <td>0</td>\n",
              "      <td>0</td>\n",
              "      <td>0</td>\n",
              "      <td>1</td>\n",
              "      <td>0</td>\n",
              "    </tr>\n",
              "    <tr>\n",
              "      <th>3592</th>\n",
              "      <td>0.468557</td>\n",
              "      <td>2.509850</td>\n",
              "      <td>-0.293441</td>\n",
              "      <td>1.511413</td>\n",
              "      <td>4.0</td>\n",
              "      <td>2.0</td>\n",
              "      <td>2.0</td>\n",
              "      <td>0.0</td>\n",
              "      <td>0</td>\n",
              "      <td>1</td>\n",
              "      <td>0</td>\n",
              "      <td>0</td>\n",
              "      <td>0</td>\n",
              "      <td>0</td>\n",
              "      <td>0</td>\n",
              "      <td>0</td>\n",
              "      <td>0</td>\n",
              "      <td>0</td>\n",
              "      <td>1</td>\n",
              "      <td>0</td>\n",
              "      <td>0</td>\n",
              "      <td>0</td>\n",
              "      <td>0</td>\n",
              "      <td>0</td>\n",
              "      <td>1</td>\n",
              "      <td>0</td>\n",
              "    </tr>\n",
              "    <tr>\n",
              "      <th>3593</th>\n",
              "      <td>0.578196</td>\n",
              "      <td>-0.367737</td>\n",
              "      <td>0.862709</td>\n",
              "      <td>1.464018</td>\n",
              "      <td>3.0</td>\n",
              "      <td>3.0</td>\n",
              "      <td>1.0</td>\n",
              "      <td>9.0</td>\n",
              "      <td>0</td>\n",
              "      <td>0</td>\n",
              "      <td>0</td>\n",
              "      <td>1</td>\n",
              "      <td>0</td>\n",
              "      <td>0</td>\n",
              "      <td>0</td>\n",
              "      <td>0</td>\n",
              "      <td>0</td>\n",
              "      <td>0</td>\n",
              "      <td>0</td>\n",
              "      <td>1</td>\n",
              "      <td>0</td>\n",
              "      <td>0</td>\n",
              "      <td>0</td>\n",
              "      <td>0</td>\n",
              "      <td>1</td>\n",
              "      <td>0</td>\n",
              "    </tr>\n",
              "    <tr>\n",
              "      <th>3594</th>\n",
              "      <td>0.578196</td>\n",
              "      <td>-0.367737</td>\n",
              "      <td>0.862709</td>\n",
              "      <td>1.464018</td>\n",
              "      <td>3.0</td>\n",
              "      <td>3.0</td>\n",
              "      <td>1.0</td>\n",
              "      <td>9.0</td>\n",
              "      <td>0</td>\n",
              "      <td>0</td>\n",
              "      <td>0</td>\n",
              "      <td>1</td>\n",
              "      <td>0</td>\n",
              "      <td>0</td>\n",
              "      <td>0</td>\n",
              "      <td>0</td>\n",
              "      <td>0</td>\n",
              "      <td>0</td>\n",
              "      <td>0</td>\n",
              "      <td>1</td>\n",
              "      <td>0</td>\n",
              "      <td>0</td>\n",
              "      <td>0</td>\n",
              "      <td>0</td>\n",
              "      <td>1</td>\n",
              "      <td>0</td>\n",
              "    </tr>\n",
              "    <tr>\n",
              "      <th>3595</th>\n",
              "      <td>0.578196</td>\n",
              "      <td>-0.367737</td>\n",
              "      <td>0.862709</td>\n",
              "      <td>1.464018</td>\n",
              "      <td>3.0</td>\n",
              "      <td>3.0</td>\n",
              "      <td>1.0</td>\n",
              "      <td>9.0</td>\n",
              "      <td>0</td>\n",
              "      <td>0</td>\n",
              "      <td>0</td>\n",
              "      <td>1</td>\n",
              "      <td>0</td>\n",
              "      <td>0</td>\n",
              "      <td>0</td>\n",
              "      <td>0</td>\n",
              "      <td>0</td>\n",
              "      <td>0</td>\n",
              "      <td>0</td>\n",
              "      <td>1</td>\n",
              "      <td>0</td>\n",
              "      <td>0</td>\n",
              "      <td>0</td>\n",
              "      <td>0</td>\n",
              "      <td>1</td>\n",
              "      <td>0</td>\n",
              "    </tr>\n",
              "  </tbody>\n",
              "</table>\n",
              "<p>3596 rows × 26 columns</p>\n",
              "</div>"
            ],
            "text/plain": [
              "           Age  DistanceFromHome  ...  MaritalStatus_Married  MaritalStatus_Single\n",
              "0    -0.737471         -1.021734  ...                      1                     0\n",
              "1     0.139640         -0.890934  ...                      1                     0\n",
              "2    -1.176027         -0.367737  ...                      1                     0\n",
              "3    -0.956749         -0.106138  ...                      0                     1\n",
              "4    -0.189277         -0.629336  ...                      0                     0\n",
              "...        ...               ...  ...                    ...                   ...\n",
              "3591  0.468557          2.509850  ...                      1                     0\n",
              "3592  0.468557          2.509850  ...                      1                     0\n",
              "3593  0.578196         -0.367737  ...                      1                     0\n",
              "3594  0.578196         -0.367737  ...                      1                     0\n",
              "3595  0.578196         -0.367737  ...                      1                     0\n",
              "\n",
              "[3596 rows x 26 columns]"
            ]
          },
          "metadata": {
            "tags": []
          },
          "execution_count": 575
        }
      ]
    },
    {
      "cell_type": "code",
      "metadata": {
        "colab": {
          "base_uri": "https://localhost:8080/"
        },
        "id": "rV_tp5lNuLyw",
        "outputId": "a7957967-2f58-4cf8-e942-426ee80c78c7"
      },
      "source": [
        "from sklearn.ensemble import RandomForestRegressor\r\n",
        "from sklearn.metrics import mean_absolute_error\r\n",
        "\r\n",
        "forest_model = RandomForestRegressor(random_state=1)\r\n",
        "forest_model.fit(X_train, y_train)\r\n",
        "melb_preds = forest_model.predict(X_test)\r\n",
        "print(mean_absolute_error(y_test, melb_preds))"
      ],
      "execution_count": 599,
      "outputs": [
        {
          "output_type": "stream",
          "text": [
            "0.5342123246352414\n"
          ],
          "name": "stdout"
        }
      ]
    },
    {
      "cell_type": "code",
      "metadata": {
        "colab": {
          "base_uri": "https://localhost:8080/",
          "height": 221
        },
        "id": "pwbTmgWkusmx",
        "outputId": "195a7df4-49cd-4139-a6d9-d6d113f12c24"
      },
      "source": [
        "from sklearn.model_selection import GridSearchCV\r\n",
        "from sklearn.ensemble import RandomForestClassifier\r\n",
        "\r\n",
        "rf = RandomForestClassifier(max_features='auto', oob_score=True, random_state=1, n_jobs=-1)\r\n",
        "\r\n",
        "param_grid = { \"criterion\" : [\"gini\", \"entropy\"], \"min_samples_leaf\" : [1, 5, 10], \"min_samples_split\" : [2, 4, 10, 12, 16], \"n_estimators\": [50, 100, 400, 700, 1000]}\r\n",
        "\r\n",
        "gs = GridSearchCV(estimator=rf, param_grid=param_grid, scoring='accuracy', cv=3, n_jobs=-1)\r\n",
        "\r\n",
        "gs = gs.fit(X_train, y_train)\r\n",
        "\r\n"
      ],
      "execution_count": 601,
      "outputs": [
        {
          "output_type": "error",
          "ename": "AttributeError",
          "evalue": "ignored",
          "traceback": [
            "\u001b[0;31m---------------------------------------------------------------------------\u001b[0m",
            "\u001b[0;31mAttributeError\u001b[0m                            Traceback (most recent call last)",
            "\u001b[0;32m<ipython-input-601-7a9f2ae13fb6>\u001b[0m in \u001b[0;36m<module>\u001b[0;34m()\u001b[0m\n\u001b[1;32m     11\u001b[0m \u001b[0;34m\u001b[0m\u001b[0m\n\u001b[1;32m     12\u001b[0m \u001b[0;31m#print(gs.bestscore)\u001b[0m\u001b[0;34m\u001b[0m\u001b[0;34m\u001b[0m\u001b[0;34m\u001b[0m\u001b[0m\n\u001b[0;32m---> 13\u001b[0;31m \u001b[0mprint\u001b[0m\u001b[0;34m(\u001b[0m\u001b[0mgs\u001b[0m\u001b[0;34m.\u001b[0m\u001b[0mbestparams\u001b[0m\u001b[0;34m)\u001b[0m\u001b[0;34m\u001b[0m\u001b[0;34m\u001b[0m\u001b[0m\n\u001b[0m\u001b[1;32m     14\u001b[0m \u001b[0mprint\u001b[0m\u001b[0;34m(\u001b[0m\u001b[0mgs\u001b[0m\u001b[0;34m.\u001b[0m\u001b[0mcvresults\u001b[0m\u001b[0;34m)\u001b[0m\u001b[0;34m\u001b[0m\u001b[0;34m\u001b[0m\u001b[0m\n",
            "\u001b[0;31mAttributeError\u001b[0m: 'GridSearchCV' object has no attribute 'bestparams'"
          ]
        }
      ]
    },
    {
      "cell_type": "code",
      "metadata": {
        "colab": {
          "base_uri": "https://localhost:8080/"
        },
        "id": "PkpylLv32ier",
        "outputId": "add50d34-2b77-4502-e6dc-6581d1fc7f55"
      },
      "source": [
        "gspred = gs.predict(X_test)\r\n",
        "print(mean_absolute_error(y_test, gspred))"
      ],
      "execution_count": 602,
      "outputs": [
        {
          "output_type": "stream",
          "text": [
            "0.5208333333333334\n"
          ],
          "name": "stdout"
        }
      ]
    },
    {
      "cell_type": "code",
      "metadata": {
        "id": "LdjrIXriwLoi"
      },
      "source": [
        "from sklearn.ensemble import RandomForestClassifier\r\n",
        "\r\n",
        "rf = RandomForestClassifier(criterion='gini', \r\n",
        "                             n_estimators=700,\r\n",
        "                             min_samples_split=10,\r\n",
        "                             min_samples_leaf=1,\r\n",
        "                             max_features='auto',\r\n",
        "                             oob_score=True,\r\n",
        "                             random_state=1,\r\n",
        "                             n_jobs=-1)\r\n",
        "rf.fit(train.iloc[:, 1:], train.iloc[:, 0])\r\n",
        "print(\"%.4f\" % rf.oob_score_)"
      ],
      "execution_count": null,
      "outputs": []
    },
    {
      "cell_type": "code",
      "metadata": {
        "id": "lubHDhmwwew4"
      },
      "source": [
        "# pd.concat((pd.DataFrame(X_train.columns, columns = ['variable']), \r\n",
        "#            pd.DataFrame(rf.feature_importances_, columns = ['importance'])), \r\n",
        "#           axis = 1).sort_values(by='importance', ascending = False)[:20]"
      ],
      "execution_count": null,
      "outputs": []
    },
    {
      "cell_type": "code",
      "metadata": {
        "id": "B-E7J6RwwoZ-"
      },
      "source": [
        "# predictions = rf.predict(test)\r\n",
        "# predictions = pd.DataFrame(predictions, columns=['Survived'])\r\n",
        "# test = pd.read_csv(os.path.join('../input', 'test.csv'))\r\n",
        "# predictions = pd.concat((test.iloc[:, 0], predictions), axis = 1)\r\n",
        "# predictions.to_csv('y_test15.csv', sep=\",\", index = False)"
      ],
      "execution_count": null,
      "outputs": []
    }
  ]
}